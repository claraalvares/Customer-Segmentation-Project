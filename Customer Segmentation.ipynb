{
 "cells": [
  {
   "cell_type": "markdown",
   "metadata": {},
   "source": [
    "## **Segmentação de Usuários / Customer Segmentation:**\n",
    "### Using RFM Model and K-means Clustering"
   ]
  },
  {
   "cell_type": "markdown",
   "metadata": {},
   "source": [
    "**Clara Álvares Camargo**  \n",
    "Novembro/2024 "
   ]
  },
  {
   "cell_type": "markdown",
   "metadata": {},
   "source": [
    "###### DASHBOARD: https://public.tableau.com/views/EverythingPlusData_SalesAnalysisandCustomerBehavior/Painel1?:language=pt-BR&publish=yes&:sid=&:redirect=auth&:display_count=n&:origin=viz_share_link"
   ]
  },
  {
   "cell_type": "markdown",
   "metadata": {},
   "source": [
    "## 0. Bibliotecas"
   ]
  },
  {
   "cell_type": "code",
   "execution_count": 1,
   "metadata": {},
   "outputs": [],
   "source": [
    "# importando bibliotecas\n",
    "\n",
    "import pandas as pd\n",
    "from matplotlib import pyplot as plt\n",
    "import seaborn as sns\n",
    "import scipy.stats as stats\n",
    "import numpy as np"
   ]
  },
  {
   "cell_type": "code",
   "execution_count": 2,
   "metadata": {},
   "outputs": [],
   "source": [
    "# importando bibliotecas\n",
    "\n",
    "from sklearn.cluster import KMeans\n",
    "from sklearn.preprocessing import MinMaxScaler\n",
    "from sklearn.metrics import silhouette_score"
   ]
  },
  {
   "cell_type": "markdown",
   "metadata": {},
   "source": [
    "## 1. Dados"
   ]
  },
  {
   "cell_type": "markdown",
   "metadata": {},
   "source": [
    "### 1.0. Resumo dos dados"
   ]
  },
  {
   "cell_type": "markdown",
   "metadata": {},
   "source": [
    "Histórico de transações da **Everything Plus**.  \n",
    "  \n",
    "**Fonte**: 'ecommerce_dataset_us.csv' \n",
    "   \n",
    "**Composição**:  \n",
    "    `InvoiceNo` — identificador de pedido  \n",
    "    `StockCode` — identificador de item  \n",
    "    `Description` — nome de item  \n",
    "    `Quantity`  \n",
    "    `InvoiceDate` — data do pedido  \n",
    "    `UnitPrice` — preço por item  \n",
    "    `CustomerID`  \n",
    "      \n",
    "**Período**: 2018-11-29 a 2019-12-07 (AAAA-MM-DD)"
   ]
  },
  {
   "cell_type": "markdown",
   "metadata": {},
   "source": [
    "### 1.1. Importação e visualização dos dados"
   ]
  },
  {
   "cell_type": "code",
   "execution_count": 3,
   "metadata": {},
   "outputs": [],
   "source": [
    "# importando dados \n",
    "customers_data_raw = pd.read_csv(\"ecommerce_dataset_us.csv\", sep=\"\\t\")"
   ]
  },
  {
   "cell_type": "markdown",
   "metadata": {},
   "source": [
    "### 1.2. EDA"
   ]
  },
  {
   "cell_type": "markdown",
   "metadata": {},
   "source": [
    "#### 1.2.1. Visualização dos dados"
   ]
  },
  {
   "cell_type": "code",
   "execution_count": 4,
   "metadata": {},
   "outputs": [
    {
     "name": "stdout",
     "output_type": "stream",
     "text": [
      "<class 'pandas.core.frame.DataFrame'>\n",
      "RangeIndex: 541909 entries, 0 to 541908\n",
      "Data columns (total 7 columns):\n",
      " #   Column       Non-Null Count   Dtype  \n",
      "---  ------       --------------   -----  \n",
      " 0   InvoiceNo    541909 non-null  object \n",
      " 1   StockCode    541909 non-null  object \n",
      " 2   Description  540455 non-null  object \n",
      " 3   Quantity     541909 non-null  int64  \n",
      " 4   InvoiceDate  541909 non-null  object \n",
      " 5   UnitPrice    541909 non-null  float64\n",
      " 6   CustomerID   406829 non-null  float64\n",
      "dtypes: float64(2), int64(1), object(4)\n",
      "memory usage: 28.9+ MB\n"
     ]
    }
   ],
   "source": [
    "# visualizando dados\n",
    "customers_data_raw.info()"
   ]
  },
  {
   "cell_type": "code",
   "execution_count": 5,
   "metadata": {},
   "outputs": [
    {
     "data": {
      "text/html": [
       "<div>\n",
       "<style scoped>\n",
       "    .dataframe tbody tr th:only-of-type {\n",
       "        vertical-align: middle;\n",
       "    }\n",
       "\n",
       "    .dataframe tbody tr th {\n",
       "        vertical-align: top;\n",
       "    }\n",
       "\n",
       "    .dataframe thead th {\n",
       "        text-align: right;\n",
       "    }\n",
       "</style>\n",
       "<table border=\"1\" class=\"dataframe\">\n",
       "  <thead>\n",
       "    <tr style=\"text-align: right;\">\n",
       "      <th></th>\n",
       "      <th>InvoiceNo</th>\n",
       "      <th>StockCode</th>\n",
       "      <th>Description</th>\n",
       "      <th>Quantity</th>\n",
       "      <th>InvoiceDate</th>\n",
       "      <th>UnitPrice</th>\n",
       "      <th>CustomerID</th>\n",
       "    </tr>\n",
       "  </thead>\n",
       "  <tbody>\n",
       "    <tr>\n",
       "      <th>0</th>\n",
       "      <td>536365</td>\n",
       "      <td>85123A</td>\n",
       "      <td>WHITE HANGING HEART T-LIGHT HOLDER</td>\n",
       "      <td>6</td>\n",
       "      <td>11/29/2018 08:26</td>\n",
       "      <td>2.55</td>\n",
       "      <td>17850.0</td>\n",
       "    </tr>\n",
       "    <tr>\n",
       "      <th>1</th>\n",
       "      <td>536365</td>\n",
       "      <td>71053</td>\n",
       "      <td>WHITE METAL LANTERN</td>\n",
       "      <td>6</td>\n",
       "      <td>11/29/2018 08:26</td>\n",
       "      <td>3.39</td>\n",
       "      <td>17850.0</td>\n",
       "    </tr>\n",
       "    <tr>\n",
       "      <th>2</th>\n",
       "      <td>536365</td>\n",
       "      <td>84406B</td>\n",
       "      <td>CREAM CUPID HEARTS COAT HANGER</td>\n",
       "      <td>8</td>\n",
       "      <td>11/29/2018 08:26</td>\n",
       "      <td>2.75</td>\n",
       "      <td>17850.0</td>\n",
       "    </tr>\n",
       "    <tr>\n",
       "      <th>3</th>\n",
       "      <td>536365</td>\n",
       "      <td>84029G</td>\n",
       "      <td>KNITTED UNION FLAG HOT WATER BOTTLE</td>\n",
       "      <td>6</td>\n",
       "      <td>11/29/2018 08:26</td>\n",
       "      <td>3.39</td>\n",
       "      <td>17850.0</td>\n",
       "    </tr>\n",
       "    <tr>\n",
       "      <th>4</th>\n",
       "      <td>536365</td>\n",
       "      <td>84029E</td>\n",
       "      <td>RED WOOLLY HOTTIE WHITE HEART.</td>\n",
       "      <td>6</td>\n",
       "      <td>11/29/2018 08:26</td>\n",
       "      <td>3.39</td>\n",
       "      <td>17850.0</td>\n",
       "    </tr>\n",
       "  </tbody>\n",
       "</table>\n",
       "</div>"
      ],
      "text/plain": [
       "  InvoiceNo StockCode                          Description  Quantity  \\\n",
       "0    536365    85123A   WHITE HANGING HEART T-LIGHT HOLDER         6   \n",
       "1    536365     71053                  WHITE METAL LANTERN         6   \n",
       "2    536365    84406B       CREAM CUPID HEARTS COAT HANGER         8   \n",
       "3    536365    84029G  KNITTED UNION FLAG HOT WATER BOTTLE         6   \n",
       "4    536365    84029E       RED WOOLLY HOTTIE WHITE HEART.         6   \n",
       "\n",
       "        InvoiceDate  UnitPrice  CustomerID  \n",
       "0  11/29/2018 08:26       2.55     17850.0  \n",
       "1  11/29/2018 08:26       3.39     17850.0  \n",
       "2  11/29/2018 08:26       2.75     17850.0  \n",
       "3  11/29/2018 08:26       3.39     17850.0  \n",
       "4  11/29/2018 08:26       3.39     17850.0  "
      ]
     },
     "execution_count": 5,
     "metadata": {},
     "output_type": "execute_result"
    }
   ],
   "source": [
    "# visualizando dados\n",
    "customers_data_raw.head()"
   ]
  },
  {
   "cell_type": "code",
   "execution_count": 6,
   "metadata": {},
   "outputs": [
    {
     "data": {
      "text/html": [
       "<div>\n",
       "<style scoped>\n",
       "    .dataframe tbody tr th:only-of-type {\n",
       "        vertical-align: middle;\n",
       "    }\n",
       "\n",
       "    .dataframe tbody tr th {\n",
       "        vertical-align: top;\n",
       "    }\n",
       "\n",
       "    .dataframe thead th {\n",
       "        text-align: right;\n",
       "    }\n",
       "</style>\n",
       "<table border=\"1\" class=\"dataframe\">\n",
       "  <thead>\n",
       "    <tr style=\"text-align: right;\">\n",
       "      <th></th>\n",
       "      <th>InvoiceNo</th>\n",
       "      <th>StockCode</th>\n",
       "      <th>Description</th>\n",
       "      <th>Quantity</th>\n",
       "      <th>InvoiceDate</th>\n",
       "      <th>UnitPrice</th>\n",
       "      <th>CustomerID</th>\n",
       "    </tr>\n",
       "  </thead>\n",
       "  <tbody>\n",
       "    <tr>\n",
       "      <th>199742</th>\n",
       "      <td>554102</td>\n",
       "      <td>22964</td>\n",
       "      <td>3 PIECE SPACEBOY COOKIE CUTTER SET</td>\n",
       "      <td>2</td>\n",
       "      <td>05/20/2019 13:40</td>\n",
       "      <td>2.10</td>\n",
       "      <td>14647.0</td>\n",
       "    </tr>\n",
       "    <tr>\n",
       "      <th>44253</th>\n",
       "      <td>540163</td>\n",
       "      <td>84970L</td>\n",
       "      <td>SINGLE HEART ZINC T-LIGHT HOLDER</td>\n",
       "      <td>24</td>\n",
       "      <td>01/03/2019 11:52</td>\n",
       "      <td>0.95</td>\n",
       "      <td>13089.0</td>\n",
       "    </tr>\n",
       "    <tr>\n",
       "      <th>388505</th>\n",
       "      <td>570442</td>\n",
       "      <td>85123A</td>\n",
       "      <td>WHITE HANGING HEART T-LIGHT HOLDER</td>\n",
       "      <td>2</td>\n",
       "      <td>10/08/2019 14:37</td>\n",
       "      <td>2.95</td>\n",
       "      <td>16549.0</td>\n",
       "    </tr>\n",
       "    <tr>\n",
       "      <th>9519</th>\n",
       "      <td>537204</td>\n",
       "      <td>20733</td>\n",
       "      <td>GOLD MINI TAPE MEASURE</td>\n",
       "      <td>3</td>\n",
       "      <td>12/03/2018 14:45</td>\n",
       "      <td>0.85</td>\n",
       "      <td>15555.0</td>\n",
       "    </tr>\n",
       "    <tr>\n",
       "      <th>156326</th>\n",
       "      <td>550131</td>\n",
       "      <td>22982</td>\n",
       "      <td>PANTRY PASTRY BRUSH</td>\n",
       "      <td>12</td>\n",
       "      <td>04/12/2019 13:27</td>\n",
       "      <td>1.25</td>\n",
       "      <td>15935.0</td>\n",
       "    </tr>\n",
       "    <tr>\n",
       "      <th>389311</th>\n",
       "      <td>570466</td>\n",
       "      <td>23372</td>\n",
       "      <td>SET 36 COLOUR PENCILS DOLLY GIRL</td>\n",
       "      <td>3</td>\n",
       "      <td>10/08/2019 16:03</td>\n",
       "      <td>1.25</td>\n",
       "      <td>16791.0</td>\n",
       "    </tr>\n",
       "    <tr>\n",
       "      <th>83068</th>\n",
       "      <td>543281</td>\n",
       "      <td>85170B</td>\n",
       "      <td>SET/6 BLACK BIRD T-LIGHT CANDLES</td>\n",
       "      <td>1</td>\n",
       "      <td>02/04/2019 15:34</td>\n",
       "      <td>2.10</td>\n",
       "      <td>14606.0</td>\n",
       "    </tr>\n",
       "    <tr>\n",
       "      <th>166502</th>\n",
       "      <td>550925</td>\n",
       "      <td>22781</td>\n",
       "      <td>GUMBALL MAGAZINE RACK</td>\n",
       "      <td>2</td>\n",
       "      <td>04/19/2019 14:37</td>\n",
       "      <td>7.65</td>\n",
       "      <td>17061.0</td>\n",
       "    </tr>\n",
       "    <tr>\n",
       "      <th>70315</th>\n",
       "      <td>542003</td>\n",
       "      <td>21561</td>\n",
       "      <td>DINOSAUR LUNCH BOX WITH CUTLERY</td>\n",
       "      <td>60</td>\n",
       "      <td>01/23/2019 11:07</td>\n",
       "      <td>2.10</td>\n",
       "      <td>15311.0</td>\n",
       "    </tr>\n",
       "    <tr>\n",
       "      <th>331124</th>\n",
       "      <td>565971</td>\n",
       "      <td>23201</td>\n",
       "      <td>JUMBO BAG ALPHABET</td>\n",
       "      <td>2</td>\n",
       "      <td>09/06/2019 11:27</td>\n",
       "      <td>2.08</td>\n",
       "      <td>13571.0</td>\n",
       "    </tr>\n",
       "  </tbody>\n",
       "</table>\n",
       "</div>"
      ],
      "text/plain": [
       "       InvoiceNo StockCode                         Description  Quantity  \\\n",
       "199742    554102     22964  3 PIECE SPACEBOY COOKIE CUTTER SET         2   \n",
       "44253     540163    84970L    SINGLE HEART ZINC T-LIGHT HOLDER        24   \n",
       "388505    570442    85123A  WHITE HANGING HEART T-LIGHT HOLDER         2   \n",
       "9519      537204     20733             GOLD MINI TAPE MEASURE          3   \n",
       "156326    550131     22982                 PANTRY PASTRY BRUSH        12   \n",
       "389311    570466     23372    SET 36 COLOUR PENCILS DOLLY GIRL         3   \n",
       "83068     543281    85170B    SET/6 BLACK BIRD T-LIGHT CANDLES         1   \n",
       "166502    550925     22781               GUMBALL MAGAZINE RACK         2   \n",
       "70315     542003     21561     DINOSAUR LUNCH BOX WITH CUTLERY        60   \n",
       "331124    565971     23201                  JUMBO BAG ALPHABET         2   \n",
       "\n",
       "             InvoiceDate  UnitPrice  CustomerID  \n",
       "199742  05/20/2019 13:40       2.10     14647.0  \n",
       "44253   01/03/2019 11:52       0.95     13089.0  \n",
       "388505  10/08/2019 14:37       2.95     16549.0  \n",
       "9519    12/03/2018 14:45       0.85     15555.0  \n",
       "156326  04/12/2019 13:27       1.25     15935.0  \n",
       "389311  10/08/2019 16:03       1.25     16791.0  \n",
       "83068   02/04/2019 15:34       2.10     14606.0  \n",
       "166502  04/19/2019 14:37       7.65     17061.0  \n",
       "70315   01/23/2019 11:07       2.10     15311.0  \n",
       "331124  09/06/2019 11:27       2.08     13571.0  "
      ]
     },
     "execution_count": 6,
     "metadata": {},
     "output_type": "execute_result"
    }
   ],
   "source": [
    "# visualizando dados\n",
    "customers_data_raw.sample(10)"
   ]
  },
  {
   "cell_type": "code",
   "execution_count": 7,
   "metadata": {},
   "outputs": [
    {
     "data": {
      "text/html": [
       "<div>\n",
       "<style scoped>\n",
       "    .dataframe tbody tr th:only-of-type {\n",
       "        vertical-align: middle;\n",
       "    }\n",
       "\n",
       "    .dataframe tbody tr th {\n",
       "        vertical-align: top;\n",
       "    }\n",
       "\n",
       "    .dataframe thead th {\n",
       "        text-align: right;\n",
       "    }\n",
       "</style>\n",
       "<table border=\"1\" class=\"dataframe\">\n",
       "  <thead>\n",
       "    <tr style=\"text-align: right;\">\n",
       "      <th></th>\n",
       "      <th>InvoiceNo</th>\n",
       "      <th>StockCode</th>\n",
       "      <th>Description</th>\n",
       "      <th>Quantity</th>\n",
       "      <th>InvoiceDate</th>\n",
       "      <th>UnitPrice</th>\n",
       "      <th>CustomerID</th>\n",
       "    </tr>\n",
       "  </thead>\n",
       "  <tbody>\n",
       "    <tr>\n",
       "      <th>541904</th>\n",
       "      <td>581587</td>\n",
       "      <td>22613</td>\n",
       "      <td>PACK OF 20 SPACEBOY NAPKINS</td>\n",
       "      <td>12</td>\n",
       "      <td>12/07/2019 12:50</td>\n",
       "      <td>0.85</td>\n",
       "      <td>12680.0</td>\n",
       "    </tr>\n",
       "    <tr>\n",
       "      <th>541905</th>\n",
       "      <td>581587</td>\n",
       "      <td>22899</td>\n",
       "      <td>CHILDREN'S APRON DOLLY GIRL</td>\n",
       "      <td>6</td>\n",
       "      <td>12/07/2019 12:50</td>\n",
       "      <td>2.10</td>\n",
       "      <td>12680.0</td>\n",
       "    </tr>\n",
       "    <tr>\n",
       "      <th>541906</th>\n",
       "      <td>581587</td>\n",
       "      <td>23254</td>\n",
       "      <td>CHILDRENS CUTLERY DOLLY GIRL</td>\n",
       "      <td>4</td>\n",
       "      <td>12/07/2019 12:50</td>\n",
       "      <td>4.15</td>\n",
       "      <td>12680.0</td>\n",
       "    </tr>\n",
       "    <tr>\n",
       "      <th>541907</th>\n",
       "      <td>581587</td>\n",
       "      <td>23255</td>\n",
       "      <td>CHILDRENS CUTLERY CIRCUS PARADE</td>\n",
       "      <td>4</td>\n",
       "      <td>12/07/2019 12:50</td>\n",
       "      <td>4.15</td>\n",
       "      <td>12680.0</td>\n",
       "    </tr>\n",
       "    <tr>\n",
       "      <th>541908</th>\n",
       "      <td>581587</td>\n",
       "      <td>22138</td>\n",
       "      <td>BAKING SET 9 PIECE RETROSPOT</td>\n",
       "      <td>3</td>\n",
       "      <td>12/07/2019 12:50</td>\n",
       "      <td>4.95</td>\n",
       "      <td>12680.0</td>\n",
       "    </tr>\n",
       "  </tbody>\n",
       "</table>\n",
       "</div>"
      ],
      "text/plain": [
       "       InvoiceNo StockCode                      Description  Quantity  \\\n",
       "541904    581587     22613      PACK OF 20 SPACEBOY NAPKINS        12   \n",
       "541905    581587     22899     CHILDREN'S APRON DOLLY GIRL          6   \n",
       "541906    581587     23254    CHILDRENS CUTLERY DOLLY GIRL          4   \n",
       "541907    581587     23255  CHILDRENS CUTLERY CIRCUS PARADE         4   \n",
       "541908    581587     22138    BAKING SET 9 PIECE RETROSPOT          3   \n",
       "\n",
       "             InvoiceDate  UnitPrice  CustomerID  \n",
       "541904  12/07/2019 12:50       0.85     12680.0  \n",
       "541905  12/07/2019 12:50       2.10     12680.0  \n",
       "541906  12/07/2019 12:50       4.15     12680.0  \n",
       "541907  12/07/2019 12:50       4.15     12680.0  \n",
       "541908  12/07/2019 12:50       4.95     12680.0  "
      ]
     },
     "execution_count": 7,
     "metadata": {},
     "output_type": "execute_result"
    }
   ],
   "source": [
    "# visualizando dados\n",
    "customers_data_raw.tail()"
   ]
  },
  {
   "cell_type": "markdown",
   "metadata": {},
   "source": [
    "#### 1.2.2. Tratamento dos dados"
   ]
  },
  {
   "cell_type": "markdown",
   "metadata": {},
   "source": [
    "###### **Valores ausentes**"
   ]
  },
  {
   "cell_type": "code",
   "execution_count": 8,
   "metadata": {},
   "outputs": [
    {
     "data": {
      "text/plain": [
       "135080"
      ]
     },
     "execution_count": 8,
     "metadata": {},
     "output_type": "execute_result"
    }
   ],
   "source": [
    "# contando dados ausentes na coluna 'CustomerID'\n",
    "customers_data_raw['CustomerID'].isnull().sum()"
   ]
  },
  {
   "cell_type": "code",
   "execution_count": 9,
   "metadata": {},
   "outputs": [],
   "source": [
    "# excluindo linhas onde 'CustomerID' contém valores nulos\n",
    "customers_data_raw = customers_data_raw.dropna(subset=['CustomerID'])"
   ]
  },
  {
   "cell_type": "code",
   "execution_count": 10,
   "metadata": {},
   "outputs": [
    {
     "data": {
      "text/plain": [
       "0"
      ]
     },
     "execution_count": 10,
     "metadata": {},
     "output_type": "execute_result"
    }
   ],
   "source": [
    "# contando dados ausentes na coluna 'CustomerID'\n",
    "customers_data_raw['CustomerID'].isnull().sum()"
   ]
  },
  {
   "cell_type": "markdown",
   "metadata": {},
   "source": [
    "###### **Valores duplicados**"
   ]
  },
  {
   "cell_type": "code",
   "execution_count": 11,
   "metadata": {},
   "outputs": [
    {
     "data": {
      "text/plain": [
       "5225"
      ]
     },
     "execution_count": 11,
     "metadata": {},
     "output_type": "execute_result"
    }
   ],
   "source": [
    "# contando linhas duplicadas\n",
    "customers_data_raw.duplicated().sum()"
   ]
  },
  {
   "cell_type": "code",
   "execution_count": 12,
   "metadata": {},
   "outputs": [],
   "source": [
    "# filtrando DataFrame apenas com linhas duplicadas\n",
    "duplicates = customers_data_raw[customers_data_raw.duplicated(keep=False)]"
   ]
  },
  {
   "cell_type": "code",
   "execution_count": 13,
   "metadata": {},
   "outputs": [
    {
     "data": {
      "text/html": [
       "<div>\n",
       "<style scoped>\n",
       "    .dataframe tbody tr th:only-of-type {\n",
       "        vertical-align: middle;\n",
       "    }\n",
       "\n",
       "    .dataframe tbody tr th {\n",
       "        vertical-align: top;\n",
       "    }\n",
       "\n",
       "    .dataframe thead th {\n",
       "        text-align: right;\n",
       "    }\n",
       "</style>\n",
       "<table border=\"1\" class=\"dataframe\">\n",
       "  <thead>\n",
       "    <tr style=\"text-align: right;\">\n",
       "      <th></th>\n",
       "      <th>InvoiceNo</th>\n",
       "      <th>StockCode</th>\n",
       "      <th>Description</th>\n",
       "      <th>Quantity</th>\n",
       "      <th>InvoiceDate</th>\n",
       "      <th>UnitPrice</th>\n",
       "      <th>CustomerID</th>\n",
       "    </tr>\n",
       "  </thead>\n",
       "  <tbody>\n",
       "    <tr>\n",
       "      <th>485</th>\n",
       "      <td>536409</td>\n",
       "      <td>22111</td>\n",
       "      <td>SCOTTIE DOG HOT WATER BOTTLE</td>\n",
       "      <td>1</td>\n",
       "      <td>11/29/2018 11:45</td>\n",
       "      <td>4.95</td>\n",
       "      <td>17908.0</td>\n",
       "    </tr>\n",
       "    <tr>\n",
       "      <th>489</th>\n",
       "      <td>536409</td>\n",
       "      <td>22866</td>\n",
       "      <td>HAND WARMER SCOTTY DOG DESIGN</td>\n",
       "      <td>1</td>\n",
       "      <td>11/29/2018 11:45</td>\n",
       "      <td>2.10</td>\n",
       "      <td>17908.0</td>\n",
       "    </tr>\n",
       "    <tr>\n",
       "      <th>494</th>\n",
       "      <td>536409</td>\n",
       "      <td>21866</td>\n",
       "      <td>UNION JACK FLAG LUGGAGE TAG</td>\n",
       "      <td>1</td>\n",
       "      <td>11/29/2018 11:45</td>\n",
       "      <td>1.25</td>\n",
       "      <td>17908.0</td>\n",
       "    </tr>\n",
       "    <tr>\n",
       "      <th>517</th>\n",
       "      <td>536409</td>\n",
       "      <td>21866</td>\n",
       "      <td>UNION JACK FLAG LUGGAGE TAG</td>\n",
       "      <td>1</td>\n",
       "      <td>11/29/2018 11:45</td>\n",
       "      <td>1.25</td>\n",
       "      <td>17908.0</td>\n",
       "    </tr>\n",
       "    <tr>\n",
       "      <th>521</th>\n",
       "      <td>536409</td>\n",
       "      <td>22900</td>\n",
       "      <td>SET 2 TEA TOWELS I LOVE LONDON</td>\n",
       "      <td>1</td>\n",
       "      <td>11/29/2018 11:45</td>\n",
       "      <td>2.95</td>\n",
       "      <td>17908.0</td>\n",
       "    </tr>\n",
       "    <tr>\n",
       "      <th>527</th>\n",
       "      <td>536409</td>\n",
       "      <td>22866</td>\n",
       "      <td>HAND WARMER SCOTTY DOG DESIGN</td>\n",
       "      <td>1</td>\n",
       "      <td>11/29/2018 11:45</td>\n",
       "      <td>2.10</td>\n",
       "      <td>17908.0</td>\n",
       "    </tr>\n",
       "    <tr>\n",
       "      <th>537</th>\n",
       "      <td>536409</td>\n",
       "      <td>22900</td>\n",
       "      <td>SET 2 TEA TOWELS I LOVE LONDON</td>\n",
       "      <td>1</td>\n",
       "      <td>11/29/2018 11:45</td>\n",
       "      <td>2.95</td>\n",
       "      <td>17908.0</td>\n",
       "    </tr>\n",
       "    <tr>\n",
       "      <th>539</th>\n",
       "      <td>536409</td>\n",
       "      <td>22111</td>\n",
       "      <td>SCOTTIE DOG HOT WATER BOTTLE</td>\n",
       "      <td>1</td>\n",
       "      <td>11/29/2018 11:45</td>\n",
       "      <td>4.95</td>\n",
       "      <td>17908.0</td>\n",
       "    </tr>\n",
       "    <tr>\n",
       "      <th>548</th>\n",
       "      <td>536412</td>\n",
       "      <td>22327</td>\n",
       "      <td>ROUND SNACK BOXES SET OF 4 SKULLS</td>\n",
       "      <td>1</td>\n",
       "      <td>11/29/2018 11:49</td>\n",
       "      <td>2.95</td>\n",
       "      <td>17920.0</td>\n",
       "    </tr>\n",
       "    <tr>\n",
       "      <th>555</th>\n",
       "      <td>536412</td>\n",
       "      <td>22327</td>\n",
       "      <td>ROUND SNACK BOXES SET OF 4 SKULLS</td>\n",
       "      <td>1</td>\n",
       "      <td>11/29/2018 11:49</td>\n",
       "      <td>2.95</td>\n",
       "      <td>17920.0</td>\n",
       "    </tr>\n",
       "  </tbody>\n",
       "</table>\n",
       "</div>"
      ],
      "text/plain": [
       "    InvoiceNo StockCode                        Description  Quantity  \\\n",
       "485    536409     22111       SCOTTIE DOG HOT WATER BOTTLE         1   \n",
       "489    536409     22866      HAND WARMER SCOTTY DOG DESIGN         1   \n",
       "494    536409     21866        UNION JACK FLAG LUGGAGE TAG         1   \n",
       "517    536409     21866        UNION JACK FLAG LUGGAGE TAG         1   \n",
       "521    536409     22900    SET 2 TEA TOWELS I LOVE LONDON          1   \n",
       "527    536409     22866      HAND WARMER SCOTTY DOG DESIGN         1   \n",
       "537    536409     22900    SET 2 TEA TOWELS I LOVE LONDON          1   \n",
       "539    536409     22111       SCOTTIE DOG HOT WATER BOTTLE         1   \n",
       "548    536412     22327  ROUND SNACK BOXES SET OF 4 SKULLS         1   \n",
       "555    536412     22327  ROUND SNACK BOXES SET OF 4 SKULLS         1   \n",
       "\n",
       "          InvoiceDate  UnitPrice  CustomerID  \n",
       "485  11/29/2018 11:45       4.95     17908.0  \n",
       "489  11/29/2018 11:45       2.10     17908.0  \n",
       "494  11/29/2018 11:45       1.25     17908.0  \n",
       "517  11/29/2018 11:45       1.25     17908.0  \n",
       "521  11/29/2018 11:45       2.95     17908.0  \n",
       "527  11/29/2018 11:45       2.10     17908.0  \n",
       "537  11/29/2018 11:45       2.95     17908.0  \n",
       "539  11/29/2018 11:45       4.95     17908.0  \n",
       "548  11/29/2018 11:49       2.95     17920.0  \n",
       "555  11/29/2018 11:49       2.95     17920.0  "
      ]
     },
     "execution_count": 13,
     "metadata": {},
     "output_type": "execute_result"
    }
   ],
   "source": [
    "# visualizando linhas duplicadas\n",
    "duplicates.head(10)"
   ]
  },
  {
   "cell_type": "code",
   "execution_count": 14,
   "metadata": {},
   "outputs": [
    {
     "data": {
      "text/html": [
       "<div>\n",
       "<style scoped>\n",
       "    .dataframe tbody tr th:only-of-type {\n",
       "        vertical-align: middle;\n",
       "    }\n",
       "\n",
       "    .dataframe tbody tr th {\n",
       "        vertical-align: top;\n",
       "    }\n",
       "\n",
       "    .dataframe thead th {\n",
       "        text-align: right;\n",
       "    }\n",
       "</style>\n",
       "<table border=\"1\" class=\"dataframe\">\n",
       "  <thead>\n",
       "    <tr style=\"text-align: right;\">\n",
       "      <th></th>\n",
       "      <th>InvoiceNo</th>\n",
       "      <th>StockCode</th>\n",
       "      <th>Description</th>\n",
       "      <th>Quantity</th>\n",
       "      <th>InvoiceDate</th>\n",
       "      <th>UnitPrice</th>\n",
       "      <th>CustomerID</th>\n",
       "    </tr>\n",
       "  </thead>\n",
       "  <tbody>\n",
       "    <tr>\n",
       "      <th>485</th>\n",
       "      <td>536409</td>\n",
       "      <td>22111</td>\n",
       "      <td>SCOTTIE DOG HOT WATER BOTTLE</td>\n",
       "      <td>1</td>\n",
       "      <td>11/29/2018 11:45</td>\n",
       "      <td>4.95</td>\n",
       "      <td>17908.0</td>\n",
       "    </tr>\n",
       "    <tr>\n",
       "      <th>489</th>\n",
       "      <td>536409</td>\n",
       "      <td>22866</td>\n",
       "      <td>HAND WARMER SCOTTY DOG DESIGN</td>\n",
       "      <td>1</td>\n",
       "      <td>11/29/2018 11:45</td>\n",
       "      <td>2.10</td>\n",
       "      <td>17908.0</td>\n",
       "    </tr>\n",
       "    <tr>\n",
       "      <th>494</th>\n",
       "      <td>536409</td>\n",
       "      <td>21866</td>\n",
       "      <td>UNION JACK FLAG LUGGAGE TAG</td>\n",
       "      <td>1</td>\n",
       "      <td>11/29/2018 11:45</td>\n",
       "      <td>1.25</td>\n",
       "      <td>17908.0</td>\n",
       "    </tr>\n",
       "    <tr>\n",
       "      <th>517</th>\n",
       "      <td>536409</td>\n",
       "      <td>21866</td>\n",
       "      <td>UNION JACK FLAG LUGGAGE TAG</td>\n",
       "      <td>1</td>\n",
       "      <td>11/29/2018 11:45</td>\n",
       "      <td>1.25</td>\n",
       "      <td>17908.0</td>\n",
       "    </tr>\n",
       "    <tr>\n",
       "      <th>521</th>\n",
       "      <td>536409</td>\n",
       "      <td>22900</td>\n",
       "      <td>SET 2 TEA TOWELS I LOVE LONDON</td>\n",
       "      <td>1</td>\n",
       "      <td>11/29/2018 11:45</td>\n",
       "      <td>2.95</td>\n",
       "      <td>17908.0</td>\n",
       "    </tr>\n",
       "    <tr>\n",
       "      <th>527</th>\n",
       "      <td>536409</td>\n",
       "      <td>22866</td>\n",
       "      <td>HAND WARMER SCOTTY DOG DESIGN</td>\n",
       "      <td>1</td>\n",
       "      <td>11/29/2018 11:45</td>\n",
       "      <td>2.10</td>\n",
       "      <td>17908.0</td>\n",
       "    </tr>\n",
       "    <tr>\n",
       "      <th>537</th>\n",
       "      <td>536409</td>\n",
       "      <td>22900</td>\n",
       "      <td>SET 2 TEA TOWELS I LOVE LONDON</td>\n",
       "      <td>1</td>\n",
       "      <td>11/29/2018 11:45</td>\n",
       "      <td>2.95</td>\n",
       "      <td>17908.0</td>\n",
       "    </tr>\n",
       "    <tr>\n",
       "      <th>539</th>\n",
       "      <td>536409</td>\n",
       "      <td>22111</td>\n",
       "      <td>SCOTTIE DOG HOT WATER BOTTLE</td>\n",
       "      <td>1</td>\n",
       "      <td>11/29/2018 11:45</td>\n",
       "      <td>4.95</td>\n",
       "      <td>17908.0</td>\n",
       "    </tr>\n",
       "  </tbody>\n",
       "</table>\n",
       "</div>"
      ],
      "text/plain": [
       "    InvoiceNo StockCode                       Description  Quantity  \\\n",
       "485    536409     22111      SCOTTIE DOG HOT WATER BOTTLE         1   \n",
       "489    536409     22866     HAND WARMER SCOTTY DOG DESIGN         1   \n",
       "494    536409     21866       UNION JACK FLAG LUGGAGE TAG         1   \n",
       "517    536409     21866       UNION JACK FLAG LUGGAGE TAG         1   \n",
       "521    536409     22900   SET 2 TEA TOWELS I LOVE LONDON          1   \n",
       "527    536409     22866     HAND WARMER SCOTTY DOG DESIGN         1   \n",
       "537    536409     22900   SET 2 TEA TOWELS I LOVE LONDON          1   \n",
       "539    536409     22111      SCOTTIE DOG HOT WATER BOTTLE         1   \n",
       "\n",
       "          InvoiceDate  UnitPrice  CustomerID  \n",
       "485  11/29/2018 11:45       4.95     17908.0  \n",
       "489  11/29/2018 11:45       2.10     17908.0  \n",
       "494  11/29/2018 11:45       1.25     17908.0  \n",
       "517  11/29/2018 11:45       1.25     17908.0  \n",
       "521  11/29/2018 11:45       2.95     17908.0  \n",
       "527  11/29/2018 11:45       2.10     17908.0  \n",
       "537  11/29/2018 11:45       2.95     17908.0  \n",
       "539  11/29/2018 11:45       4.95     17908.0  "
      ]
     },
     "execution_count": 14,
     "metadata": {},
     "output_type": "execute_result"
    }
   ],
   "source": [
    "# visualizando linhas duplicadas para 'InvoiceNo' == '536409'\n",
    "linhas_invoice_536409 = duplicates[duplicates['InvoiceNo'] == '536409']\n",
    "linhas_invoice_536409"
   ]
  },
  {
   "cell_type": "code",
   "execution_count": 15,
   "metadata": {},
   "outputs": [
    {
     "data": {
      "text/html": [
       "<div>\n",
       "<style scoped>\n",
       "    .dataframe tbody tr th:only-of-type {\n",
       "        vertical-align: middle;\n",
       "    }\n",
       "\n",
       "    .dataframe tbody tr th {\n",
       "        vertical-align: top;\n",
       "    }\n",
       "\n",
       "    .dataframe thead th {\n",
       "        text-align: right;\n",
       "    }\n",
       "</style>\n",
       "<table border=\"1\" class=\"dataframe\">\n",
       "  <thead>\n",
       "    <tr style=\"text-align: right;\">\n",
       "      <th></th>\n",
       "      <th>InvoiceNo</th>\n",
       "      <th>StockCode</th>\n",
       "      <th>Description</th>\n",
       "      <th>Quantity</th>\n",
       "      <th>InvoiceDate</th>\n",
       "      <th>UnitPrice</th>\n",
       "      <th>CustomerID</th>\n",
       "    </tr>\n",
       "  </thead>\n",
       "  <tbody>\n",
       "    <tr>\n",
       "      <th>548</th>\n",
       "      <td>536412</td>\n",
       "      <td>22327</td>\n",
       "      <td>ROUND SNACK BOXES SET OF 4 SKULLS</td>\n",
       "      <td>1</td>\n",
       "      <td>11/29/2018 11:49</td>\n",
       "      <td>2.95</td>\n",
       "      <td>17920.0</td>\n",
       "    </tr>\n",
       "    <tr>\n",
       "      <th>555</th>\n",
       "      <td>536412</td>\n",
       "      <td>22327</td>\n",
       "      <td>ROUND SNACK BOXES SET OF 4 SKULLS</td>\n",
       "      <td>1</td>\n",
       "      <td>11/29/2018 11:49</td>\n",
       "      <td>2.95</td>\n",
       "      <td>17920.0</td>\n",
       "    </tr>\n",
       "    <tr>\n",
       "      <th>556</th>\n",
       "      <td>536412</td>\n",
       "      <td>22273</td>\n",
       "      <td>FELTCRAFT DOLL MOLLY</td>\n",
       "      <td>1</td>\n",
       "      <td>11/29/2018 11:49</td>\n",
       "      <td>2.95</td>\n",
       "      <td>17920.0</td>\n",
       "    </tr>\n",
       "    <tr>\n",
       "      <th>565</th>\n",
       "      <td>536412</td>\n",
       "      <td>21448</td>\n",
       "      <td>12 DAISY PEGS IN WOOD BOX</td>\n",
       "      <td>2</td>\n",
       "      <td>11/29/2018 11:49</td>\n",
       "      <td>1.65</td>\n",
       "      <td>17920.0</td>\n",
       "    </tr>\n",
       "    <tr>\n",
       "      <th>569</th>\n",
       "      <td>536412</td>\n",
       "      <td>22749</td>\n",
       "      <td>FELTCRAFT PRINCESS CHARLOTTE DOLL</td>\n",
       "      <td>1</td>\n",
       "      <td>11/29/2018 11:49</td>\n",
       "      <td>3.75</td>\n",
       "      <td>17920.0</td>\n",
       "    </tr>\n",
       "    <tr>\n",
       "      <th>574</th>\n",
       "      <td>536412</td>\n",
       "      <td>22141</td>\n",
       "      <td>CHRISTMAS CRAFT TREE TOP ANGEL</td>\n",
       "      <td>1</td>\n",
       "      <td>11/29/2018 11:49</td>\n",
       "      <td>2.10</td>\n",
       "      <td>17920.0</td>\n",
       "    </tr>\n",
       "    <tr>\n",
       "      <th>578</th>\n",
       "      <td>536412</td>\n",
       "      <td>21448</td>\n",
       "      <td>12 DAISY PEGS IN WOOD BOX</td>\n",
       "      <td>1</td>\n",
       "      <td>11/29/2018 11:49</td>\n",
       "      <td>1.65</td>\n",
       "      <td>17920.0</td>\n",
       "    </tr>\n",
       "    <tr>\n",
       "      <th>587</th>\n",
       "      <td>536412</td>\n",
       "      <td>22273</td>\n",
       "      <td>FELTCRAFT DOLL MOLLY</td>\n",
       "      <td>1</td>\n",
       "      <td>11/29/2018 11:49</td>\n",
       "      <td>2.95</td>\n",
       "      <td>17920.0</td>\n",
       "    </tr>\n",
       "    <tr>\n",
       "      <th>589</th>\n",
       "      <td>536412</td>\n",
       "      <td>22749</td>\n",
       "      <td>FELTCRAFT PRINCESS CHARLOTTE DOLL</td>\n",
       "      <td>1</td>\n",
       "      <td>11/29/2018 11:49</td>\n",
       "      <td>3.75</td>\n",
       "      <td>17920.0</td>\n",
       "    </tr>\n",
       "    <tr>\n",
       "      <th>594</th>\n",
       "      <td>536412</td>\n",
       "      <td>22141</td>\n",
       "      <td>CHRISTMAS CRAFT TREE TOP ANGEL</td>\n",
       "      <td>1</td>\n",
       "      <td>11/29/2018 11:49</td>\n",
       "      <td>2.10</td>\n",
       "      <td>17920.0</td>\n",
       "    </tr>\n",
       "    <tr>\n",
       "      <th>597</th>\n",
       "      <td>536412</td>\n",
       "      <td>22569</td>\n",
       "      <td>FELTCRAFT CUSHION BUTTERFLY</td>\n",
       "      <td>2</td>\n",
       "      <td>11/29/2018 11:49</td>\n",
       "      <td>3.75</td>\n",
       "      <td>17920.0</td>\n",
       "    </tr>\n",
       "    <tr>\n",
       "      <th>598</th>\n",
       "      <td>536412</td>\n",
       "      <td>21448</td>\n",
       "      <td>12 DAISY PEGS IN WOOD BOX</td>\n",
       "      <td>1</td>\n",
       "      <td>11/29/2018 11:49</td>\n",
       "      <td>1.65</td>\n",
       "      <td>17920.0</td>\n",
       "    </tr>\n",
       "    <tr>\n",
       "      <th>600</th>\n",
       "      <td>536412</td>\n",
       "      <td>22569</td>\n",
       "      <td>FELTCRAFT CUSHION BUTTERFLY</td>\n",
       "      <td>2</td>\n",
       "      <td>11/29/2018 11:49</td>\n",
       "      <td>3.75</td>\n",
       "      <td>17920.0</td>\n",
       "    </tr>\n",
       "    <tr>\n",
       "      <th>601</th>\n",
       "      <td>536412</td>\n",
       "      <td>21448</td>\n",
       "      <td>12 DAISY PEGS IN WOOD BOX</td>\n",
       "      <td>2</td>\n",
       "      <td>11/29/2018 11:49</td>\n",
       "      <td>1.65</td>\n",
       "      <td>17920.0</td>\n",
       "    </tr>\n",
       "    <tr>\n",
       "      <th>603</th>\n",
       "      <td>536412</td>\n",
       "      <td>22902</td>\n",
       "      <td>TOTE BAG I LOVE LONDON</td>\n",
       "      <td>7</td>\n",
       "      <td>11/29/2018 11:49</td>\n",
       "      <td>2.10</td>\n",
       "      <td>17920.0</td>\n",
       "    </tr>\n",
       "    <tr>\n",
       "      <th>604</th>\n",
       "      <td>536412</td>\n",
       "      <td>21448</td>\n",
       "      <td>12 DAISY PEGS IN WOOD BOX</td>\n",
       "      <td>2</td>\n",
       "      <td>11/29/2018 11:49</td>\n",
       "      <td>1.65</td>\n",
       "      <td>17920.0</td>\n",
       "    </tr>\n",
       "    <tr>\n",
       "      <th>605</th>\n",
       "      <td>536412</td>\n",
       "      <td>22902</td>\n",
       "      <td>TOTE BAG I LOVE LONDON</td>\n",
       "      <td>7</td>\n",
       "      <td>11/29/2018 11:49</td>\n",
       "      <td>2.10</td>\n",
       "      <td>17920.0</td>\n",
       "    </tr>\n",
       "    <tr>\n",
       "      <th>607</th>\n",
       "      <td>536412</td>\n",
       "      <td>21708</td>\n",
       "      <td>FOLDING UMBRELLA CREAM POLKADOT</td>\n",
       "      <td>1</td>\n",
       "      <td>11/29/2018 11:49</td>\n",
       "      <td>4.95</td>\n",
       "      <td>17920.0</td>\n",
       "    </tr>\n",
       "    <tr>\n",
       "      <th>611</th>\n",
       "      <td>536412</td>\n",
       "      <td>22900</td>\n",
       "      <td>SET 2 TEA TOWELS I LOVE LONDON</td>\n",
       "      <td>2</td>\n",
       "      <td>11/29/2018 11:49</td>\n",
       "      <td>2.95</td>\n",
       "      <td>17920.0</td>\n",
       "    </tr>\n",
       "    <tr>\n",
       "      <th>612</th>\n",
       "      <td>536412</td>\n",
       "      <td>21706</td>\n",
       "      <td>FOLDING UMBRELLA RED/WHITE POLKADOT</td>\n",
       "      <td>1</td>\n",
       "      <td>11/29/2018 11:49</td>\n",
       "      <td>4.95</td>\n",
       "      <td>17920.0</td>\n",
       "    </tr>\n",
       "    <tr>\n",
       "      <th>615</th>\n",
       "      <td>536412</td>\n",
       "      <td>85184C</td>\n",
       "      <td>S/4 VALENTINE DECOUPAGE HEART BOX</td>\n",
       "      <td>1</td>\n",
       "      <td>11/29/2018 11:49</td>\n",
       "      <td>2.95</td>\n",
       "      <td>17920.0</td>\n",
       "    </tr>\n",
       "    <tr>\n",
       "      <th>616</th>\n",
       "      <td>536412</td>\n",
       "      <td>21708</td>\n",
       "      <td>FOLDING UMBRELLA CREAM POLKADOT</td>\n",
       "      <td>1</td>\n",
       "      <td>11/29/2018 11:49</td>\n",
       "      <td>4.95</td>\n",
       "      <td>17920.0</td>\n",
       "    </tr>\n",
       "    <tr>\n",
       "      <th>617</th>\n",
       "      <td>536412</td>\n",
       "      <td>22900</td>\n",
       "      <td>SET 2 TEA TOWELS I LOVE LONDON</td>\n",
       "      <td>2</td>\n",
       "      <td>11/29/2018 11:49</td>\n",
       "      <td>2.95</td>\n",
       "      <td>17920.0</td>\n",
       "    </tr>\n",
       "    <tr>\n",
       "      <th>618</th>\n",
       "      <td>536412</td>\n",
       "      <td>21706</td>\n",
       "      <td>FOLDING UMBRELLA RED/WHITE POLKADOT</td>\n",
       "      <td>1</td>\n",
       "      <td>11/29/2018 11:49</td>\n",
       "      <td>4.95</td>\n",
       "      <td>17920.0</td>\n",
       "    </tr>\n",
       "    <tr>\n",
       "      <th>620</th>\n",
       "      <td>536412</td>\n",
       "      <td>85184C</td>\n",
       "      <td>S/4 VALENTINE DECOUPAGE HEART BOX</td>\n",
       "      <td>1</td>\n",
       "      <td>11/29/2018 11:49</td>\n",
       "      <td>2.95</td>\n",
       "      <td>17920.0</td>\n",
       "    </tr>\n",
       "  </tbody>\n",
       "</table>\n",
       "</div>"
      ],
      "text/plain": [
       "    InvoiceNo StockCode                          Description  Quantity  \\\n",
       "548    536412     22327    ROUND SNACK BOXES SET OF 4 SKULLS         1   \n",
       "555    536412     22327    ROUND SNACK BOXES SET OF 4 SKULLS         1   \n",
       "556    536412     22273                 FELTCRAFT DOLL MOLLY         1   \n",
       "565    536412     21448            12 DAISY PEGS IN WOOD BOX         2   \n",
       "569    536412     22749    FELTCRAFT PRINCESS CHARLOTTE DOLL         1   \n",
       "574    536412     22141       CHRISTMAS CRAFT TREE TOP ANGEL         1   \n",
       "578    536412     21448            12 DAISY PEGS IN WOOD BOX         1   \n",
       "587    536412     22273                 FELTCRAFT DOLL MOLLY         1   \n",
       "589    536412     22749    FELTCRAFT PRINCESS CHARLOTTE DOLL         1   \n",
       "594    536412     22141       CHRISTMAS CRAFT TREE TOP ANGEL         1   \n",
       "597    536412     22569          FELTCRAFT CUSHION BUTTERFLY         2   \n",
       "598    536412     21448            12 DAISY PEGS IN WOOD BOX         1   \n",
       "600    536412     22569          FELTCRAFT CUSHION BUTTERFLY         2   \n",
       "601    536412     21448            12 DAISY PEGS IN WOOD BOX         2   \n",
       "603    536412     22902               TOTE BAG I LOVE LONDON         7   \n",
       "604    536412     21448            12 DAISY PEGS IN WOOD BOX         2   \n",
       "605    536412     22902               TOTE BAG I LOVE LONDON         7   \n",
       "607    536412     21708      FOLDING UMBRELLA CREAM POLKADOT         1   \n",
       "611    536412     22900      SET 2 TEA TOWELS I LOVE LONDON          2   \n",
       "612    536412     21706  FOLDING UMBRELLA RED/WHITE POLKADOT         1   \n",
       "615    536412    85184C    S/4 VALENTINE DECOUPAGE HEART BOX         1   \n",
       "616    536412     21708      FOLDING UMBRELLA CREAM POLKADOT         1   \n",
       "617    536412     22900      SET 2 TEA TOWELS I LOVE LONDON          2   \n",
       "618    536412     21706  FOLDING UMBRELLA RED/WHITE POLKADOT         1   \n",
       "620    536412    85184C    S/4 VALENTINE DECOUPAGE HEART BOX         1   \n",
       "\n",
       "          InvoiceDate  UnitPrice  CustomerID  \n",
       "548  11/29/2018 11:49       2.95     17920.0  \n",
       "555  11/29/2018 11:49       2.95     17920.0  \n",
       "556  11/29/2018 11:49       2.95     17920.0  \n",
       "565  11/29/2018 11:49       1.65     17920.0  \n",
       "569  11/29/2018 11:49       3.75     17920.0  \n",
       "574  11/29/2018 11:49       2.10     17920.0  \n",
       "578  11/29/2018 11:49       1.65     17920.0  \n",
       "587  11/29/2018 11:49       2.95     17920.0  \n",
       "589  11/29/2018 11:49       3.75     17920.0  \n",
       "594  11/29/2018 11:49       2.10     17920.0  \n",
       "597  11/29/2018 11:49       3.75     17920.0  \n",
       "598  11/29/2018 11:49       1.65     17920.0  \n",
       "600  11/29/2018 11:49       3.75     17920.0  \n",
       "601  11/29/2018 11:49       1.65     17920.0  \n",
       "603  11/29/2018 11:49       2.10     17920.0  \n",
       "604  11/29/2018 11:49       1.65     17920.0  \n",
       "605  11/29/2018 11:49       2.10     17920.0  \n",
       "607  11/29/2018 11:49       4.95     17920.0  \n",
       "611  11/29/2018 11:49       2.95     17920.0  \n",
       "612  11/29/2018 11:49       4.95     17920.0  \n",
       "615  11/29/2018 11:49       2.95     17920.0  \n",
       "616  11/29/2018 11:49       4.95     17920.0  \n",
       "617  11/29/2018 11:49       2.95     17920.0  \n",
       "618  11/29/2018 11:49       4.95     17920.0  \n",
       "620  11/29/2018 11:49       2.95     17920.0  "
      ]
     },
     "execution_count": 15,
     "metadata": {},
     "output_type": "execute_result"
    }
   ],
   "source": [
    "# visualizando linhas duplicadas para 'InvoiceNo' == '536412'\n",
    "linhas_invoice_536412 = duplicates[duplicates['InvoiceNo'] == '536412']\n",
    "linhas_invoice_536412"
   ]
  },
  {
   "cell_type": "code",
   "execution_count": 16,
   "metadata": {},
   "outputs": [],
   "source": [
    "# deletando linhas duplicadas (mantendo a primeira ocorrência)\n",
    "customers_data_raw = customers_data_raw.drop_duplicates(keep='first')"
   ]
  },
  {
   "cell_type": "code",
   "execution_count": 17,
   "metadata": {},
   "outputs": [
    {
     "data": {
      "text/plain": [
       "0"
      ]
     },
     "execution_count": 17,
     "metadata": {},
     "output_type": "execute_result"
    }
   ],
   "source": [
    "# contando linhas duplicadas\n",
    "customers_data_raw.duplicated().sum()"
   ]
  },
  {
   "cell_type": "markdown",
   "metadata": {},
   "source": [
    "###### **Tipos de dados**"
   ]
  },
  {
   "cell_type": "code",
   "execution_count": 18,
   "metadata": {},
   "outputs": [],
   "source": [
    "# conertendo tipo de dados da coluna 'CustomerID' de 'float' para 'int'\n",
    "customers_data_raw['CustomerID'] = customers_data_raw['CustomerID'].astype(int)"
   ]
  },
  {
   "cell_type": "code",
   "execution_count": 19,
   "metadata": {},
   "outputs": [],
   "source": [
    "# convertendo tipo de dados da coluna 'InvoiceDate' para 'datetime'\n",
    "customers_data_raw['InvoiceDate'] = pd.to_datetime(customers_data_raw['InvoiceDate'])"
   ]
  },
  {
   "cell_type": "markdown",
   "metadata": {},
   "source": [
    "#### 1.2.3. Avaliação das variáveis e tratamento dos dados"
   ]
  },
  {
   "cell_type": "markdown",
   "metadata": {},
   "source": [
    "##### 1.2.3.1. Consistência dos dados"
   ]
  },
  {
   "cell_type": "markdown",
   "metadata": {},
   "source": [
    "###### **InvoiceNo**"
   ]
  },
  {
   "cell_type": "code",
   "execution_count": 20,
   "metadata": {},
   "outputs": [
    {
     "data": {
      "text/html": [
       "<div>\n",
       "<style scoped>\n",
       "    .dataframe tbody tr th:only-of-type {\n",
       "        vertical-align: middle;\n",
       "    }\n",
       "\n",
       "    .dataframe tbody tr th {\n",
       "        vertical-align: top;\n",
       "    }\n",
       "\n",
       "    .dataframe thead th {\n",
       "        text-align: right;\n",
       "    }\n",
       "</style>\n",
       "<table border=\"1\" class=\"dataframe\">\n",
       "  <thead>\n",
       "    <tr style=\"text-align: right;\">\n",
       "      <th></th>\n",
       "      <th>InvoiceNo</th>\n",
       "      <th>StockCode</th>\n",
       "      <th>Description</th>\n",
       "      <th>Quantity</th>\n",
       "      <th>InvoiceDate</th>\n",
       "      <th>UnitPrice</th>\n",
       "      <th>CustomerID</th>\n",
       "    </tr>\n",
       "  </thead>\n",
       "  <tbody>\n",
       "    <tr>\n",
       "      <th>141</th>\n",
       "      <td>C536379</td>\n",
       "      <td>D</td>\n",
       "      <td>Discount</td>\n",
       "      <td>-1</td>\n",
       "      <td>2018-11-29 09:41:00</td>\n",
       "      <td>27.50</td>\n",
       "      <td>14527</td>\n",
       "    </tr>\n",
       "    <tr>\n",
       "      <th>154</th>\n",
       "      <td>C536383</td>\n",
       "      <td>35004C</td>\n",
       "      <td>SET OF 3 COLOURED  FLYING DUCKS</td>\n",
       "      <td>-1</td>\n",
       "      <td>2018-11-29 09:49:00</td>\n",
       "      <td>4.65</td>\n",
       "      <td>15311</td>\n",
       "    </tr>\n",
       "    <tr>\n",
       "      <th>235</th>\n",
       "      <td>C536391</td>\n",
       "      <td>22556</td>\n",
       "      <td>PLASTERS IN TIN CIRCUS PARADE</td>\n",
       "      <td>-12</td>\n",
       "      <td>2018-11-29 10:24:00</td>\n",
       "      <td>1.65</td>\n",
       "      <td>17548</td>\n",
       "    </tr>\n",
       "    <tr>\n",
       "      <th>236</th>\n",
       "      <td>C536391</td>\n",
       "      <td>21984</td>\n",
       "      <td>PACK OF 12 PINK PAISLEY TISSUES</td>\n",
       "      <td>-24</td>\n",
       "      <td>2018-11-29 10:24:00</td>\n",
       "      <td>0.29</td>\n",
       "      <td>17548</td>\n",
       "    </tr>\n",
       "    <tr>\n",
       "      <th>237</th>\n",
       "      <td>C536391</td>\n",
       "      <td>21983</td>\n",
       "      <td>PACK OF 12 BLUE PAISLEY TISSUES</td>\n",
       "      <td>-24</td>\n",
       "      <td>2018-11-29 10:24:00</td>\n",
       "      <td>0.29</td>\n",
       "      <td>17548</td>\n",
       "    </tr>\n",
       "    <tr>\n",
       "      <th>238</th>\n",
       "      <td>C536391</td>\n",
       "      <td>21980</td>\n",
       "      <td>PACK OF 12 RED RETROSPOT TISSUES</td>\n",
       "      <td>-24</td>\n",
       "      <td>2018-11-29 10:24:00</td>\n",
       "      <td>0.29</td>\n",
       "      <td>17548</td>\n",
       "    </tr>\n",
       "    <tr>\n",
       "      <th>239</th>\n",
       "      <td>C536391</td>\n",
       "      <td>21484</td>\n",
       "      <td>CHICK GREY HOT WATER BOTTLE</td>\n",
       "      <td>-12</td>\n",
       "      <td>2018-11-29 10:24:00</td>\n",
       "      <td>3.45</td>\n",
       "      <td>17548</td>\n",
       "    </tr>\n",
       "    <tr>\n",
       "      <th>240</th>\n",
       "      <td>C536391</td>\n",
       "      <td>22557</td>\n",
       "      <td>PLASTERS IN TIN VINTAGE PAISLEY</td>\n",
       "      <td>-12</td>\n",
       "      <td>2018-11-29 10:24:00</td>\n",
       "      <td>1.65</td>\n",
       "      <td>17548</td>\n",
       "    </tr>\n",
       "    <tr>\n",
       "      <th>241</th>\n",
       "      <td>C536391</td>\n",
       "      <td>22553</td>\n",
       "      <td>PLASTERS IN TIN SKULLS</td>\n",
       "      <td>-24</td>\n",
       "      <td>2018-11-29 10:24:00</td>\n",
       "      <td>1.65</td>\n",
       "      <td>17548</td>\n",
       "    </tr>\n",
       "    <tr>\n",
       "      <th>939</th>\n",
       "      <td>C536506</td>\n",
       "      <td>22960</td>\n",
       "      <td>JAM MAKING SET WITH JARS</td>\n",
       "      <td>-6</td>\n",
       "      <td>2018-11-29 12:38:00</td>\n",
       "      <td>4.25</td>\n",
       "      <td>17897</td>\n",
       "    </tr>\n",
       "  </tbody>\n",
       "</table>\n",
       "</div>"
      ],
      "text/plain": [
       "    InvoiceNo StockCode                        Description  Quantity  \\\n",
       "141   C536379         D                           Discount        -1   \n",
       "154   C536383    35004C    SET OF 3 COLOURED  FLYING DUCKS        -1   \n",
       "235   C536391     22556     PLASTERS IN TIN CIRCUS PARADE        -12   \n",
       "236   C536391     21984   PACK OF 12 PINK PAISLEY TISSUES        -24   \n",
       "237   C536391     21983   PACK OF 12 BLUE PAISLEY TISSUES        -24   \n",
       "238   C536391     21980  PACK OF 12 RED RETROSPOT TISSUES        -24   \n",
       "239   C536391     21484        CHICK GREY HOT WATER BOTTLE       -12   \n",
       "240   C536391     22557   PLASTERS IN TIN VINTAGE PAISLEY        -12   \n",
       "241   C536391     22553             PLASTERS IN TIN SKULLS       -24   \n",
       "939   C536506     22960           JAM MAKING SET WITH JARS        -6   \n",
       "\n",
       "            InvoiceDate  UnitPrice  CustomerID  \n",
       "141 2018-11-29 09:41:00      27.50       14527  \n",
       "154 2018-11-29 09:49:00       4.65       15311  \n",
       "235 2018-11-29 10:24:00       1.65       17548  \n",
       "236 2018-11-29 10:24:00       0.29       17548  \n",
       "237 2018-11-29 10:24:00       0.29       17548  \n",
       "238 2018-11-29 10:24:00       0.29       17548  \n",
       "239 2018-11-29 10:24:00       3.45       17548  \n",
       "240 2018-11-29 10:24:00       1.65       17548  \n",
       "241 2018-11-29 10:24:00       1.65       17548  \n",
       "939 2018-11-29 12:38:00       4.25       17897  "
      ]
     },
     "execution_count": 20,
     "metadata": {},
     "output_type": "execute_result"
    }
   ],
   "source": [
    "# visualizando linhas onde 'InvoiceNo' contém informação além de números\n",
    "InvoiceNo_letters = customers_data_raw[customers_data_raw['InvoiceNo'].str.contains(r'[A-Za-z]', na=False)]\n",
    "InvoiceNo_letters.head(10)"
   ]
  },
  {
   "cell_type": "markdown",
   "metadata": {},
   "source": [
    "###### **StockCode**"
   ]
  },
  {
   "cell_type": "code",
   "execution_count": 21,
   "metadata": {},
   "outputs": [
    {
     "data": {
      "text/plain": [
       "3684"
      ]
     },
     "execution_count": 21,
     "metadata": {},
     "output_type": "execute_result"
    }
   ],
   "source": [
    "# contando número de valores unívocos para 'StockCode'\n",
    "customers_data_raw['StockCode'].nunique()"
   ]
  },
  {
   "cell_type": "code",
   "execution_count": 22,
   "metadata": {},
   "outputs": [
    {
     "data": {
      "text/html": [
       "<div>\n",
       "<style scoped>\n",
       "    .dataframe tbody tr th:only-of-type {\n",
       "        vertical-align: middle;\n",
       "    }\n",
       "\n",
       "    .dataframe tbody tr th {\n",
       "        vertical-align: top;\n",
       "    }\n",
       "\n",
       "    .dataframe thead th {\n",
       "        text-align: right;\n",
       "    }\n",
       "</style>\n",
       "<table border=\"1\" class=\"dataframe\">\n",
       "  <thead>\n",
       "    <tr style=\"text-align: right;\">\n",
       "      <th></th>\n",
       "      <th>InvoiceNo</th>\n",
       "      <th>StockCode</th>\n",
       "      <th>Description</th>\n",
       "      <th>Quantity</th>\n",
       "      <th>InvoiceDate</th>\n",
       "      <th>UnitPrice</th>\n",
       "      <th>CustomerID</th>\n",
       "    </tr>\n",
       "  </thead>\n",
       "  <tbody>\n",
       "    <tr>\n",
       "      <th>324002</th>\n",
       "      <td>565383</td>\n",
       "      <td>DOT</td>\n",
       "      <td>DOTCOM POSTAGE</td>\n",
       "      <td>1</td>\n",
       "      <td>2019-08-31 15:45:00</td>\n",
       "      <td>16.46</td>\n",
       "      <td>14096</td>\n",
       "    </tr>\n",
       "    <tr>\n",
       "      <th>39000</th>\n",
       "      <td>539607</td>\n",
       "      <td>POST</td>\n",
       "      <td>POSTAGE</td>\n",
       "      <td>5</td>\n",
       "      <td>2018-12-18 14:10:00</td>\n",
       "      <td>18.00</td>\n",
       "      <td>12681</td>\n",
       "    </tr>\n",
       "    <tr>\n",
       "      <th>491783</th>\n",
       "      <td>578074</td>\n",
       "      <td>M</td>\n",
       "      <td>Manual</td>\n",
       "      <td>1</td>\n",
       "      <td>2019-11-20 16:06:00</td>\n",
       "      <td>1.25</td>\n",
       "      <td>17590</td>\n",
       "    </tr>\n",
       "    <tr>\n",
       "      <th>190485</th>\n",
       "      <td>553195</td>\n",
       "      <td>POST</td>\n",
       "      <td>POSTAGE</td>\n",
       "      <td>1</td>\n",
       "      <td>2019-05-13 13:45:00</td>\n",
       "      <td>18.00</td>\n",
       "      <td>12599</td>\n",
       "    </tr>\n",
       "    <tr>\n",
       "      <th>479097</th>\n",
       "      <td>577135</td>\n",
       "      <td>POST</td>\n",
       "      <td>POSTAGE</td>\n",
       "      <td>2</td>\n",
       "      <td>2019-11-16 08:56:00</td>\n",
       "      <td>18.00</td>\n",
       "      <td>12427</td>\n",
       "    </tr>\n",
       "    <tr>\n",
       "      <th>34300</th>\n",
       "      <td>539330</td>\n",
       "      <td>POST</td>\n",
       "      <td>POSTAGE</td>\n",
       "      <td>3</td>\n",
       "      <td>2018-12-15 09:38:00</td>\n",
       "      <td>40.00</td>\n",
       "      <td>12370</td>\n",
       "    </tr>\n",
       "    <tr>\n",
       "      <th>28007</th>\n",
       "      <td>538597</td>\n",
       "      <td>M</td>\n",
       "      <td>Manual</td>\n",
       "      <td>1</td>\n",
       "      <td>2018-12-11 12:26:00</td>\n",
       "      <td>1.25</td>\n",
       "      <td>15555</td>\n",
       "    </tr>\n",
       "    <tr>\n",
       "      <th>186699</th>\n",
       "      <td>552878</td>\n",
       "      <td>POST</td>\n",
       "      <td>POSTAGE</td>\n",
       "      <td>8</td>\n",
       "      <td>2019-05-10 09:54:00</td>\n",
       "      <td>18.00</td>\n",
       "      <td>12625</td>\n",
       "    </tr>\n",
       "    <tr>\n",
       "      <th>334746</th>\n",
       "      <td>566268</td>\n",
       "      <td>POST</td>\n",
       "      <td>POSTAGE</td>\n",
       "      <td>3</td>\n",
       "      <td>2019-09-09 13:38:00</td>\n",
       "      <td>18.00</td>\n",
       "      <td>13813</td>\n",
       "    </tr>\n",
       "    <tr>\n",
       "      <th>418053</th>\n",
       "      <td>572682</td>\n",
       "      <td>M</td>\n",
       "      <td>Manual</td>\n",
       "      <td>72</td>\n",
       "      <td>2019-10-23 13:52:00</td>\n",
       "      <td>0.39</td>\n",
       "      <td>17928</td>\n",
       "    </tr>\n",
       "  </tbody>\n",
       "</table>\n",
       "</div>"
      ],
      "text/plain": [
       "       InvoiceNo StockCode     Description  Quantity         InvoiceDate  \\\n",
       "324002    565383       DOT  DOTCOM POSTAGE         1 2019-08-31 15:45:00   \n",
       "39000     539607      POST         POSTAGE         5 2018-12-18 14:10:00   \n",
       "491783    578074         M          Manual         1 2019-11-20 16:06:00   \n",
       "190485    553195      POST         POSTAGE         1 2019-05-13 13:45:00   \n",
       "479097    577135      POST         POSTAGE         2 2019-11-16 08:56:00   \n",
       "34300     539330      POST         POSTAGE         3 2018-12-15 09:38:00   \n",
       "28007     538597         M          Manual         1 2018-12-11 12:26:00   \n",
       "186699    552878      POST         POSTAGE         8 2019-05-10 09:54:00   \n",
       "334746    566268      POST         POSTAGE         3 2019-09-09 13:38:00   \n",
       "418053    572682         M          Manual        72 2019-10-23 13:52:00   \n",
       "\n",
       "        UnitPrice  CustomerID  \n",
       "324002      16.46       14096  \n",
       "39000       18.00       12681  \n",
       "491783       1.25       17590  \n",
       "190485      18.00       12599  \n",
       "479097      18.00       12427  \n",
       "34300       40.00       12370  \n",
       "28007        1.25       15555  \n",
       "186699      18.00       12625  \n",
       "334746      18.00       13813  \n",
       "418053       0.39       17928  "
      ]
     },
     "execution_count": 22,
     "metadata": {},
     "output_type": "execute_result"
    }
   ],
   "source": [
    "# visualizando linhas onde 'StockCode' contém apenas letras\n",
    "StockCode_letters = customers_data_raw[customers_data_raw['StockCode'].str.fullmatch(r'[A-Za-z]+', na=False)]\n",
    "StockCode_letters.sample(10)"
   ]
  },
  {
   "cell_type": "code",
   "execution_count": 23,
   "metadata": {},
   "outputs": [
    {
     "data": {
      "text/plain": [
       "array(['POST', 'D', 'M', 'PADS', 'DOT', 'CRUK'], dtype=object)"
      ]
     },
     "execution_count": 23,
     "metadata": {},
     "output_type": "execute_result"
    }
   ],
   "source": [
    "# visualizando valores unívocos de 'StockCode' não numéricos\n",
    "StockCode_letters['StockCode'].unique()"
   ]
  },
  {
   "cell_type": "code",
   "execution_count": 24,
   "metadata": {},
   "outputs": [],
   "source": [
    "# excluindo linhas presentes em 'StockCode_letters' do DataFrame original\n",
    "customers_data_raw = customers_data_raw[~customers_data_raw['StockCode'].str.fullmatch(r'[A-Za-z]+', na=False)]"
   ]
  },
  {
   "cell_type": "code",
   "execution_count": 25,
   "metadata": {},
   "outputs": [
    {
     "data": {
      "text/plain": [
       "3678"
      ]
     },
     "execution_count": 25,
     "metadata": {},
     "output_type": "execute_result"
    }
   ],
   "source": [
    "# contando número de valores unívocos para 'StockCode' após limpeza do DataFrame\n",
    "customers_data_raw['StockCode'].nunique()"
   ]
  },
  {
   "cell_type": "markdown",
   "metadata": {},
   "source": [
    "###### **Quantity**"
   ]
  },
  {
   "cell_type": "code",
   "execution_count": 26,
   "metadata": {},
   "outputs": [
    {
     "data": {
      "text/plain": [
       "count    399835.00000\n",
       "mean         12.22528\n",
       "std         250.79115\n",
       "min      -80995.00000\n",
       "25%           2.00000\n",
       "50%           5.00000\n",
       "75%          12.00000\n",
       "max       80995.00000\n",
       "Name: Quantity, dtype: float64"
      ]
     },
     "execution_count": 26,
     "metadata": {},
     "output_type": "execute_result"
    }
   ],
   "source": [
    "# visualizando variável 'Quantity'\n",
    "customers_data_raw['Quantity'].describe()"
   ]
  },
  {
   "cell_type": "code",
   "execution_count": 27,
   "metadata": {},
   "outputs": [
    {
     "data": {
      "text/html": [
       "<div>\n",
       "<style scoped>\n",
       "    .dataframe tbody tr th:only-of-type {\n",
       "        vertical-align: middle;\n",
       "    }\n",
       "\n",
       "    .dataframe tbody tr th {\n",
       "        vertical-align: top;\n",
       "    }\n",
       "\n",
       "    .dataframe thead th {\n",
       "        text-align: right;\n",
       "    }\n",
       "</style>\n",
       "<table border=\"1\" class=\"dataframe\">\n",
       "  <thead>\n",
       "    <tr style=\"text-align: right;\">\n",
       "      <th></th>\n",
       "      <th>InvoiceNo</th>\n",
       "      <th>StockCode</th>\n",
       "      <th>Description</th>\n",
       "      <th>Quantity</th>\n",
       "      <th>InvoiceDate</th>\n",
       "      <th>UnitPrice</th>\n",
       "      <th>CustomerID</th>\n",
       "    </tr>\n",
       "  </thead>\n",
       "  <tbody>\n",
       "    <tr>\n",
       "      <th>154</th>\n",
       "      <td>C536383</td>\n",
       "      <td>35004C</td>\n",
       "      <td>SET OF 3 COLOURED  FLYING DUCKS</td>\n",
       "      <td>-1</td>\n",
       "      <td>2018-11-29 09:49:00</td>\n",
       "      <td>4.65</td>\n",
       "      <td>15311</td>\n",
       "    </tr>\n",
       "    <tr>\n",
       "      <th>235</th>\n",
       "      <td>C536391</td>\n",
       "      <td>22556</td>\n",
       "      <td>PLASTERS IN TIN CIRCUS PARADE</td>\n",
       "      <td>-12</td>\n",
       "      <td>2018-11-29 10:24:00</td>\n",
       "      <td>1.65</td>\n",
       "      <td>17548</td>\n",
       "    </tr>\n",
       "    <tr>\n",
       "      <th>236</th>\n",
       "      <td>C536391</td>\n",
       "      <td>21984</td>\n",
       "      <td>PACK OF 12 PINK PAISLEY TISSUES</td>\n",
       "      <td>-24</td>\n",
       "      <td>2018-11-29 10:24:00</td>\n",
       "      <td>0.29</td>\n",
       "      <td>17548</td>\n",
       "    </tr>\n",
       "    <tr>\n",
       "      <th>237</th>\n",
       "      <td>C536391</td>\n",
       "      <td>21983</td>\n",
       "      <td>PACK OF 12 BLUE PAISLEY TISSUES</td>\n",
       "      <td>-24</td>\n",
       "      <td>2018-11-29 10:24:00</td>\n",
       "      <td>0.29</td>\n",
       "      <td>17548</td>\n",
       "    </tr>\n",
       "    <tr>\n",
       "      <th>238</th>\n",
       "      <td>C536391</td>\n",
       "      <td>21980</td>\n",
       "      <td>PACK OF 12 RED RETROSPOT TISSUES</td>\n",
       "      <td>-24</td>\n",
       "      <td>2018-11-29 10:24:00</td>\n",
       "      <td>0.29</td>\n",
       "      <td>17548</td>\n",
       "    </tr>\n",
       "    <tr>\n",
       "      <th>239</th>\n",
       "      <td>C536391</td>\n",
       "      <td>21484</td>\n",
       "      <td>CHICK GREY HOT WATER BOTTLE</td>\n",
       "      <td>-12</td>\n",
       "      <td>2018-11-29 10:24:00</td>\n",
       "      <td>3.45</td>\n",
       "      <td>17548</td>\n",
       "    </tr>\n",
       "    <tr>\n",
       "      <th>240</th>\n",
       "      <td>C536391</td>\n",
       "      <td>22557</td>\n",
       "      <td>PLASTERS IN TIN VINTAGE PAISLEY</td>\n",
       "      <td>-12</td>\n",
       "      <td>2018-11-29 10:24:00</td>\n",
       "      <td>1.65</td>\n",
       "      <td>17548</td>\n",
       "    </tr>\n",
       "    <tr>\n",
       "      <th>241</th>\n",
       "      <td>C536391</td>\n",
       "      <td>22553</td>\n",
       "      <td>PLASTERS IN TIN SKULLS</td>\n",
       "      <td>-24</td>\n",
       "      <td>2018-11-29 10:24:00</td>\n",
       "      <td>1.65</td>\n",
       "      <td>17548</td>\n",
       "    </tr>\n",
       "    <tr>\n",
       "      <th>939</th>\n",
       "      <td>C536506</td>\n",
       "      <td>22960</td>\n",
       "      <td>JAM MAKING SET WITH JARS</td>\n",
       "      <td>-6</td>\n",
       "      <td>2018-11-29 12:38:00</td>\n",
       "      <td>4.25</td>\n",
       "      <td>17897</td>\n",
       "    </tr>\n",
       "    <tr>\n",
       "      <th>1441</th>\n",
       "      <td>C536543</td>\n",
       "      <td>22632</td>\n",
       "      <td>HAND WARMER RED RETROSPOT</td>\n",
       "      <td>-1</td>\n",
       "      <td>2018-11-29 14:30:00</td>\n",
       "      <td>2.10</td>\n",
       "      <td>17841</td>\n",
       "    </tr>\n",
       "  </tbody>\n",
       "</table>\n",
       "</div>"
      ],
      "text/plain": [
       "     InvoiceNo StockCode                        Description  Quantity  \\\n",
       "154    C536383    35004C    SET OF 3 COLOURED  FLYING DUCKS        -1   \n",
       "235    C536391     22556     PLASTERS IN TIN CIRCUS PARADE        -12   \n",
       "236    C536391     21984   PACK OF 12 PINK PAISLEY TISSUES        -24   \n",
       "237    C536391     21983   PACK OF 12 BLUE PAISLEY TISSUES        -24   \n",
       "238    C536391     21980  PACK OF 12 RED RETROSPOT TISSUES        -24   \n",
       "239    C536391     21484        CHICK GREY HOT WATER BOTTLE       -12   \n",
       "240    C536391     22557   PLASTERS IN TIN VINTAGE PAISLEY        -12   \n",
       "241    C536391     22553             PLASTERS IN TIN SKULLS       -24   \n",
       "939    C536506     22960           JAM MAKING SET WITH JARS        -6   \n",
       "1441   C536543     22632          HAND WARMER RED RETROSPOT        -1   \n",
       "\n",
       "             InvoiceDate  UnitPrice  CustomerID  \n",
       "154  2018-11-29 09:49:00       4.65       15311  \n",
       "235  2018-11-29 10:24:00       1.65       17548  \n",
       "236  2018-11-29 10:24:00       0.29       17548  \n",
       "237  2018-11-29 10:24:00       0.29       17548  \n",
       "238  2018-11-29 10:24:00       0.29       17548  \n",
       "239  2018-11-29 10:24:00       3.45       17548  \n",
       "240  2018-11-29 10:24:00       1.65       17548  \n",
       "241  2018-11-29 10:24:00       1.65       17548  \n",
       "939  2018-11-29 12:38:00       4.25       17897  \n",
       "1441 2018-11-29 14:30:00       2.10       17841  "
      ]
     },
     "execution_count": 27,
     "metadata": {},
     "output_type": "execute_result"
    }
   ],
   "source": [
    "# filtrando linhas onde 'Quantity' tem valor negativo\n",
    "neg_quantity = customers_data_raw[customers_data_raw['Quantity'] < 0]\n",
    "neg_quantity.head(10)"
   ]
  },
  {
   "cell_type": "code",
   "execution_count": 28,
   "metadata": {},
   "outputs": [
    {
     "data": {
      "text/html": [
       "<div>\n",
       "<style scoped>\n",
       "    .dataframe tbody tr th:only-of-type {\n",
       "        vertical-align: middle;\n",
       "    }\n",
       "\n",
       "    .dataframe tbody tr th {\n",
       "        vertical-align: top;\n",
       "    }\n",
       "\n",
       "    .dataframe thead th {\n",
       "        text-align: right;\n",
       "    }\n",
       "</style>\n",
       "<table border=\"1\" class=\"dataframe\">\n",
       "  <thead>\n",
       "    <tr style=\"text-align: right;\">\n",
       "      <th></th>\n",
       "      <th>InvoiceNo</th>\n",
       "      <th>StockCode</th>\n",
       "      <th>Description</th>\n",
       "      <th>Quantity</th>\n",
       "      <th>InvoiceDate</th>\n",
       "      <th>UnitPrice</th>\n",
       "      <th>CustomerID</th>\n",
       "    </tr>\n",
       "  </thead>\n",
       "  <tbody>\n",
       "    <tr>\n",
       "      <th>235</th>\n",
       "      <td>C536391</td>\n",
       "      <td>22556</td>\n",
       "      <td>PLASTERS IN TIN CIRCUS PARADE</td>\n",
       "      <td>-12</td>\n",
       "      <td>2018-11-29 10:24:00</td>\n",
       "      <td>1.65</td>\n",
       "      <td>17548</td>\n",
       "    </tr>\n",
       "  </tbody>\n",
       "</table>\n",
       "</div>"
      ],
      "text/plain": [
       "    InvoiceNo StockCode                     Description  Quantity  \\\n",
       "235   C536391     22556  PLASTERS IN TIN CIRCUS PARADE        -12   \n",
       "\n",
       "            InvoiceDate  UnitPrice  CustomerID  \n",
       "235 2018-11-29 10:24:00       1.65       17548  "
      ]
     },
     "execution_count": 28,
     "metadata": {},
     "output_type": "execute_result"
    }
   ],
   "source": [
    "# visualizando compras de usuários com ocorrência de \"Quantity\" negativo \n",
    "neg_filt_17548 = customers_data_raw[(customers_data_raw['StockCode']=='22556')&(customers_data_raw['CustomerID']==17548)]\n",
    "neg_filt_17548"
   ]
  },
  {
   "cell_type": "code",
   "execution_count": 29,
   "metadata": {},
   "outputs": [
    {
     "data": {
      "text/html": [
       "<div>\n",
       "<style scoped>\n",
       "    .dataframe tbody tr th:only-of-type {\n",
       "        vertical-align: middle;\n",
       "    }\n",
       "\n",
       "    .dataframe tbody tr th {\n",
       "        vertical-align: top;\n",
       "    }\n",
       "\n",
       "    .dataframe thead th {\n",
       "        text-align: right;\n",
       "    }\n",
       "</style>\n",
       "<table border=\"1\" class=\"dataframe\">\n",
       "  <thead>\n",
       "    <tr style=\"text-align: right;\">\n",
       "      <th></th>\n",
       "      <th>InvoiceNo</th>\n",
       "      <th>StockCode</th>\n",
       "      <th>Description</th>\n",
       "      <th>Quantity</th>\n",
       "      <th>InvoiceDate</th>\n",
       "      <th>UnitPrice</th>\n",
       "      <th>CustomerID</th>\n",
       "    </tr>\n",
       "  </thead>\n",
       "  <tbody>\n",
       "    <tr>\n",
       "      <th>154</th>\n",
       "      <td>C536383</td>\n",
       "      <td>35004C</td>\n",
       "      <td>SET OF 3 COLOURED  FLYING DUCKS</td>\n",
       "      <td>-1</td>\n",
       "      <td>2018-11-29 09:49:00</td>\n",
       "      <td>4.65</td>\n",
       "      <td>15311</td>\n",
       "    </tr>\n",
       "    <tr>\n",
       "      <th>9200</th>\n",
       "      <td>537195</td>\n",
       "      <td>35004C</td>\n",
       "      <td>SET OF 3 COLOURED  FLYING DUCKS</td>\n",
       "      <td>12</td>\n",
       "      <td>2018-12-03 13:55:00</td>\n",
       "      <td>4.65</td>\n",
       "      <td>15311</td>\n",
       "    </tr>\n",
       "    <tr>\n",
       "      <th>18196</th>\n",
       "      <td>C537805</td>\n",
       "      <td>35004C</td>\n",
       "      <td>SET OF 3 COLOURED  FLYING DUCKS</td>\n",
       "      <td>-1</td>\n",
       "      <td>2018-12-06 13:18:00</td>\n",
       "      <td>4.65</td>\n",
       "      <td>15311</td>\n",
       "    </tr>\n",
       "    <tr>\n",
       "      <th>28630</th>\n",
       "      <td>538651</td>\n",
       "      <td>35004C</td>\n",
       "      <td>SET OF 3 COLOURED  FLYING DUCKS</td>\n",
       "      <td>12</td>\n",
       "      <td>2018-12-11 15:07:00</td>\n",
       "      <td>4.65</td>\n",
       "      <td>15311</td>\n",
       "    </tr>\n",
       "    <tr>\n",
       "      <th>39381</th>\n",
       "      <td>C539640</td>\n",
       "      <td>35004C</td>\n",
       "      <td>SET OF 3 COLOURED  FLYING DUCKS</td>\n",
       "      <td>-3</td>\n",
       "      <td>2018-12-18 15:27:00</td>\n",
       "      <td>4.65</td>\n",
       "      <td>15311</td>\n",
       "    </tr>\n",
       "    <tr>\n",
       "      <th>44157</th>\n",
       "      <td>540157</td>\n",
       "      <td>35004C</td>\n",
       "      <td>SET OF 3 COLOURED  FLYING DUCKS</td>\n",
       "      <td>12</td>\n",
       "      <td>2019-01-03 11:41:00</td>\n",
       "      <td>4.65</td>\n",
       "      <td>15311</td>\n",
       "    </tr>\n",
       "    <tr>\n",
       "      <th>59542</th>\n",
       "      <td>541293</td>\n",
       "      <td>35004C</td>\n",
       "      <td>SET OF 3 COLOURED  FLYING DUCKS</td>\n",
       "      <td>12</td>\n",
       "      <td>2019-01-15 13:39:00</td>\n",
       "      <td>4.65</td>\n",
       "      <td>15311</td>\n",
       "    </tr>\n",
       "    <tr>\n",
       "      <th>78333</th>\n",
       "      <td>C542866</td>\n",
       "      <td>35004C</td>\n",
       "      <td>SET OF 3 COLOURED  FLYING DUCKS</td>\n",
       "      <td>-2</td>\n",
       "      <td>2019-01-30 12:14:00</td>\n",
       "      <td>4.65</td>\n",
       "      <td>15311</td>\n",
       "    </tr>\n",
       "  </tbody>\n",
       "</table>\n",
       "</div>"
      ],
      "text/plain": [
       "      InvoiceNo StockCode                      Description  Quantity  \\\n",
       "154     C536383    35004C  SET OF 3 COLOURED  FLYING DUCKS        -1   \n",
       "9200     537195    35004C  SET OF 3 COLOURED  FLYING DUCKS        12   \n",
       "18196   C537805    35004C  SET OF 3 COLOURED  FLYING DUCKS        -1   \n",
       "28630    538651    35004C  SET OF 3 COLOURED  FLYING DUCKS        12   \n",
       "39381   C539640    35004C  SET OF 3 COLOURED  FLYING DUCKS        -3   \n",
       "44157    540157    35004C  SET OF 3 COLOURED  FLYING DUCKS        12   \n",
       "59542    541293    35004C  SET OF 3 COLOURED  FLYING DUCKS        12   \n",
       "78333   C542866    35004C  SET OF 3 COLOURED  FLYING DUCKS        -2   \n",
       "\n",
       "              InvoiceDate  UnitPrice  CustomerID  \n",
       "154   2018-11-29 09:49:00       4.65       15311  \n",
       "9200  2018-12-03 13:55:00       4.65       15311  \n",
       "18196 2018-12-06 13:18:00       4.65       15311  \n",
       "28630 2018-12-11 15:07:00       4.65       15311  \n",
       "39381 2018-12-18 15:27:00       4.65       15311  \n",
       "44157 2019-01-03 11:41:00       4.65       15311  \n",
       "59542 2019-01-15 13:39:00       4.65       15311  \n",
       "78333 2019-01-30 12:14:00       4.65       15311  "
      ]
     },
     "execution_count": 29,
     "metadata": {},
     "output_type": "execute_result"
    }
   ],
   "source": [
    "# visualizando compras de usuários com ocorrência de \"Quantity\" negativo \n",
    "neg_filt_15311 = customers_data_raw[(customers_data_raw['StockCode']=='35004C')&(customers_data_raw['CustomerID']==15311)]\n",
    "neg_filt_15311"
   ]
  },
  {
   "cell_type": "code",
   "execution_count": 30,
   "metadata": {},
   "outputs": [
    {
     "data": {
      "text/html": [
       "<div>\n",
       "<style scoped>\n",
       "    .dataframe tbody tr th:only-of-type {\n",
       "        vertical-align: middle;\n",
       "    }\n",
       "\n",
       "    .dataframe tbody tr th {\n",
       "        vertical-align: top;\n",
       "    }\n",
       "\n",
       "    .dataframe thead th {\n",
       "        text-align: right;\n",
       "    }\n",
       "</style>\n",
       "<table border=\"1\" class=\"dataframe\">\n",
       "  <thead>\n",
       "    <tr style=\"text-align: right;\">\n",
       "      <th></th>\n",
       "      <th>InvoiceNo</th>\n",
       "      <th>StockCode</th>\n",
       "      <th>Description</th>\n",
       "      <th>Quantity</th>\n",
       "      <th>InvoiceDate</th>\n",
       "      <th>UnitPrice</th>\n",
       "      <th>CustomerID</th>\n",
       "    </tr>\n",
       "  </thead>\n",
       "  <tbody>\n",
       "    <tr>\n",
       "      <th>214615</th>\n",
       "      <td>555591</td>\n",
       "      <td>22680</td>\n",
       "      <td>FRENCH BLUE METAL DOOR SIGN 5</td>\n",
       "      <td>10</td>\n",
       "      <td>2019-06-04 09:59:00</td>\n",
       "      <td>1.25</td>\n",
       "      <td>15073</td>\n",
       "    </tr>\n",
       "    <tr>\n",
       "      <th>214901</th>\n",
       "      <td>C555636</td>\n",
       "      <td>22680</td>\n",
       "      <td>FRENCH BLUE METAL DOOR SIGN 5</td>\n",
       "      <td>-10</td>\n",
       "      <td>2019-06-04 12:33:00</td>\n",
       "      <td>1.25</td>\n",
       "      <td>15073</td>\n",
       "    </tr>\n",
       "    <tr>\n",
       "      <th>216100</th>\n",
       "      <td>555819</td>\n",
       "      <td>22680</td>\n",
       "      <td>FRENCH BLUE METAL DOOR SIGN 5</td>\n",
       "      <td>10</td>\n",
       "      <td>2019-06-05 12:00:00</td>\n",
       "      <td>1.25</td>\n",
       "      <td>15073</td>\n",
       "    </tr>\n",
       "  </tbody>\n",
       "</table>\n",
       "</div>"
      ],
      "text/plain": [
       "       InvoiceNo StockCode                    Description  Quantity  \\\n",
       "214615    555591     22680  FRENCH BLUE METAL DOOR SIGN 5        10   \n",
       "214901   C555636     22680  FRENCH BLUE METAL DOOR SIGN 5       -10   \n",
       "216100    555819     22680  FRENCH BLUE METAL DOOR SIGN 5        10   \n",
       "\n",
       "               InvoiceDate  UnitPrice  CustomerID  \n",
       "214615 2019-06-04 09:59:00       1.25       15073  \n",
       "214901 2019-06-04 12:33:00       1.25       15073  \n",
       "216100 2019-06-05 12:00:00       1.25       15073  "
      ]
     },
     "execution_count": 30,
     "metadata": {},
     "output_type": "execute_result"
    }
   ],
   "source": [
    "# visualizando compras de usuários com ocorrência de \"Quantity\" negativo \n",
    "neg_filt_15073 = customers_data_raw[(customers_data_raw['StockCode']=='22680')&(customers_data_raw['CustomerID']==15073)]\n",
    "neg_filt_15073"
   ]
  },
  {
   "cell_type": "code",
   "execution_count": 31,
   "metadata": {},
   "outputs": [],
   "source": [
    "# criando coluna que multiplica 'Quantity' por 'UnitPrice' para obter valor real da transação\n",
    "customers_data_raw['TotalValue'] = customers_data_raw['Quantity'] * customers_data_raw['UnitPrice']"
   ]
  },
  {
   "cell_type": "code",
   "execution_count": 32,
   "metadata": {},
   "outputs": [
    {
     "data": {
      "text/html": [
       "<div>\n",
       "<style scoped>\n",
       "    .dataframe tbody tr th:only-of-type {\n",
       "        vertical-align: middle;\n",
       "    }\n",
       "\n",
       "    .dataframe tbody tr th {\n",
       "        vertical-align: top;\n",
       "    }\n",
       "\n",
       "    .dataframe thead th {\n",
       "        text-align: right;\n",
       "    }\n",
       "</style>\n",
       "<table border=\"1\" class=\"dataframe\">\n",
       "  <thead>\n",
       "    <tr style=\"text-align: right;\">\n",
       "      <th></th>\n",
       "      <th>InvoiceNo</th>\n",
       "      <th>StockCode</th>\n",
       "      <th>Description</th>\n",
       "      <th>Quantity</th>\n",
       "      <th>InvoiceDate</th>\n",
       "      <th>UnitPrice</th>\n",
       "      <th>CustomerID</th>\n",
       "      <th>TotalValue</th>\n",
       "    </tr>\n",
       "  </thead>\n",
       "  <tbody>\n",
       "    <tr>\n",
       "      <th>345669</th>\n",
       "      <td>567173</td>\n",
       "      <td>21820</td>\n",
       "      <td>GLITTER HEART GARLAND WITH BELLS</td>\n",
       "      <td>6</td>\n",
       "      <td>2019-09-16 13:29:00</td>\n",
       "      <td>3.75</td>\n",
       "      <td>16689</td>\n",
       "      <td>22.50</td>\n",
       "    </tr>\n",
       "    <tr>\n",
       "      <th>180287</th>\n",
       "      <td>552313</td>\n",
       "      <td>21878</td>\n",
       "      <td>PACK OF 6 SANDCASTLE FLAGS ASSORTED</td>\n",
       "      <td>12</td>\n",
       "      <td>2019-05-06 16:03:00</td>\n",
       "      <td>0.85</td>\n",
       "      <td>13139</td>\n",
       "      <td>10.20</td>\n",
       "    </tr>\n",
       "    <tr>\n",
       "      <th>205493</th>\n",
       "      <td>554813</td>\n",
       "      <td>21340</td>\n",
       "      <td>CLASSIC METAL BIRDCAGE PLANT HOLDER</td>\n",
       "      <td>1</td>\n",
       "      <td>2019-05-24 13:26:00</td>\n",
       "      <td>12.75</td>\n",
       "      <td>15852</td>\n",
       "      <td>12.75</td>\n",
       "    </tr>\n",
       "    <tr>\n",
       "      <th>147154</th>\n",
       "      <td>549059</td>\n",
       "      <td>22752</td>\n",
       "      <td>SET 7 BABUSHKA NESTING BOXES</td>\n",
       "      <td>6</td>\n",
       "      <td>2019-04-04 10:46:00</td>\n",
       "      <td>8.50</td>\n",
       "      <td>15529</td>\n",
       "      <td>51.00</td>\n",
       "    </tr>\n",
       "    <tr>\n",
       "      <th>477340</th>\n",
       "      <td>577057</td>\n",
       "      <td>21055</td>\n",
       "      <td>TOOL BOX SOFT TOY</td>\n",
       "      <td>1</td>\n",
       "      <td>2019-11-15 14:26:00</td>\n",
       "      <td>8.95</td>\n",
       "      <td>12748</td>\n",
       "      <td>8.95</td>\n",
       "    </tr>\n",
       "    <tr>\n",
       "      <th>49735</th>\n",
       "      <td>540529</td>\n",
       "      <td>21931</td>\n",
       "      <td>JUMBO STORAGE BAG SUKI</td>\n",
       "      <td>20</td>\n",
       "      <td>2019-01-07 13:50:00</td>\n",
       "      <td>1.95</td>\n",
       "      <td>16748</td>\n",
       "      <td>39.00</td>\n",
       "    </tr>\n",
       "    <tr>\n",
       "      <th>468293</th>\n",
       "      <td>576412</td>\n",
       "      <td>21232</td>\n",
       "      <td>STRAWBERRY CERAMIC TRINKET POT</td>\n",
       "      <td>12</td>\n",
       "      <td>2019-11-13 11:21:00</td>\n",
       "      <td>1.25</td>\n",
       "      <td>13455</td>\n",
       "      <td>15.00</td>\n",
       "    </tr>\n",
       "    <tr>\n",
       "      <th>340521</th>\n",
       "      <td>566668</td>\n",
       "      <td>15056N</td>\n",
       "      <td>EDWARDIAN PARASOL NATURAL</td>\n",
       "      <td>6</td>\n",
       "      <td>2019-09-12 11:35:00</td>\n",
       "      <td>5.95</td>\n",
       "      <td>18065</td>\n",
       "      <td>35.70</td>\n",
       "    </tr>\n",
       "    <tr>\n",
       "      <th>271369</th>\n",
       "      <td>560691</td>\n",
       "      <td>23209</td>\n",
       "      <td>LUNCH BAG DOILEY PATTERN</td>\n",
       "      <td>10</td>\n",
       "      <td>2019-07-18 12:00:00</td>\n",
       "      <td>1.65</td>\n",
       "      <td>13136</td>\n",
       "      <td>16.50</td>\n",
       "    </tr>\n",
       "    <tr>\n",
       "      <th>95972</th>\n",
       "      <td>544470</td>\n",
       "      <td>22521</td>\n",
       "      <td>CHILDS GARDEN TROWEL PINK</td>\n",
       "      <td>12</td>\n",
       "      <td>2019-02-19 08:38:00</td>\n",
       "      <td>0.85</td>\n",
       "      <td>12707</td>\n",
       "      <td>10.20</td>\n",
       "    </tr>\n",
       "  </tbody>\n",
       "</table>\n",
       "</div>"
      ],
      "text/plain": [
       "       InvoiceNo StockCode                          Description  Quantity  \\\n",
       "345669    567173     21820    GLITTER HEART GARLAND WITH BELLS          6   \n",
       "180287    552313     21878  PACK OF 6 SANDCASTLE FLAGS ASSORTED        12   \n",
       "205493    554813     21340  CLASSIC METAL BIRDCAGE PLANT HOLDER         1   \n",
       "147154    549059     22752         SET 7 BABUSHKA NESTING BOXES         6   \n",
       "477340    577057     21055                   TOOL BOX SOFT TOY          1   \n",
       "49735     540529     21931               JUMBO STORAGE BAG SUKI        20   \n",
       "468293    576412     21232       STRAWBERRY CERAMIC TRINKET POT        12   \n",
       "340521    566668    15056N            EDWARDIAN PARASOL NATURAL         6   \n",
       "271369    560691     23209            LUNCH BAG DOILEY PATTERN         10   \n",
       "95972     544470     22521            CHILDS GARDEN TROWEL PINK        12   \n",
       "\n",
       "               InvoiceDate  UnitPrice  CustomerID  TotalValue  \n",
       "345669 2019-09-16 13:29:00       3.75       16689       22.50  \n",
       "180287 2019-05-06 16:03:00       0.85       13139       10.20  \n",
       "205493 2019-05-24 13:26:00      12.75       15852       12.75  \n",
       "147154 2019-04-04 10:46:00       8.50       15529       51.00  \n",
       "477340 2019-11-15 14:26:00       8.95       12748        8.95  \n",
       "49735  2019-01-07 13:50:00       1.95       16748       39.00  \n",
       "468293 2019-11-13 11:21:00       1.25       13455       15.00  \n",
       "340521 2019-09-12 11:35:00       5.95       18065       35.70  \n",
       "271369 2019-07-18 12:00:00       1.65       13136       16.50  \n",
       "95972  2019-02-19 08:38:00       0.85       12707       10.20  "
      ]
     },
     "execution_count": 32,
     "metadata": {},
     "output_type": "execute_result"
    }
   ],
   "source": [
    "# visualizando DataFrame com a nova coluna\n",
    "customers_data_raw.sample(10)"
   ]
  },
  {
   "cell_type": "markdown",
   "metadata": {},
   "source": [
    "###### **InvoiceDate**"
   ]
  },
  {
   "cell_type": "code",
   "execution_count": 33,
   "metadata": {},
   "outputs": [
    {
     "data": {
      "text/plain": [
       "Timestamp('2018-11-29 08:26:00')"
      ]
     },
     "execution_count": 33,
     "metadata": {},
     "output_type": "execute_result"
    }
   ],
   "source": [
    "# verificando data incial dos dados\n",
    "customers_data_raw['InvoiceDate'].min()"
   ]
  },
  {
   "cell_type": "code",
   "execution_count": 34,
   "metadata": {},
   "outputs": [
    {
     "data": {
      "text/plain": [
       "Timestamp('2019-12-07 12:50:00')"
      ]
     },
     "execution_count": 34,
     "metadata": {},
     "output_type": "execute_result"
    }
   ],
   "source": [
    "# verificando data final dos dados\n",
    "customers_data_raw['InvoiceDate'].max()"
   ]
  },
  {
   "cell_type": "markdown",
   "metadata": {},
   "source": [
    "###### **UnitPrice**"
   ]
  },
  {
   "cell_type": "code",
   "execution_count": 35,
   "metadata": {},
   "outputs": [
    {
     "data": {
      "text/plain": [
       "count    399835.000000\n",
       "mean          2.923610\n",
       "std           4.538058\n",
       "min           0.000000\n",
       "25%           1.250000\n",
       "50%           1.950000\n",
       "75%           3.750000\n",
       "max         649.500000\n",
       "Name: UnitPrice, dtype: float64"
      ]
     },
     "execution_count": 35,
     "metadata": {},
     "output_type": "execute_result"
    }
   ],
   "source": [
    "# visualizando valores de 'UnitPrice'\n",
    "customers_data_raw['UnitPrice'].describe()"
   ]
  },
  {
   "cell_type": "code",
   "execution_count": 36,
   "metadata": {},
   "outputs": [],
   "source": [
    "# filtrando transações com produtos com valor = 0.00\n",
    "price_zero = customers_data_raw[customers_data_raw['UnitPrice']==0.00]"
   ]
  },
  {
   "cell_type": "code",
   "execution_count": 37,
   "metadata": {},
   "outputs": [
    {
     "name": "stdout",
     "output_type": "stream",
     "text": [
      "<class 'pandas.core.frame.DataFrame'>\n",
      "Index: 33 entries, 9302 to 502122\n",
      "Data columns (total 8 columns):\n",
      " #   Column       Non-Null Count  Dtype         \n",
      "---  ------       --------------  -----         \n",
      " 0   InvoiceNo    33 non-null     object        \n",
      " 1   StockCode    33 non-null     object        \n",
      " 2   Description  33 non-null     object        \n",
      " 3   Quantity     33 non-null     int64         \n",
      " 4   InvoiceDate  33 non-null     datetime64[ns]\n",
      " 5   UnitPrice    33 non-null     float64       \n",
      " 6   CustomerID   33 non-null     int32         \n",
      " 7   TotalValue   33 non-null     float64       \n",
      "dtypes: datetime64[ns](1), float64(2), int32(1), int64(1), object(3)\n",
      "memory usage: 2.2+ KB\n"
     ]
    }
   ],
   "source": [
    "# visualizando dados filtrados\n",
    "price_zero.info()"
   ]
  },
  {
   "cell_type": "code",
   "execution_count": 38,
   "metadata": {},
   "outputs": [
    {
     "data": {
      "text/html": [
       "<div>\n",
       "<style scoped>\n",
       "    .dataframe tbody tr th:only-of-type {\n",
       "        vertical-align: middle;\n",
       "    }\n",
       "\n",
       "    .dataframe tbody tr th {\n",
       "        vertical-align: top;\n",
       "    }\n",
       "\n",
       "    .dataframe thead th {\n",
       "        text-align: right;\n",
       "    }\n",
       "</style>\n",
       "<table border=\"1\" class=\"dataframe\">\n",
       "  <thead>\n",
       "    <tr style=\"text-align: right;\">\n",
       "      <th></th>\n",
       "      <th>InvoiceNo</th>\n",
       "      <th>StockCode</th>\n",
       "      <th>Description</th>\n",
       "      <th>Quantity</th>\n",
       "      <th>InvoiceDate</th>\n",
       "      <th>UnitPrice</th>\n",
       "      <th>CustomerID</th>\n",
       "      <th>TotalValue</th>\n",
       "    </tr>\n",
       "  </thead>\n",
       "  <tbody>\n",
       "    <tr>\n",
       "      <th>9302</th>\n",
       "      <td>537197</td>\n",
       "      <td>22841</td>\n",
       "      <td>ROUND CAKE TIN VINTAGE GREEN</td>\n",
       "      <td>1</td>\n",
       "      <td>2018-12-03 14:02:00</td>\n",
       "      <td>0.0</td>\n",
       "      <td>12647</td>\n",
       "      <td>0.0</td>\n",
       "    </tr>\n",
       "    <tr>\n",
       "      <th>33576</th>\n",
       "      <td>539263</td>\n",
       "      <td>22580</td>\n",
       "      <td>ADVENT CALENDAR GINGHAM SACK</td>\n",
       "      <td>4</td>\n",
       "      <td>2018-12-14 14:36:00</td>\n",
       "      <td>0.0</td>\n",
       "      <td>16560</td>\n",
       "      <td>0.0</td>\n",
       "    </tr>\n",
       "    <tr>\n",
       "      <th>40089</th>\n",
       "      <td>539722</td>\n",
       "      <td>22423</td>\n",
       "      <td>REGENCY CAKESTAND 3 TIER</td>\n",
       "      <td>10</td>\n",
       "      <td>2018-12-19 13:45:00</td>\n",
       "      <td>0.0</td>\n",
       "      <td>14911</td>\n",
       "      <td>0.0</td>\n",
       "    </tr>\n",
       "    <tr>\n",
       "      <th>47068</th>\n",
       "      <td>540372</td>\n",
       "      <td>22090</td>\n",
       "      <td>PAPER BUNTING RETROSPOT</td>\n",
       "      <td>24</td>\n",
       "      <td>2019-01-04 16:41:00</td>\n",
       "      <td>0.0</td>\n",
       "      <td>13081</td>\n",
       "      <td>0.0</td>\n",
       "    </tr>\n",
       "    <tr>\n",
       "      <th>47070</th>\n",
       "      <td>540372</td>\n",
       "      <td>22553</td>\n",
       "      <td>PLASTERS IN TIN SKULLS</td>\n",
       "      <td>24</td>\n",
       "      <td>2019-01-04 16:41:00</td>\n",
       "      <td>0.0</td>\n",
       "      <td>13081</td>\n",
       "      <td>0.0</td>\n",
       "    </tr>\n",
       "  </tbody>\n",
       "</table>\n",
       "</div>"
      ],
      "text/plain": [
       "      InvoiceNo StockCode                   Description  Quantity  \\\n",
       "9302     537197     22841  ROUND CAKE TIN VINTAGE GREEN         1   \n",
       "33576    539263     22580  ADVENT CALENDAR GINGHAM SACK         4   \n",
       "40089    539722     22423      REGENCY CAKESTAND 3 TIER        10   \n",
       "47068    540372     22090       PAPER BUNTING RETROSPOT        24   \n",
       "47070    540372     22553        PLASTERS IN TIN SKULLS        24   \n",
       "\n",
       "              InvoiceDate  UnitPrice  CustomerID  TotalValue  \n",
       "9302  2018-12-03 14:02:00        0.0       12647         0.0  \n",
       "33576 2018-12-14 14:36:00        0.0       16560         0.0  \n",
       "40089 2018-12-19 13:45:00        0.0       14911         0.0  \n",
       "47068 2019-01-04 16:41:00        0.0       13081         0.0  \n",
       "47070 2019-01-04 16:41:00        0.0       13081         0.0  "
      ]
     },
     "execution_count": 38,
     "metadata": {},
     "output_type": "execute_result"
    }
   ],
   "source": [
    "# visualizando dados filtrados\n",
    "price_zero.head()"
   ]
  },
  {
   "cell_type": "code",
   "execution_count": 39,
   "metadata": {},
   "outputs": [
    {
     "data": {
      "text/plain": [
       "array([ 7.95,  0.  ,  6.95,  5.49, 15.79])"
      ]
     },
     "execution_count": 39,
     "metadata": {},
     "output_type": "execute_result"
    }
   ],
   "source": [
    "# verificando valores atribuídos ao produto com código '22841'\n",
    "product_22841 = customers_data_raw[customers_data_raw['StockCode']=='22841']\n",
    "product_22841['UnitPrice'].unique()"
   ]
  },
  {
   "cell_type": "code",
   "execution_count": 40,
   "metadata": {},
   "outputs": [
    {
     "data": {
      "text/plain": [
       "array([ 5.95,  4.95,  0.  , 11.63])"
      ]
     },
     "execution_count": 40,
     "metadata": {},
     "output_type": "execute_result"
    }
   ],
   "source": [
    "# verificando valores atribuídos ao produto com código '22841'\n",
    "product_22580 = customers_data_raw[customers_data_raw['StockCode']=='22580']\n",
    "product_22580['UnitPrice'].unique()"
   ]
  },
  {
   "cell_type": "code",
   "execution_count": 41,
   "metadata": {},
   "outputs": [
    {
     "data": {
      "image/png": "[encoded data removed]",
      "text/plain": [
       "<Figure size 1200x600 with 1 Axes>"
      ]
     },
     "metadata": {},
     "output_type": "display_data"
    }
   ],
   "source": [
    "# gerando histograma com as linhas da mediana e máximo\n",
    "unit_price_median = customers_data_raw['UnitPrice'].median()\n",
    "unit_price_max = customers_data_raw['UnitPrice'].max()\n",
    "\n",
    "plt.figure(figsize=(12, 6))\n",
    "plt.hist(customers_data_raw['UnitPrice'], bins=50, color='skyblue', alpha=0.7)\n",
    "plt.axvline(unit_price_median, color='green', linestyle='dashed', linewidth=1.5, label=f'Mediana: {unit_price_median:.2f}')\n",
    "plt.axvline(unit_price_max, color='red', linestyle='dashed', linewidth=1.5, label=f'Máximo: {unit_price_max:.2f}')\n",
    "plt.title('Distribuição de UnitPrice', fontsize=16)\n",
    "plt.xlabel('UnitPrice', fontsize=14)\n",
    "plt.ylabel('Frequência', fontsize=14)\n",
    "plt.legend()\n",
    "plt.grid(axis='y', linestyle='--', alpha=0.7)\n",
    "plt.show()"
   ]
  },
  {
   "cell_type": "markdown",
   "metadata": {},
   "source": [
    "##### 1.2.3.2. Distribuição e valores atípicos"
   ]
  },
  {
   "cell_type": "markdown",
   "metadata": {},
   "source": [
    "###### **Pedidos por usuário**"
   ]
  },
  {
   "cell_type": "code",
   "execution_count": 42,
   "metadata": {},
   "outputs": [],
   "source": [
    "# contando número de pedidos por usuário\n",
    "orders_per_user = customers_data_raw.groupby('CustomerID')['InvoiceNo'].nunique()"
   ]
  },
  {
   "cell_type": "code",
   "execution_count": 43,
   "metadata": {},
   "outputs": [
    {
     "data": {
      "image/png": "[encoded data removed]",
      "text/plain": [
       "<Figure size 1000x600 with 1 Axes>"
      ]
     },
     "metadata": {},
     "output_type": "display_data"
    }
   ],
   "source": [
    "# criando um histograma para visualizar distribuição\n",
    "plt.figure(figsize=(10, 6))\n",
    "plt.hist(orders_per_user, bins=20, color='skyblue')\n",
    "plt.title('Distribuição de Pedidos por Usuário')\n",
    "plt.xlabel('Número de Pedidos')\n",
    "plt.ylabel('Quantidade de Usuários')\n",
    "plt.show()"
   ]
  },
  {
   "cell_type": "code",
   "execution_count": 44,
   "metadata": {},
   "outputs": [
    {
     "data": {
      "image/png": "[encoded data removed]",
      "text/plain": [
       "<Figure size 1000x600 with 1 Axes>"
      ]
     },
     "metadata": {},
     "output_type": "display_data"
    }
   ],
   "source": [
    "# criando boxplot (com Matplotlib)\n",
    "plt.figure(figsize=(10, 6))\n",
    "plt.boxplot(orders_per_user, vert=False, patch_artist=True, boxprops=dict(facecolor='skyblue'))\n",
    "plt.title('Boxplot de Pedidos por Usuário')\n",
    "plt.xlabel('Número de Pedidos')\n",
    "plt.show()"
   ]
  },
  {
   "cell_type": "markdown",
   "metadata": {},
   "source": [
    "###### **Receita por usuário**"
   ]
  },
  {
   "cell_type": "code",
   "execution_count": 45,
   "metadata": {},
   "outputs": [],
   "source": [
    "# somando receita total por usuário\n",
    "value_per_user = customers_data_raw.groupby('CustomerID')['TotalValue'].sum()"
   ]
  },
  {
   "cell_type": "code",
   "execution_count": 46,
   "metadata": {},
   "outputs": [
    {
     "data": {
      "image/png": "[encoded data removed]",
      "text/plain": [
       "<Figure size 1000x600 with 1 Axes>"
      ]
     },
     "metadata": {},
     "output_type": "display_data"
    }
   ],
   "source": [
    "# criando um histograma para visualizar distribuição\n",
    "plt.figure(figsize=(10, 6))\n",
    "plt.hist(value_per_user, bins=20, color='skyblue')\n",
    "plt.title('Distribuição de Receita por Usuário')\n",
    "plt.xlabel('Receita Total')\n",
    "plt.ylabel('Quantidade de Usuários')\n",
    "plt.show()"
   ]
  },
  {
   "cell_type": "code",
   "execution_count": 47,
   "metadata": {},
   "outputs": [
    {
     "data": {
      "image/png": "[encoded data removed]",
      "text/plain": [
       "<Figure size 1000x600 with 1 Axes>"
      ]
     },
     "metadata": {},
     "output_type": "display_data"
    }
   ],
   "source": [
    "# criando boxplot (com Matplotlib)\n",
    "plt.figure(figsize=(10, 6))\n",
    "plt.boxplot(value_per_user, vert=False, patch_artist=True, boxprops=dict(facecolor='skyblue'))\n",
    "plt.title('Boxplot Receita por Usuário')\n",
    "plt.xlabel('Receita Total')\n",
    "plt.show()"
   ]
  },
  {
   "cell_type": "markdown",
   "metadata": {},
   "source": [
    "#### 1.2.4. Data Frame final"
   ]
  },
  {
   "cell_type": "code",
   "execution_count": 48,
   "metadata": {},
   "outputs": [],
   "source": [
    "# salvando DataFrame final após tratamento dos dados\n",
    "customers_data = customers_data_raw"
   ]
  },
  {
   "cell_type": "code",
   "execution_count": 49,
   "metadata": {},
   "outputs": [
    {
     "name": "stdout",
     "output_type": "stream",
     "text": [
      "<class 'pandas.core.frame.DataFrame'>\n",
      "Index: 399835 entries, 0 to 541908\n",
      "Data columns (total 8 columns):\n",
      " #   Column       Non-Null Count   Dtype         \n",
      "---  ------       --------------   -----         \n",
      " 0   InvoiceNo    399835 non-null  object        \n",
      " 1   StockCode    399835 non-null  object        \n",
      " 2   Description  399835 non-null  object        \n",
      " 3   Quantity     399835 non-null  int64         \n",
      " 4   InvoiceDate  399835 non-null  datetime64[ns]\n",
      " 5   UnitPrice    399835 non-null  float64       \n",
      " 6   CustomerID   399835 non-null  int32         \n",
      " 7   TotalValue   399835 non-null  float64       \n",
      "dtypes: datetime64[ns](1), float64(2), int32(1), int64(1), object(3)\n",
      "memory usage: 25.9+ MB\n"
     ]
    }
   ],
   "source": [
    "# visualizando dados\n",
    "customers_data.info()"
   ]
  },
  {
   "cell_type": "code",
   "execution_count": 50,
   "metadata": {},
   "outputs": [
    {
     "data": {
      "text/html": [
       "<div>\n",
       "<style scoped>\n",
       "    .dataframe tbody tr th:only-of-type {\n",
       "        vertical-align: middle;\n",
       "    }\n",
       "\n",
       "    .dataframe tbody tr th {\n",
       "        vertical-align: top;\n",
       "    }\n",
       "\n",
       "    .dataframe thead th {\n",
       "        text-align: right;\n",
       "    }\n",
       "</style>\n",
       "<table border=\"1\" class=\"dataframe\">\n",
       "  <thead>\n",
       "    <tr style=\"text-align: right;\">\n",
       "      <th></th>\n",
       "      <th>InvoiceNo</th>\n",
       "      <th>StockCode</th>\n",
       "      <th>Description</th>\n",
       "      <th>Quantity</th>\n",
       "      <th>InvoiceDate</th>\n",
       "      <th>UnitPrice</th>\n",
       "      <th>CustomerID</th>\n",
       "      <th>TotalValue</th>\n",
       "    </tr>\n",
       "  </thead>\n",
       "  <tbody>\n",
       "    <tr>\n",
       "      <th>0</th>\n",
       "      <td>536365</td>\n",
       "      <td>85123A</td>\n",
       "      <td>WHITE HANGING HEART T-LIGHT HOLDER</td>\n",
       "      <td>6</td>\n",
       "      <td>2018-11-29 08:26:00</td>\n",
       "      <td>2.55</td>\n",
       "      <td>17850</td>\n",
       "      <td>15.30</td>\n",
       "    </tr>\n",
       "    <tr>\n",
       "      <th>1</th>\n",
       "      <td>536365</td>\n",
       "      <td>71053</td>\n",
       "      <td>WHITE METAL LANTERN</td>\n",
       "      <td>6</td>\n",
       "      <td>2018-11-29 08:26:00</td>\n",
       "      <td>3.39</td>\n",
       "      <td>17850</td>\n",
       "      <td>20.34</td>\n",
       "    </tr>\n",
       "    <tr>\n",
       "      <th>2</th>\n",
       "      <td>536365</td>\n",
       "      <td>84406B</td>\n",
       "      <td>CREAM CUPID HEARTS COAT HANGER</td>\n",
       "      <td>8</td>\n",
       "      <td>2018-11-29 08:26:00</td>\n",
       "      <td>2.75</td>\n",
       "      <td>17850</td>\n",
       "      <td>22.00</td>\n",
       "    </tr>\n",
       "    <tr>\n",
       "      <th>3</th>\n",
       "      <td>536365</td>\n",
       "      <td>84029G</td>\n",
       "      <td>KNITTED UNION FLAG HOT WATER BOTTLE</td>\n",
       "      <td>6</td>\n",
       "      <td>2018-11-29 08:26:00</td>\n",
       "      <td>3.39</td>\n",
       "      <td>17850</td>\n",
       "      <td>20.34</td>\n",
       "    </tr>\n",
       "    <tr>\n",
       "      <th>4</th>\n",
       "      <td>536365</td>\n",
       "      <td>84029E</td>\n",
       "      <td>RED WOOLLY HOTTIE WHITE HEART.</td>\n",
       "      <td>6</td>\n",
       "      <td>2018-11-29 08:26:00</td>\n",
       "      <td>3.39</td>\n",
       "      <td>17850</td>\n",
       "      <td>20.34</td>\n",
       "    </tr>\n",
       "  </tbody>\n",
       "</table>\n",
       "</div>"
      ],
      "text/plain": [
       "  InvoiceNo StockCode                          Description  Quantity  \\\n",
       "0    536365    85123A   WHITE HANGING HEART T-LIGHT HOLDER         6   \n",
       "1    536365     71053                  WHITE METAL LANTERN         6   \n",
       "2    536365    84406B       CREAM CUPID HEARTS COAT HANGER         8   \n",
       "3    536365    84029G  KNITTED UNION FLAG HOT WATER BOTTLE         6   \n",
       "4    536365    84029E       RED WOOLLY HOTTIE WHITE HEART.         6   \n",
       "\n",
       "          InvoiceDate  UnitPrice  CustomerID  TotalValue  \n",
       "0 2018-11-29 08:26:00       2.55       17850       15.30  \n",
       "1 2018-11-29 08:26:00       3.39       17850       20.34  \n",
       "2 2018-11-29 08:26:00       2.75       17850       22.00  \n",
       "3 2018-11-29 08:26:00       3.39       17850       20.34  \n",
       "4 2018-11-29 08:26:00       3.39       17850       20.34  "
      ]
     },
     "execution_count": 50,
     "metadata": {},
     "output_type": "execute_result"
    }
   ],
   "source": [
    "# visualizando dados\n",
    "customers_data.head()"
   ]
  },
  {
   "cell_type": "code",
   "execution_count": 51,
   "metadata": {},
   "outputs": [
    {
     "data": {
      "text/html": [
       "<div>\n",
       "<style scoped>\n",
       "    .dataframe tbody tr th:only-of-type {\n",
       "        vertical-align: middle;\n",
       "    }\n",
       "\n",
       "    .dataframe tbody tr th {\n",
       "        vertical-align: top;\n",
       "    }\n",
       "\n",
       "    .dataframe thead th {\n",
       "        text-align: right;\n",
       "    }\n",
       "</style>\n",
       "<table border=\"1\" class=\"dataframe\">\n",
       "  <thead>\n",
       "    <tr style=\"text-align: right;\">\n",
       "      <th></th>\n",
       "      <th>InvoiceNo</th>\n",
       "      <th>StockCode</th>\n",
       "      <th>Description</th>\n",
       "      <th>Quantity</th>\n",
       "      <th>InvoiceDate</th>\n",
       "      <th>UnitPrice</th>\n",
       "      <th>CustomerID</th>\n",
       "      <th>TotalValue</th>\n",
       "    </tr>\n",
       "  </thead>\n",
       "  <tbody>\n",
       "    <tr>\n",
       "      <th>108551</th>\n",
       "      <td>545545</td>\n",
       "      <td>22041</td>\n",
       "      <td>RECORD FRAME 7\" SINGLE SIZE</td>\n",
       "      <td>1</td>\n",
       "      <td>2019-03-01 15:02:00</td>\n",
       "      <td>2.55</td>\n",
       "      <td>17841</td>\n",
       "      <td>2.55</td>\n",
       "    </tr>\n",
       "    <tr>\n",
       "      <th>340228</th>\n",
       "      <td>566616</td>\n",
       "      <td>85034C</td>\n",
       "      <td>3 ROSE MORRIS BOXED CANDLES</td>\n",
       "      <td>4</td>\n",
       "      <td>2019-09-12 08:35:00</td>\n",
       "      <td>4.25</td>\n",
       "      <td>12895</td>\n",
       "      <td>17.00</td>\n",
       "    </tr>\n",
       "    <tr>\n",
       "      <th>78330</th>\n",
       "      <td>542865</td>\n",
       "      <td>22605</td>\n",
       "      <td>WOODEN CROQUET GARDEN SET</td>\n",
       "      <td>1</td>\n",
       "      <td>2019-01-30 12:08:00</td>\n",
       "      <td>14.95</td>\n",
       "      <td>12929</td>\n",
       "      <td>14.95</td>\n",
       "    </tr>\n",
       "    <tr>\n",
       "      <th>381563</th>\n",
       "      <td>569866</td>\n",
       "      <td>22561</td>\n",
       "      <td>WOODEN SCHOOL COLOURING SET</td>\n",
       "      <td>1</td>\n",
       "      <td>2019-10-04 14:50:00</td>\n",
       "      <td>1.65</td>\n",
       "      <td>12757</td>\n",
       "      <td>1.65</td>\n",
       "    </tr>\n",
       "    <tr>\n",
       "      <th>37430</th>\n",
       "      <td>539464</td>\n",
       "      <td>22473</td>\n",
       "      <td>TV DINNER TRAY VINTAGE PAISLEY</td>\n",
       "      <td>1</td>\n",
       "      <td>2018-12-17 11:35:00</td>\n",
       "      <td>4.95</td>\n",
       "      <td>17913</td>\n",
       "      <td>4.95</td>\n",
       "    </tr>\n",
       "    <tr>\n",
       "      <th>8131</th>\n",
       "      <td>537126</td>\n",
       "      <td>21486</td>\n",
       "      <td>PINK HEART DOTS HOT WATER BOTTLE</td>\n",
       "      <td>2</td>\n",
       "      <td>2018-12-03 12:13:00</td>\n",
       "      <td>3.75</td>\n",
       "      <td>18118</td>\n",
       "      <td>7.50</td>\n",
       "    </tr>\n",
       "    <tr>\n",
       "      <th>356186</th>\n",
       "      <td>568046</td>\n",
       "      <td>22749</td>\n",
       "      <td>FELTCRAFT PRINCESS CHARLOTTE DOLL</td>\n",
       "      <td>1</td>\n",
       "      <td>2019-09-21 12:16:00</td>\n",
       "      <td>3.75</td>\n",
       "      <td>18118</td>\n",
       "      <td>3.75</td>\n",
       "    </tr>\n",
       "    <tr>\n",
       "      <th>216928</th>\n",
       "      <td>555858</td>\n",
       "      <td>22851</td>\n",
       "      <td>SET 20 NAPKINS FAIRY CAKES DESIGN</td>\n",
       "      <td>12</td>\n",
       "      <td>2019-06-05 14:12:00</td>\n",
       "      <td>0.85</td>\n",
       "      <td>14911</td>\n",
       "      <td>10.20</td>\n",
       "    </tr>\n",
       "    <tr>\n",
       "      <th>403348</th>\n",
       "      <td>571562</td>\n",
       "      <td>22852</td>\n",
       "      <td>DOG BOWL VINTAGE CREAM</td>\n",
       "      <td>4</td>\n",
       "      <td>2019-10-16 10:04:00</td>\n",
       "      <td>4.25</td>\n",
       "      <td>14156</td>\n",
       "      <td>17.00</td>\n",
       "    </tr>\n",
       "    <tr>\n",
       "      <th>84147</th>\n",
       "      <td>543370</td>\n",
       "      <td>22853</td>\n",
       "      <td>CAT BOWL VINTAGE CREAM</td>\n",
       "      <td>6</td>\n",
       "      <td>2019-02-05 14:51:00</td>\n",
       "      <td>3.25</td>\n",
       "      <td>12359</td>\n",
       "      <td>19.50</td>\n",
       "    </tr>\n",
       "  </tbody>\n",
       "</table>\n",
       "</div>"
      ],
      "text/plain": [
       "       InvoiceNo StockCode                         Description  Quantity  \\\n",
       "108551    545545     22041        RECORD FRAME 7\" SINGLE SIZE          1   \n",
       "340228    566616    85034C         3 ROSE MORRIS BOXED CANDLES         4   \n",
       "78330     542865     22605           WOODEN CROQUET GARDEN SET         1   \n",
       "381563    569866     22561         WOODEN SCHOOL COLOURING SET         1   \n",
       "37430     539464     22473      TV DINNER TRAY VINTAGE PAISLEY         1   \n",
       "8131      537126     21486    PINK HEART DOTS HOT WATER BOTTLE         2   \n",
       "356186    568046     22749   FELTCRAFT PRINCESS CHARLOTTE DOLL         1   \n",
       "216928    555858     22851  SET 20 NAPKINS FAIRY CAKES DESIGN         12   \n",
       "403348    571562     22852              DOG BOWL VINTAGE CREAM         4   \n",
       "84147     543370     22853              CAT BOWL VINTAGE CREAM         6   \n",
       "\n",
       "               InvoiceDate  UnitPrice  CustomerID  TotalValue  \n",
       "108551 2019-03-01 15:02:00       2.55       17841        2.55  \n",
       "340228 2019-09-12 08:35:00       4.25       12895       17.00  \n",
       "78330  2019-01-30 12:08:00      14.95       12929       14.95  \n",
       "381563 2019-10-04 14:50:00       1.65       12757        1.65  \n",
       "37430  2018-12-17 11:35:00       4.95       17913        4.95  \n",
       "8131   2018-12-03 12:13:00       3.75       18118        7.50  \n",
       "356186 2019-09-21 12:16:00       3.75       18118        3.75  \n",
       "216928 2019-06-05 14:12:00       0.85       14911       10.20  \n",
       "403348 2019-10-16 10:04:00       4.25       14156       17.00  \n",
       "84147  2019-02-05 14:51:00       3.25       12359       19.50  "
      ]
     },
     "execution_count": 51,
     "metadata": {},
     "output_type": "execute_result"
    }
   ],
   "source": [
    "# visualizando dados\n",
    "customers_data.sample(10)"
   ]
  },
  {
   "cell_type": "code",
   "execution_count": 52,
   "metadata": {},
   "outputs": [
    {
     "data": {
      "text/html": [
       "<div>\n",
       "<style scoped>\n",
       "    .dataframe tbody tr th:only-of-type {\n",
       "        vertical-align: middle;\n",
       "    }\n",
       "\n",
       "    .dataframe tbody tr th {\n",
       "        vertical-align: top;\n",
       "    }\n",
       "\n",
       "    .dataframe thead th {\n",
       "        text-align: right;\n",
       "    }\n",
       "</style>\n",
       "<table border=\"1\" class=\"dataframe\">\n",
       "  <thead>\n",
       "    <tr style=\"text-align: right;\">\n",
       "      <th></th>\n",
       "      <th>InvoiceNo</th>\n",
       "      <th>StockCode</th>\n",
       "      <th>Description</th>\n",
       "      <th>Quantity</th>\n",
       "      <th>InvoiceDate</th>\n",
       "      <th>UnitPrice</th>\n",
       "      <th>CustomerID</th>\n",
       "      <th>TotalValue</th>\n",
       "    </tr>\n",
       "  </thead>\n",
       "  <tbody>\n",
       "    <tr>\n",
       "      <th>541904</th>\n",
       "      <td>581587</td>\n",
       "      <td>22613</td>\n",
       "      <td>PACK OF 20 SPACEBOY NAPKINS</td>\n",
       "      <td>12</td>\n",
       "      <td>2019-12-07 12:50:00</td>\n",
       "      <td>0.85</td>\n",
       "      <td>12680</td>\n",
       "      <td>10.20</td>\n",
       "    </tr>\n",
       "    <tr>\n",
       "      <th>541905</th>\n",
       "      <td>581587</td>\n",
       "      <td>22899</td>\n",
       "      <td>CHILDREN'S APRON DOLLY GIRL</td>\n",
       "      <td>6</td>\n",
       "      <td>2019-12-07 12:50:00</td>\n",
       "      <td>2.10</td>\n",
       "      <td>12680</td>\n",
       "      <td>12.60</td>\n",
       "    </tr>\n",
       "    <tr>\n",
       "      <th>541906</th>\n",
       "      <td>581587</td>\n",
       "      <td>23254</td>\n",
       "      <td>CHILDRENS CUTLERY DOLLY GIRL</td>\n",
       "      <td>4</td>\n",
       "      <td>2019-12-07 12:50:00</td>\n",
       "      <td>4.15</td>\n",
       "      <td>12680</td>\n",
       "      <td>16.60</td>\n",
       "    </tr>\n",
       "    <tr>\n",
       "      <th>541907</th>\n",
       "      <td>581587</td>\n",
       "      <td>23255</td>\n",
       "      <td>CHILDRENS CUTLERY CIRCUS PARADE</td>\n",
       "      <td>4</td>\n",
       "      <td>2019-12-07 12:50:00</td>\n",
       "      <td>4.15</td>\n",
       "      <td>12680</td>\n",
       "      <td>16.60</td>\n",
       "    </tr>\n",
       "    <tr>\n",
       "      <th>541908</th>\n",
       "      <td>581587</td>\n",
       "      <td>22138</td>\n",
       "      <td>BAKING SET 9 PIECE RETROSPOT</td>\n",
       "      <td>3</td>\n",
       "      <td>2019-12-07 12:50:00</td>\n",
       "      <td>4.95</td>\n",
       "      <td>12680</td>\n",
       "      <td>14.85</td>\n",
       "    </tr>\n",
       "  </tbody>\n",
       "</table>\n",
       "</div>"
      ],
      "text/plain": [
       "       InvoiceNo StockCode                      Description  Quantity  \\\n",
       "541904    581587     22613      PACK OF 20 SPACEBOY NAPKINS        12   \n",
       "541905    581587     22899     CHILDREN'S APRON DOLLY GIRL          6   \n",
       "541906    581587     23254    CHILDRENS CUTLERY DOLLY GIRL          4   \n",
       "541907    581587     23255  CHILDRENS CUTLERY CIRCUS PARADE         4   \n",
       "541908    581587     22138    BAKING SET 9 PIECE RETROSPOT          3   \n",
       "\n",
       "               InvoiceDate  UnitPrice  CustomerID  TotalValue  \n",
       "541904 2019-12-07 12:50:00       0.85       12680       10.20  \n",
       "541905 2019-12-07 12:50:00       2.10       12680       12.60  \n",
       "541906 2019-12-07 12:50:00       4.15       12680       16.60  \n",
       "541907 2019-12-07 12:50:00       4.15       12680       16.60  \n",
       "541908 2019-12-07 12:50:00       4.95       12680       14.85  "
      ]
     },
     "execution_count": 52,
     "metadata": {},
     "output_type": "execute_result"
    }
   ],
   "source": [
    "# visualizando dados\n",
    "customers_data.tail()"
   ]
  },
  {
   "cell_type": "markdown",
   "metadata": {},
   "source": [
    "#### 1.2.5. Conclusões EDA"
   ]
  },
  {
   "cell_type": "markdown",
   "metadata": {},
   "source": [
    "Após tratamento dos dados:\n",
    "- **Remoção de 135.080 registros** com `CustomerID` nulo.\n",
    "- **Exclusão de 5.225 registros duplicados.**\n",
    "- **Exclusão de itens** relacionados a operações (e não produtos) e transações com `UnitPrice` igual a zero.\n",
    "\n",
    "---\n",
    "\n",
    "**InvoiceNo e StockCode:**\n",
    "- Há transações onde `InvoiceNo` contém código com letras, estes itens correspondem a operações como **cancelamento, desconto.**\n",
    "  - Estes itens foram **mantidos.**\n",
    "- Ao analisar `StockCode`, identificou-se códigos não numéricos que correspondem a operações (como **postagem, envio**) e não a produtos.\n",
    "  - Estas linhas foram **excluídas**, uma vez que não contam para a análise de consumo/compras dos usuários.\n",
    "\n",
    "---\n",
    "\n",
    "**Valores negativos em Quantity:**\n",
    "- Há itens com valor negativo, correspondentes a **cancelamentos ou devoluções.**\n",
    "- Esses registros **não foram removidos**, pois são úteis para capturar a dinâmica de reversões e possíveis problemas operacionais.\n",
    "- Foi criada a coluna `TotalValue`, onde multiplica-se a `Quantity` por `UnitPrice`.\n",
    "\n",
    "---\n",
    "\n",
    "**Análise de preços (UnitPrice):**\n",
    "- A maioria dos produtos tem preços **baixos** (mediana de **1,95**).\n",
    "- O valor máximo do preço unitário (**649,50**) indica a presença de **itens de alto valor agregado.**\n",
    "\n",
    "---\n",
    "\n",
    "**Distribuição de Pedidos por Usuário:**\n",
    "- A maioria dos usuários realizou **poucos pedidos**, como evidenciado pelo histograma fortemente enviesado para a esquerda.\n",
    "- Alguns usuários, representados como valores **atípicos** no boxplot, realizaram um número muito elevado de pedidos.\n",
    "\n",
    "---\n",
    "\n",
    "**Distribuição de Receita por Usuário:**\n",
    "- Semelhante ao número de pedidos, a maior parte dos usuários gerou **receitas baixas.**\n",
    "- Alguns usuários apresentam receitas **extremamente altas**, visíveis no boxplot como **outliers.**\n"
   ]
  },
  {
   "cell_type": "markdown",
   "metadata": {},
   "source": [
    "## 2. Segmentação de usuários - RFM"
   ]
  },
  {
   "cell_type": "markdown",
   "metadata": {},
   "source": [
    "### 2.1. Cálculo das métricas"
   ]
  },
  {
   "cell_type": "markdown",
   "metadata": {},
   "source": [
    "#### **Recency**"
   ]
  },
  {
   "cell_type": "code",
   "execution_count": 53,
   "metadata": {},
   "outputs": [],
   "source": [
    "# definindo a data de referência (última data no DataFrame)\n",
    "reference_date = customers_data['InvoiceDate'].max()"
   ]
  },
  {
   "cell_type": "code",
   "execution_count": 54,
   "metadata": {},
   "outputs": [],
   "source": [
    "# calculando a métrica 'recency' (dias desde a última compra)\n",
    "recency = customers_data.groupby('CustomerID').agg(LastPurchaseDate=('InvoiceDate', 'max'))\n",
    "recency['Recency'] = (reference_date - recency['LastPurchaseDate']).dt.days"
   ]
  },
  {
   "cell_type": "code",
   "execution_count": 55,
   "metadata": {},
   "outputs": [
    {
     "data": {
      "text/html": [
       "<div>\n",
       "<style scoped>\n",
       "    .dataframe tbody tr th:only-of-type {\n",
       "        vertical-align: middle;\n",
       "    }\n",
       "\n",
       "    .dataframe tbody tr th {\n",
       "        vertical-align: top;\n",
       "    }\n",
       "\n",
       "    .dataframe thead th {\n",
       "        text-align: right;\n",
       "    }\n",
       "</style>\n",
       "<table border=\"1\" class=\"dataframe\">\n",
       "  <thead>\n",
       "    <tr style=\"text-align: right;\">\n",
       "      <th></th>\n",
       "      <th>LastPurchaseDate</th>\n",
       "      <th>Recency</th>\n",
       "    </tr>\n",
       "    <tr>\n",
       "      <th>CustomerID</th>\n",
       "      <th></th>\n",
       "      <th></th>\n",
       "    </tr>\n",
       "  </thead>\n",
       "  <tbody>\n",
       "    <tr>\n",
       "      <th>12346</th>\n",
       "      <td>2019-01-16 10:17:00</td>\n",
       "      <td>325</td>\n",
       "    </tr>\n",
       "    <tr>\n",
       "      <th>12347</th>\n",
       "      <td>2019-12-05 15:52:00</td>\n",
       "      <td>1</td>\n",
       "    </tr>\n",
       "    <tr>\n",
       "      <th>12348</th>\n",
       "      <td>2019-09-23 13:13:00</td>\n",
       "      <td>74</td>\n",
       "    </tr>\n",
       "    <tr>\n",
       "      <th>12349</th>\n",
       "      <td>2019-11-19 09:51:00</td>\n",
       "      <td>18</td>\n",
       "    </tr>\n",
       "    <tr>\n",
       "      <th>12350</th>\n",
       "      <td>2019-01-31 16:01:00</td>\n",
       "      <td>309</td>\n",
       "    </tr>\n",
       "  </tbody>\n",
       "</table>\n",
       "</div>"
      ],
      "text/plain": [
       "              LastPurchaseDate  Recency\n",
       "CustomerID                             \n",
       "12346      2019-01-16 10:17:00      325\n",
       "12347      2019-12-05 15:52:00        1\n",
       "12348      2019-09-23 13:13:00       74\n",
       "12349      2019-11-19 09:51:00       18\n",
       "12350      2019-01-31 16:01:00      309"
      ]
     },
     "execution_count": 55,
     "metadata": {},
     "output_type": "execute_result"
    }
   ],
   "source": [
    "# visualizando dados\n",
    "recency.head()"
   ]
  },
  {
   "cell_type": "code",
   "execution_count": 56,
   "metadata": {},
   "outputs": [
    {
     "name": "stdout",
     "output_type": "stream",
     "text": [
      "<class 'pandas.core.frame.DataFrame'>\n",
      "Index: 4363 entries, 12346 to 18287\n",
      "Data columns (total 2 columns):\n",
      " #   Column            Non-Null Count  Dtype         \n",
      "---  ------            --------------  -----         \n",
      " 0   LastPurchaseDate  4363 non-null   datetime64[ns]\n",
      " 1   Recency           4363 non-null   int64         \n",
      "dtypes: datetime64[ns](1), int64(1)\n",
      "memory usage: 85.2 KB\n"
     ]
    }
   ],
   "source": [
    "# visualizando dados\n",
    "recency.info()"
   ]
  },
  {
   "cell_type": "code",
   "execution_count": 57,
   "metadata": {},
   "outputs": [
    {
     "data": {
      "text/plain": [
       "4363"
      ]
     },
     "execution_count": 57,
     "metadata": {},
     "output_type": "execute_result"
    }
   ],
   "source": [
    "# conferindo número de 'CustomerID' do DataFrame original (o DataFrame 'recency' deve conter o mesmo número de entradas)\n",
    "customers_data['CustomerID'].nunique()"
   ]
  },
  {
   "cell_type": "markdown",
   "metadata": {},
   "source": [
    "#### **Frequency**"
   ]
  },
  {
   "cell_type": "code",
   "execution_count": 58,
   "metadata": {},
   "outputs": [],
   "source": [
    "# agrupando por 'CustomerID' e contando o número de 'InvoiceNo' unívocos\n",
    "frequency = customers_data.groupby('CustomerID').agg(Frequency=('InvoiceNo', 'nunique'))"
   ]
  },
  {
   "cell_type": "code",
   "execution_count": 59,
   "metadata": {},
   "outputs": [
    {
     "data": {
      "text/html": [
       "<div>\n",
       "<style scoped>\n",
       "    .dataframe tbody tr th:only-of-type {\n",
       "        vertical-align: middle;\n",
       "    }\n",
       "\n",
       "    .dataframe tbody tr th {\n",
       "        vertical-align: top;\n",
       "    }\n",
       "\n",
       "    .dataframe thead th {\n",
       "        text-align: right;\n",
       "    }\n",
       "</style>\n",
       "<table border=\"1\" class=\"dataframe\">\n",
       "  <thead>\n",
       "    <tr style=\"text-align: right;\">\n",
       "      <th></th>\n",
       "      <th>Frequency</th>\n",
       "    </tr>\n",
       "    <tr>\n",
       "      <th>CustomerID</th>\n",
       "      <th></th>\n",
       "    </tr>\n",
       "  </thead>\n",
       "  <tbody>\n",
       "    <tr>\n",
       "      <th>12346</th>\n",
       "      <td>2</td>\n",
       "    </tr>\n",
       "    <tr>\n",
       "      <th>12347</th>\n",
       "      <td>7</td>\n",
       "    </tr>\n",
       "    <tr>\n",
       "      <th>12348</th>\n",
       "      <td>4</td>\n",
       "    </tr>\n",
       "    <tr>\n",
       "      <th>12349</th>\n",
       "      <td>1</td>\n",
       "    </tr>\n",
       "    <tr>\n",
       "      <th>12350</th>\n",
       "      <td>1</td>\n",
       "    </tr>\n",
       "  </tbody>\n",
       "</table>\n",
       "</div>"
      ],
      "text/plain": [
       "            Frequency\n",
       "CustomerID           \n",
       "12346               2\n",
       "12347               7\n",
       "12348               4\n",
       "12349               1\n",
       "12350               1"
      ]
     },
     "execution_count": 59,
     "metadata": {},
     "output_type": "execute_result"
    }
   ],
   "source": [
    "# visualizando dados\n",
    "frequency.head()"
   ]
  },
  {
   "cell_type": "code",
   "execution_count": 60,
   "metadata": {},
   "outputs": [
    {
     "name": "stdout",
     "output_type": "stream",
     "text": [
      "<class 'pandas.core.frame.DataFrame'>\n",
      "Index: 4363 entries, 12346 to 18287\n",
      "Data columns (total 1 columns):\n",
      " #   Column     Non-Null Count  Dtype\n",
      "---  ------     --------------  -----\n",
      " 0   Frequency  4363 non-null   int64\n",
      "dtypes: int64(1)\n",
      "memory usage: 51.1 KB\n"
     ]
    }
   ],
   "source": [
    "# visualizando dados\n",
    "frequency.info()"
   ]
  },
  {
   "cell_type": "markdown",
   "metadata": {},
   "source": [
    "#### **Monetary Value**"
   ]
  },
  {
   "cell_type": "code",
   "execution_count": 61,
   "metadata": {},
   "outputs": [],
   "source": [
    "# agrupando por 'CustomerID' e somando 'TotalValue'\n",
    "monetary_value = customers_data.groupby('CustomerID').agg(MonetaryValue=('TotalValue', 'sum'))"
   ]
  },
  {
   "cell_type": "code",
   "execution_count": 62,
   "metadata": {},
   "outputs": [
    {
     "data": {
      "text/html": [
       "<div>\n",
       "<style scoped>\n",
       "    .dataframe tbody tr th:only-of-type {\n",
       "        vertical-align: middle;\n",
       "    }\n",
       "\n",
       "    .dataframe tbody tr th {\n",
       "        vertical-align: top;\n",
       "    }\n",
       "\n",
       "    .dataframe thead th {\n",
       "        text-align: right;\n",
       "    }\n",
       "</style>\n",
       "<table border=\"1\" class=\"dataframe\">\n",
       "  <thead>\n",
       "    <tr style=\"text-align: right;\">\n",
       "      <th></th>\n",
       "      <th>MonetaryValue</th>\n",
       "    </tr>\n",
       "    <tr>\n",
       "      <th>CustomerID</th>\n",
       "      <th></th>\n",
       "    </tr>\n",
       "  </thead>\n",
       "  <tbody>\n",
       "    <tr>\n",
       "      <th>12346</th>\n",
       "      <td>0.00</td>\n",
       "    </tr>\n",
       "    <tr>\n",
       "      <th>12347</th>\n",
       "      <td>4310.00</td>\n",
       "    </tr>\n",
       "    <tr>\n",
       "      <th>12348</th>\n",
       "      <td>1437.24</td>\n",
       "    </tr>\n",
       "    <tr>\n",
       "      <th>12349</th>\n",
       "      <td>1457.55</td>\n",
       "    </tr>\n",
       "    <tr>\n",
       "      <th>12350</th>\n",
       "      <td>294.40</td>\n",
       "    </tr>\n",
       "  </tbody>\n",
       "</table>\n",
       "</div>"
      ],
      "text/plain": [
       "            MonetaryValue\n",
       "CustomerID               \n",
       "12346                0.00\n",
       "12347             4310.00\n",
       "12348             1437.24\n",
       "12349             1457.55\n",
       "12350              294.40"
      ]
     },
     "execution_count": 62,
     "metadata": {},
     "output_type": "execute_result"
    }
   ],
   "source": [
    "# visualizando dados\n",
    "monetary_value.head()"
   ]
  },
  {
   "cell_type": "code",
   "execution_count": 63,
   "metadata": {},
   "outputs": [
    {
     "name": "stdout",
     "output_type": "stream",
     "text": [
      "<class 'pandas.core.frame.DataFrame'>\n",
      "Index: 4363 entries, 12346 to 18287\n",
      "Data columns (total 1 columns):\n",
      " #   Column         Non-Null Count  Dtype  \n",
      "---  ------         --------------  -----  \n",
      " 0   MonetaryValue  4363 non-null   float64\n",
      "dtypes: float64(1)\n",
      "memory usage: 51.1 KB\n"
     ]
    }
   ],
   "source": [
    "# visualizando dados\n",
    "monetary_value.info()"
   ]
  },
  {
   "cell_type": "markdown",
   "metadata": {},
   "source": [
    "#### **DF RFM**"
   ]
  },
  {
   "cell_type": "code",
   "execution_count": 64,
   "metadata": {},
   "outputs": [],
   "source": [
    "# juntando os DataFrames de Recency, Frequency e MonetaryValue\n",
    "rfm = recency.join(frequency).join(monetary_value)"
   ]
  },
  {
   "cell_type": "code",
   "execution_count": 65,
   "metadata": {},
   "outputs": [],
   "source": [
    "# resentando o índice para incluir CustomerID como coluna\n",
    "rfm.reset_index(inplace=True)"
   ]
  },
  {
   "cell_type": "code",
   "execution_count": 66,
   "metadata": {},
   "outputs": [
    {
     "name": "stdout",
     "output_type": "stream",
     "text": [
      "<class 'pandas.core.frame.DataFrame'>\n",
      "RangeIndex: 4363 entries, 0 to 4362\n",
      "Data columns (total 5 columns):\n",
      " #   Column            Non-Null Count  Dtype         \n",
      "---  ------            --------------  -----         \n",
      " 0   CustomerID        4363 non-null   int32         \n",
      " 1   LastPurchaseDate  4363 non-null   datetime64[ns]\n",
      " 2   Recency           4363 non-null   int64         \n",
      " 3   Frequency         4363 non-null   int64         \n",
      " 4   MonetaryValue     4363 non-null   float64       \n",
      "dtypes: datetime64[ns](1), float64(1), int32(1), int64(2)\n",
      "memory usage: 153.5 KB\n"
     ]
    }
   ],
   "source": [
    "# visualizando dados\n",
    "rfm.info()"
   ]
  },
  {
   "cell_type": "code",
   "execution_count": 67,
   "metadata": {},
   "outputs": [
    {
     "data": {
      "text/html": [
       "<div>\n",
       "<style scoped>\n",
       "    .dataframe tbody tr th:only-of-type {\n",
       "        vertical-align: middle;\n",
       "    }\n",
       "\n",
       "    .dataframe tbody tr th {\n",
       "        vertical-align: top;\n",
       "    }\n",
       "\n",
       "    .dataframe thead th {\n",
       "        text-align: right;\n",
       "    }\n",
       "</style>\n",
       "<table border=\"1\" class=\"dataframe\">\n",
       "  <thead>\n",
       "    <tr style=\"text-align: right;\">\n",
       "      <th></th>\n",
       "      <th>CustomerID</th>\n",
       "      <th>LastPurchaseDate</th>\n",
       "      <th>Recency</th>\n",
       "      <th>Frequency</th>\n",
       "      <th>MonetaryValue</th>\n",
       "    </tr>\n",
       "  </thead>\n",
       "  <tbody>\n",
       "    <tr>\n",
       "      <th>0</th>\n",
       "      <td>12346</td>\n",
       "      <td>2019-01-16 10:17:00</td>\n",
       "      <td>325</td>\n",
       "      <td>2</td>\n",
       "      <td>0.00</td>\n",
       "    </tr>\n",
       "    <tr>\n",
       "      <th>1</th>\n",
       "      <td>12347</td>\n",
       "      <td>2019-12-05 15:52:00</td>\n",
       "      <td>1</td>\n",
       "      <td>7</td>\n",
       "      <td>4310.00</td>\n",
       "    </tr>\n",
       "    <tr>\n",
       "      <th>2</th>\n",
       "      <td>12348</td>\n",
       "      <td>2019-09-23 13:13:00</td>\n",
       "      <td>74</td>\n",
       "      <td>4</td>\n",
       "      <td>1437.24</td>\n",
       "    </tr>\n",
       "    <tr>\n",
       "      <th>3</th>\n",
       "      <td>12349</td>\n",
       "      <td>2019-11-19 09:51:00</td>\n",
       "      <td>18</td>\n",
       "      <td>1</td>\n",
       "      <td>1457.55</td>\n",
       "    </tr>\n",
       "    <tr>\n",
       "      <th>4</th>\n",
       "      <td>12350</td>\n",
       "      <td>2019-01-31 16:01:00</td>\n",
       "      <td>309</td>\n",
       "      <td>1</td>\n",
       "      <td>294.40</td>\n",
       "    </tr>\n",
       "  </tbody>\n",
       "</table>\n",
       "</div>"
      ],
      "text/plain": [
       "   CustomerID    LastPurchaseDate  Recency  Frequency  MonetaryValue\n",
       "0       12346 2019-01-16 10:17:00      325          2           0.00\n",
       "1       12347 2019-12-05 15:52:00        1          7        4310.00\n",
       "2       12348 2019-09-23 13:13:00       74          4        1437.24\n",
       "3       12349 2019-11-19 09:51:00       18          1        1457.55\n",
       "4       12350 2019-01-31 16:01:00      309          1         294.40"
      ]
     },
     "execution_count": 67,
     "metadata": {},
     "output_type": "execute_result"
    }
   ],
   "source": [
    "# visualizando dados\n",
    "rfm.head()"
   ]
  },
  {
   "cell_type": "code",
   "execution_count": 68,
   "metadata": {},
   "outputs": [
    {
     "data": {
      "image/png": "[encoded data removed]",
      "text/plain": [
       "<Figure size 1500x500 with 3 Axes>"
      ]
     },
     "metadata": {},
     "output_type": "display_data"
    }
   ],
   "source": [
    "# imprimindo boxplots para Recency, Frequency e MonetaryValue\n",
    "plt.figure(figsize=(15, 5))\n",
    "\n",
    "for i, column in enumerate([\"Recency\", \"Frequency\", \"MonetaryValue\"], 1):\n",
    "    plt.subplot(1, 3, i)\n",
    "    plt.boxplot(rfm[column], patch_artist=True, boxprops=dict(facecolor='lightblue'))\n",
    "    plt.title(column)\n",
    "    plt.ylabel(\"Values\")\n",
    "\n",
    "plt.tight_layout()\n",
    "plt.show()"
   ]
  },
  {
   "cell_type": "markdown",
   "metadata": {},
   "source": [
    "### 2.2. Clusterização - RFM"
   ]
  },
  {
   "cell_type": "markdown",
   "metadata": {},
   "source": [
    "#### 2.2.1. Pontuação"
   ]
  },
  {
   "cell_type": "code",
   "execution_count": 69,
   "metadata": {},
   "outputs": [],
   "source": [
    "def rfm_score(series, reverse=False):\n",
    "    \"\"\"\n",
    "    Atribui uma pontuação de 1 a 3 com base em tercis.\n",
    "    Parâmetro reverse inverte a ordem (ex.: Recency é inverso: menor = melhor).\n",
    "    \"\"\"\n",
    "    try:\n",
    "        # Aplicar qcut com 3 bins\n",
    "        bins = pd.qcut(series, 3, labels=[3, 2, 1] if reverse else [1, 2, 3], duplicates='drop')\n",
    "    except ValueError:\n",
    "        print(f\"Aviso: Não foi possível dividir em 3 bins para a coluna {series.name}.\")\n",
    "        return pd.Series([1] * len(series))  # Fallback para valor fixo\n",
    "    \n",
    "    return bins.astype(int)"
   ]
  },
  {
   "cell_type": "code",
   "execution_count": 70,
   "metadata": {},
   "outputs": [],
   "source": [
    "# classificando 'Recency'\n",
    "rfm['RecencyScore'] = rfm_score(rfm['Recency'], reverse=True)"
   ]
  },
  {
   "cell_type": "code",
   "execution_count": 71,
   "metadata": {},
   "outputs": [],
   "source": [
    "# classificando 'Frequency'\n",
    "rfm['FrequencyScore'] = rfm_score(rfm['Frequency'], reverse=False)"
   ]
  },
  {
   "cell_type": "code",
   "execution_count": 72,
   "metadata": {},
   "outputs": [],
   "source": [
    "# classificando 'MonetaryValue'\n",
    "rfm['MonetaryScore'] = rfm_score(rfm['MonetaryValue'], reverse=False)"
   ]
  },
  {
   "cell_type": "code",
   "execution_count": 73,
   "metadata": {},
   "outputs": [],
   "source": [
    "# definindo pontuação RFM final\n",
    "rfm['RFMScore'] = rfm['RecencyScore'].astype(str) + rfm['FrequencyScore'].astype(str) + rfm['MonetaryScore'].astype(str)"
   ]
  },
  {
   "cell_type": "code",
   "execution_count": 74,
   "metadata": {},
   "outputs": [
    {
     "data": {
      "text/html": [
       "<div>\n",
       "<style scoped>\n",
       "    .dataframe tbody tr th:only-of-type {\n",
       "        vertical-align: middle;\n",
       "    }\n",
       "\n",
       "    .dataframe tbody tr th {\n",
       "        vertical-align: top;\n",
       "    }\n",
       "\n",
       "    .dataframe thead th {\n",
       "        text-align: right;\n",
       "    }\n",
       "</style>\n",
       "<table border=\"1\" class=\"dataframe\">\n",
       "  <thead>\n",
       "    <tr style=\"text-align: right;\">\n",
       "      <th></th>\n",
       "      <th>CustomerID</th>\n",
       "      <th>LastPurchaseDate</th>\n",
       "      <th>Recency</th>\n",
       "      <th>Frequency</th>\n",
       "      <th>MonetaryValue</th>\n",
       "      <th>RecencyScore</th>\n",
       "      <th>FrequencyScore</th>\n",
       "      <th>MonetaryScore</th>\n",
       "      <th>RFMScore</th>\n",
       "    </tr>\n",
       "  </thead>\n",
       "  <tbody>\n",
       "    <tr>\n",
       "      <th>0</th>\n",
       "      <td>12346</td>\n",
       "      <td>2019-01-16 10:17:00</td>\n",
       "      <td>325</td>\n",
       "      <td>2</td>\n",
       "      <td>0.00</td>\n",
       "      <td>1</td>\n",
       "      <td>1</td>\n",
       "      <td>1</td>\n",
       "      <td>111</td>\n",
       "    </tr>\n",
       "    <tr>\n",
       "      <th>1</th>\n",
       "      <td>12347</td>\n",
       "      <td>2019-12-05 15:52:00</td>\n",
       "      <td>1</td>\n",
       "      <td>7</td>\n",
       "      <td>4310.00</td>\n",
       "      <td>3</td>\n",
       "      <td>3</td>\n",
       "      <td>3</td>\n",
       "      <td>333</td>\n",
       "    </tr>\n",
       "    <tr>\n",
       "      <th>2</th>\n",
       "      <td>12348</td>\n",
       "      <td>2019-09-23 13:13:00</td>\n",
       "      <td>74</td>\n",
       "      <td>4</td>\n",
       "      <td>1437.24</td>\n",
       "      <td>2</td>\n",
       "      <td>2</td>\n",
       "      <td>3</td>\n",
       "      <td>223</td>\n",
       "    </tr>\n",
       "    <tr>\n",
       "      <th>3</th>\n",
       "      <td>12349</td>\n",
       "      <td>2019-11-19 09:51:00</td>\n",
       "      <td>18</td>\n",
       "      <td>1</td>\n",
       "      <td>1457.55</td>\n",
       "      <td>3</td>\n",
       "      <td>1</td>\n",
       "      <td>3</td>\n",
       "      <td>313</td>\n",
       "    </tr>\n",
       "    <tr>\n",
       "      <th>4</th>\n",
       "      <td>12350</td>\n",
       "      <td>2019-01-31 16:01:00</td>\n",
       "      <td>309</td>\n",
       "      <td>1</td>\n",
       "      <td>294.40</td>\n",
       "      <td>1</td>\n",
       "      <td>1</td>\n",
       "      <td>1</td>\n",
       "      <td>111</td>\n",
       "    </tr>\n",
       "  </tbody>\n",
       "</table>\n",
       "</div>"
      ],
      "text/plain": [
       "   CustomerID    LastPurchaseDate  Recency  Frequency  MonetaryValue  \\\n",
       "0       12346 2019-01-16 10:17:00      325          2           0.00   \n",
       "1       12347 2019-12-05 15:52:00        1          7        4310.00   \n",
       "2       12348 2019-09-23 13:13:00       74          4        1437.24   \n",
       "3       12349 2019-11-19 09:51:00       18          1        1457.55   \n",
       "4       12350 2019-01-31 16:01:00      309          1         294.40   \n",
       "\n",
       "   RecencyScore  FrequencyScore  MonetaryScore RFMScore  \n",
       "0             1               1              1      111  \n",
       "1             3               3              3      333  \n",
       "2             2               2              3      223  \n",
       "3             3               1              3      313  \n",
       "4             1               1              1      111  "
      ]
     },
     "execution_count": 74,
     "metadata": {},
     "output_type": "execute_result"
    }
   ],
   "source": [
    "# visualizando dados\n",
    "rfm.head()"
   ]
  },
  {
   "cell_type": "markdown",
   "metadata": {},
   "source": [
    "#### 2.2.2. Segmentos"
   ]
  },
  {
   "cell_type": "code",
   "execution_count": 75,
   "metadata": {},
   "outputs": [],
   "source": [
    "# classificação de segmentos\n",
    "def classify_segment(row):\n",
    "    if row['RFMScore'] == '333':\n",
    "        return 'Top'\n",
    "    elif row['RFMScore'] == '222':\n",
    "        return 'Promising'\n",
    "    elif row['RecencyScore'] == 1 and row['FrequencyScore'] == 1:\n",
    "        return 'At Risk'\n",
    "    else:\n",
    "        return 'Outros'"
   ]
  },
  {
   "cell_type": "code",
   "execution_count": 76,
   "metadata": {},
   "outputs": [],
   "source": [
    "# aplicando a classificação ao DataFrame RFM\n",
    "rfm['Segment'] = rfm.apply(classify_segment, axis=1)"
   ]
  },
  {
   "cell_type": "code",
   "execution_count": 77,
   "metadata": {},
   "outputs": [
    {
     "data": {
      "text/html": [
       "<div>\n",
       "<style scoped>\n",
       "    .dataframe tbody tr th:only-of-type {\n",
       "        vertical-align: middle;\n",
       "    }\n",
       "\n",
       "    .dataframe tbody tr th {\n",
       "        vertical-align: top;\n",
       "    }\n",
       "\n",
       "    .dataframe thead th {\n",
       "        text-align: right;\n",
       "    }\n",
       "</style>\n",
       "<table border=\"1\" class=\"dataframe\">\n",
       "  <thead>\n",
       "    <tr style=\"text-align: right;\">\n",
       "      <th></th>\n",
       "      <th>CustomerID</th>\n",
       "      <th>LastPurchaseDate</th>\n",
       "      <th>Recency</th>\n",
       "      <th>Frequency</th>\n",
       "      <th>MonetaryValue</th>\n",
       "      <th>RecencyScore</th>\n",
       "      <th>FrequencyScore</th>\n",
       "      <th>MonetaryScore</th>\n",
       "      <th>RFMScore</th>\n",
       "      <th>Segment</th>\n",
       "    </tr>\n",
       "  </thead>\n",
       "  <tbody>\n",
       "    <tr>\n",
       "      <th>0</th>\n",
       "      <td>12346</td>\n",
       "      <td>2019-01-16 10:17:00</td>\n",
       "      <td>325</td>\n",
       "      <td>2</td>\n",
       "      <td>0.00</td>\n",
       "      <td>1</td>\n",
       "      <td>1</td>\n",
       "      <td>1</td>\n",
       "      <td>111</td>\n",
       "      <td>At Risk</td>\n",
       "    </tr>\n",
       "    <tr>\n",
       "      <th>1</th>\n",
       "      <td>12347</td>\n",
       "      <td>2019-12-05 15:52:00</td>\n",
       "      <td>1</td>\n",
       "      <td>7</td>\n",
       "      <td>4310.00</td>\n",
       "      <td>3</td>\n",
       "      <td>3</td>\n",
       "      <td>3</td>\n",
       "      <td>333</td>\n",
       "      <td>Top</td>\n",
       "    </tr>\n",
       "    <tr>\n",
       "      <th>2</th>\n",
       "      <td>12348</td>\n",
       "      <td>2019-09-23 13:13:00</td>\n",
       "      <td>74</td>\n",
       "      <td>4</td>\n",
       "      <td>1437.24</td>\n",
       "      <td>2</td>\n",
       "      <td>2</td>\n",
       "      <td>3</td>\n",
       "      <td>223</td>\n",
       "      <td>Outros</td>\n",
       "    </tr>\n",
       "    <tr>\n",
       "      <th>3</th>\n",
       "      <td>12349</td>\n",
       "      <td>2019-11-19 09:51:00</td>\n",
       "      <td>18</td>\n",
       "      <td>1</td>\n",
       "      <td>1457.55</td>\n",
       "      <td>3</td>\n",
       "      <td>1</td>\n",
       "      <td>3</td>\n",
       "      <td>313</td>\n",
       "      <td>Outros</td>\n",
       "    </tr>\n",
       "    <tr>\n",
       "      <th>4</th>\n",
       "      <td>12350</td>\n",
       "      <td>2019-01-31 16:01:00</td>\n",
       "      <td>309</td>\n",
       "      <td>1</td>\n",
       "      <td>294.40</td>\n",
       "      <td>1</td>\n",
       "      <td>1</td>\n",
       "      <td>1</td>\n",
       "      <td>111</td>\n",
       "      <td>At Risk</td>\n",
       "    </tr>\n",
       "    <tr>\n",
       "      <th>5</th>\n",
       "      <td>12352</td>\n",
       "      <td>2019-11-01 14:37:00</td>\n",
       "      <td>35</td>\n",
       "      <td>8</td>\n",
       "      <td>1265.41</td>\n",
       "      <td>2</td>\n",
       "      <td>3</td>\n",
       "      <td>3</td>\n",
       "      <td>233</td>\n",
       "      <td>Outros</td>\n",
       "    </tr>\n",
       "    <tr>\n",
       "      <th>6</th>\n",
       "      <td>12353</td>\n",
       "      <td>2019-05-17 17:47:00</td>\n",
       "      <td>203</td>\n",
       "      <td>1</td>\n",
       "      <td>89.00</td>\n",
       "      <td>1</td>\n",
       "      <td>1</td>\n",
       "      <td>1</td>\n",
       "      <td>111</td>\n",
       "      <td>At Risk</td>\n",
       "    </tr>\n",
       "    <tr>\n",
       "      <th>7</th>\n",
       "      <td>12354</td>\n",
       "      <td>2019-04-19 13:11:00</td>\n",
       "      <td>231</td>\n",
       "      <td>1</td>\n",
       "      <td>1079.40</td>\n",
       "      <td>1</td>\n",
       "      <td>1</td>\n",
       "      <td>2</td>\n",
       "      <td>112</td>\n",
       "      <td>At Risk</td>\n",
       "    </tr>\n",
       "    <tr>\n",
       "      <th>8</th>\n",
       "      <td>12355</td>\n",
       "      <td>2019-05-07 13:49:00</td>\n",
       "      <td>213</td>\n",
       "      <td>1</td>\n",
       "      <td>459.40</td>\n",
       "      <td>1</td>\n",
       "      <td>1</td>\n",
       "      <td>2</td>\n",
       "      <td>112</td>\n",
       "      <td>At Risk</td>\n",
       "    </tr>\n",
       "    <tr>\n",
       "      <th>9</th>\n",
       "      <td>12356</td>\n",
       "      <td>2019-11-15 08:40:00</td>\n",
       "      <td>22</td>\n",
       "      <td>3</td>\n",
       "      <td>2487.43</td>\n",
       "      <td>3</td>\n",
       "      <td>2</td>\n",
       "      <td>3</td>\n",
       "      <td>323</td>\n",
       "      <td>Outros</td>\n",
       "    </tr>\n",
       "  </tbody>\n",
       "</table>\n",
       "</div>"
      ],
      "text/plain": [
       "   CustomerID    LastPurchaseDate  Recency  Frequency  MonetaryValue  \\\n",
       "0       12346 2019-01-16 10:17:00      325          2           0.00   \n",
       "1       12347 2019-12-05 15:52:00        1          7        4310.00   \n",
       "2       12348 2019-09-23 13:13:00       74          4        1437.24   \n",
       "3       12349 2019-11-19 09:51:00       18          1        1457.55   \n",
       "4       12350 2019-01-31 16:01:00      309          1         294.40   \n",
       "5       12352 2019-11-01 14:37:00       35          8        1265.41   \n",
       "6       12353 2019-05-17 17:47:00      203          1          89.00   \n",
       "7       12354 2019-04-19 13:11:00      231          1        1079.40   \n",
       "8       12355 2019-05-07 13:49:00      213          1         459.40   \n",
       "9       12356 2019-11-15 08:40:00       22          3        2487.43   \n",
       "\n",
       "   RecencyScore  FrequencyScore  MonetaryScore RFMScore  Segment  \n",
       "0             1               1              1      111  At Risk  \n",
       "1             3               3              3      333      Top  \n",
       "2             2               2              3      223   Outros  \n",
       "3             3               1              3      313   Outros  \n",
       "4             1               1              1      111  At Risk  \n",
       "5             2               3              3      233   Outros  \n",
       "6             1               1              1      111  At Risk  \n",
       "7             1               1              2      112  At Risk  \n",
       "8             1               1              2      112  At Risk  \n",
       "9             3               2              3      323   Outros  "
      ]
     },
     "execution_count": 77,
     "metadata": {},
     "output_type": "execute_result"
    }
   ],
   "source": [
    "# visualizando dados\n",
    "rfm.head(10)"
   ]
  },
  {
   "cell_type": "markdown",
   "metadata": {},
   "source": [
    "#### 2.2.3. Matriz RFM"
   ]
  },
  {
   "cell_type": "code",
   "execution_count": 78,
   "metadata": {},
   "outputs": [
    {
     "data": {
      "text/html": [
       "<div>\n",
       "<style scoped>\n",
       "    .dataframe tbody tr th:only-of-type {\n",
       "        vertical-align: middle;\n",
       "    }\n",
       "\n",
       "    .dataframe tbody tr th {\n",
       "        vertical-align: top;\n",
       "    }\n",
       "\n",
       "    .dataframe thead th {\n",
       "        text-align: right;\n",
       "    }\n",
       "</style>\n",
       "<table border=\"1\" class=\"dataframe\">\n",
       "  <thead>\n",
       "    <tr style=\"text-align: right;\">\n",
       "      <th></th>\n",
       "      <th>Recency</th>\n",
       "      <th>Frequency</th>\n",
       "      <th>MonetaryValue</th>\n",
       "      <th>CustomerCount</th>\n",
       "    </tr>\n",
       "    <tr>\n",
       "      <th>Segment</th>\n",
       "      <th></th>\n",
       "      <th></th>\n",
       "      <th></th>\n",
       "      <th></th>\n",
       "    </tr>\n",
       "  </thead>\n",
       "  <tbody>\n",
       "    <tr>\n",
       "      <th>At Risk</th>\n",
       "      <td>229.27</td>\n",
       "      <td>1.31</td>\n",
       "      <td>375.10</td>\n",
       "      <td>1095</td>\n",
       "    </tr>\n",
       "    <tr>\n",
       "      <th>Promising</th>\n",
       "      <td>49.02</td>\n",
       "      <td>3.41</td>\n",
       "      <td>726.01</td>\n",
       "      <td>190</td>\n",
       "    </tr>\n",
       "    <tr>\n",
       "      <th>Outros</th>\n",
       "      <td>55.46</td>\n",
       "      <td>3.68</td>\n",
       "      <td>1131.74</td>\n",
       "      <td>2370</td>\n",
       "    </tr>\n",
       "    <tr>\n",
       "      <th>Top</th>\n",
       "      <td>7.97</td>\n",
       "      <td>15.53</td>\n",
       "      <td>7120.58</td>\n",
       "      <td>708</td>\n",
       "    </tr>\n",
       "  </tbody>\n",
       "</table>\n",
       "</div>"
      ],
      "text/plain": [
       "           Recency  Frequency  MonetaryValue  CustomerCount\n",
       "Segment                                                    \n",
       "At Risk     229.27       1.31         375.10           1095\n",
       "Promising    49.02       3.41         726.01            190\n",
       "Outros       55.46       3.68        1131.74           2370\n",
       "Top           7.97      15.53        7120.58            708"
      ]
     },
     "execution_count": 78,
     "metadata": {},
     "output_type": "execute_result"
    }
   ],
   "source": [
    "# criando matriz RFM \n",
    "rfm_matrix = rfm.groupby(\"Segment\").agg({\n",
    "    \"Recency\": \"mean\",\n",
    "    \"Frequency\": \"mean\",\n",
    "    \"MonetaryValue\": \"mean\",\n",
    "    \"CustomerID\": \"count\"\n",
    "}).rename(columns={\"CustomerID\": \"CustomerCount\"})\n",
    "\n",
    "# ordenando os segmentos pelo tamanho do segmento\n",
    "rfm_matrix = rfm_matrix.sort_values(by=\"MonetaryValue\", ascending=True)\n",
    "\n",
    "# arredondando os resultados para duas casas decimais\n",
    "rfm_matrix = rfm_matrix.round(2)\n",
    "\n",
    "rfm_matrix"
   ]
  },
  {
   "cell_type": "markdown",
   "metadata": {},
   "source": [
    "##### Matriz Normalizada"
   ]
  },
  {
   "cell_type": "code",
   "execution_count": 79,
   "metadata": {},
   "outputs": [
    {
     "data": {
      "text/html": [
       "<div>\n",
       "<style scoped>\n",
       "    .dataframe tbody tr th:only-of-type {\n",
       "        vertical-align: middle;\n",
       "    }\n",
       "\n",
       "    .dataframe tbody tr th {\n",
       "        vertical-align: top;\n",
       "    }\n",
       "\n",
       "    .dataframe thead th {\n",
       "        text-align: right;\n",
       "    }\n",
       "</style>\n",
       "<table border=\"1\" class=\"dataframe\">\n",
       "  <thead>\n",
       "    <tr style=\"text-align: right;\">\n",
       "      <th></th>\n",
       "      <th>Recency</th>\n",
       "      <th>Frequency</th>\n",
       "      <th>MonetaryValue</th>\n",
       "      <th>CustomerCount</th>\n",
       "    </tr>\n",
       "    <tr>\n",
       "      <th>Segment</th>\n",
       "      <th></th>\n",
       "      <th></th>\n",
       "      <th></th>\n",
       "      <th></th>\n",
       "    </tr>\n",
       "  </thead>\n",
       "  <tbody>\n",
       "    <tr>\n",
       "      <th>At Risk</th>\n",
       "      <td>1.00</td>\n",
       "      <td>0.00</td>\n",
       "      <td>0.00</td>\n",
       "      <td>1095</td>\n",
       "    </tr>\n",
       "    <tr>\n",
       "      <th>Promising</th>\n",
       "      <td>0.19</td>\n",
       "      <td>0.15</td>\n",
       "      <td>0.05</td>\n",
       "      <td>190</td>\n",
       "    </tr>\n",
       "    <tr>\n",
       "      <th>Outros</th>\n",
       "      <td>0.21</td>\n",
       "      <td>0.17</td>\n",
       "      <td>0.11</td>\n",
       "      <td>2370</td>\n",
       "    </tr>\n",
       "    <tr>\n",
       "      <th>Top</th>\n",
       "      <td>0.00</td>\n",
       "      <td>1.00</td>\n",
       "      <td>1.00</td>\n",
       "      <td>708</td>\n",
       "    </tr>\n",
       "  </tbody>\n",
       "</table>\n",
       "</div>"
      ],
      "text/plain": [
       "           Recency  Frequency  MonetaryValue  CustomerCount\n",
       "Segment                                                    \n",
       "At Risk       1.00       0.00           0.00           1095\n",
       "Promising     0.19       0.15           0.05            190\n",
       "Outros        0.21       0.17           0.11           2370\n",
       "Top           0.00       1.00           1.00            708"
      ]
     },
     "execution_count": 79,
     "metadata": {},
     "output_type": "execute_result"
    }
   ],
   "source": [
    "# separando as colunas que precisam ser normalizadas\n",
    "cols_to_normalize = ['Recency', 'Frequency', 'MonetaryValue']\n",
    "\n",
    "# inicializando MinMaxScaler\n",
    "scaler = MinMaxScaler()\n",
    "\n",
    "# normalizando\n",
    "rfm_matrix[cols_to_normalize] = scaler.fit_transform(rfm_matrix[cols_to_normalize])\n",
    "\n",
    "# arredondando os resultados para duas casas decimais\n",
    "rfm_matrix[cols_to_normalize] = rfm_matrix[cols_to_normalize].round(2)\n",
    "\n",
    "rfm_matrix"
   ]
  },
  {
   "cell_type": "markdown",
   "metadata": {},
   "source": [
    "#### 2.2.4. Heatmap"
   ]
  },
  {
   "cell_type": "code",
   "execution_count": 80,
   "metadata": {},
   "outputs": [
    {
     "data": {
      "image/png": "[encoded data removed]",
      "text/plain": [
       "<Figure size 1000x600 with 2 Axes>"
      ]
     },
     "metadata": {},
     "output_type": "display_data"
    }
   ],
   "source": [
    "# selecionar colunas\n",
    "rfm_matrix_score = rfm[['RecencyScore', 'FrequencyScore', 'MonetaryScore', 'Segment']]\n",
    "\n",
    "# agrupando por 'Segment' e calculando a média das pontuações\n",
    "grouped_scores = rfm_matrix_score.groupby('Segment').mean()\n",
    "\n",
    "# gerando heatmap\n",
    "plt.figure(figsize=(10, 6))\n",
    "sns.heatmap(grouped_scores, cmap='plasma', annot=False, fmt=\".2f\", linewidths=0.5)\n",
    "plt.title(\"Média das Pontuações por Segmento\")\n",
    "plt.xlabel(\"Métricas RFM\")\n",
    "plt.ylabel(\"Segmentos\")\n",
    "plt.show()"
   ]
  },
  {
   "cell_type": "markdown",
   "metadata": {},
   "source": [
    "### 2.3. K-Means"
   ]
  },
  {
   "cell_type": "markdown",
   "metadata": {},
   "source": [
    "#### 2.3.0. Normalização dos dados"
   ]
  },
  {
   "cell_type": "code",
   "execution_count": 81,
   "metadata": {},
   "outputs": [],
   "source": [
    "# selecionando colunas necessárias para o K-Means\n",
    "rfm_features = rfm[['Recency', 'Frequency', 'MonetaryValue']]"
   ]
  },
  {
   "cell_type": "code",
   "execution_count": 82,
   "metadata": {},
   "outputs": [],
   "source": [
    "# normalizando os valores das métricas\n",
    "scaler = MinMaxScaler()\n",
    "rfm_normalized = scaler.fit_transform(rfm_features)"
   ]
  },
  {
   "cell_type": "markdown",
   "metadata": {},
   "source": [
    "#### 2.3.1. Determinando número de clusters"
   ]
  },
  {
   "cell_type": "markdown",
   "metadata": {},
   "source": [
    "##### 2.3.1.1. Elbow Method"
   ]
  },
  {
   "cell_type": "code",
   "execution_count": 83,
   "metadata": {},
   "outputs": [
    {
     "data": {
      "image/png": "[encoded data removed]",
      "text/plain": [
       "<Figure size 1000x600 with 1 Axes>"
      ]
     },
     "metadata": {},
     "output_type": "display_data"
    }
   ],
   "source": [
    "# selecionando apenas as colunas numéricas (Recency, Frequency e MonetaryValue)\n",
    "rfm_numerical = rfm[['Recency', 'Frequency', 'MonetaryValue']]\n",
    "\n",
    "# lista para armazenar as inércias\n",
    "inertias = []\n",
    "\n",
    "# testando diferentes números de clusters\n",
    "for k in range(1, 11):\n",
    "    kmeans = KMeans(n_clusters=k, n_init=10, random_state=42)  # Define explicitamente n_init\n",
    "    kmeans.fit(rfm_numerical)\n",
    "    inertias.append(kmeans.inertia_)\n",
    "\n",
    "# plotando método Elbow\n",
    "plt.figure(figsize=(10, 6))\n",
    "plt.plot(range(1, 11), inertias, marker='o')\n",
    "plt.title('Método Elbow')\n",
    "plt.xlabel('Número de Clusters')\n",
    "plt.ylabel('Inércia')\n",
    "plt.show()"
   ]
  },
  {
   "cell_type": "markdown",
   "metadata": {},
   "source": [
    "##### 2.3.1.2. Silhouete Score"
   ]
  },
  {
   "cell_type": "code",
   "execution_count": 84,
   "metadata": {},
   "outputs": [
    {
     "data": {
      "image/png": "[encoded data removed]",
      "text/plain": [
       "<Figure size 800x500 with 1 Axes>"
      ]
     },
     "metadata": {},
     "output_type": "display_data"
    },
    {
     "name": "stdout",
     "output_type": "stream",
     "text": [
      "Número ideal de clusters (maior Silhouette Score): 2\n"
     ]
    }
   ],
   "source": [
    "# lista para armazenar os Silhouette Scores\n",
    "silhouette_scores = []\n",
    "\n",
    "# testando diferentes números de clusters\n",
    "for k in range(2, 11):  # Começa de 2 porque silhouette não é definido para k=1\n",
    "    kmeans = KMeans(n_clusters=k, n_init=10, random_state=42)\n",
    "    cluster_labels = kmeans.fit_predict(rfm_numerical)\n",
    "    score = silhouette_score(rfm_numerical, cluster_labels)\n",
    "    silhouette_scores.append(score)\n",
    "\n",
    "# plotando os Silhouette Scores\n",
    "plt.figure(figsize=(8, 5))\n",
    "plt.plot(range(2, 11), silhouette_scores, marker='o')\n",
    "plt.title('Silhouette Score para diferentes números de clusters')\n",
    "plt.xlabel('Número de Clusters')\n",
    "plt.ylabel('Silhouette Score')\n",
    "plt.show()\n",
    "\n",
    "# número ideal de clusters com base no maior Silhouette Score\n",
    "best_k = np.argmax(silhouette_scores) + 2  # +2 porque o range começa em 2\n",
    "print(f\"Número ideal de clusters (maior Silhouette Score): {best_k}\")\n"
   ]
  },
  {
   "cell_type": "markdown",
   "metadata": {},
   "source": [
    "#### 2.3.2. Segmentação"
   ]
  },
  {
   "cell_type": "code",
   "execution_count": 85,
   "metadata": {},
   "outputs": [],
   "source": [
    "# aplicando o K-Means\n",
    "kmeans = KMeans(n_clusters=3, random_state=50, n_init=10)\n",
    "rfm['Cluster'] = kmeans.fit_predict(rfm_normalized)"
   ]
  },
  {
   "cell_type": "code",
   "execution_count": 86,
   "metadata": {},
   "outputs": [
    {
     "name": "stdout",
     "output_type": "stream",
     "text": [
      "Centros dos clusters:\n",
      "      Recency  Frequency  MonetaryValue\n",
      "0   30.121834   6.429158    2535.022033\n",
      "1  294.577287   1.545741     403.327902\n",
      "2  152.013631   2.522924     754.936382\n",
      "\n",
      "Tamanho de cada cluster:\n",
      "Cluster\n",
      "0    2923\n",
      "2     806\n",
      "1     634\n",
      "Name: count, dtype: int64\n"
     ]
    }
   ],
   "source": [
    "# analisando os clusters\n",
    "cluster_centers = pd.DataFrame(scaler.inverse_transform(kmeans.cluster_centers_), \n",
    "                               columns=['Recency', 'Frequency', 'MonetaryValue'])\n",
    "cluster_sizes = rfm['Cluster'].value_counts()\n",
    "\n",
    "# exibindo informações\n",
    "print(\"Centros dos clusters:\")\n",
    "print(cluster_centers)\n",
    "print(\"\\nTamanho de cada cluster:\")\n",
    "print(cluster_sizes)"
   ]
  },
  {
   "cell_type": "code",
   "execution_count": 87,
   "metadata": {},
   "outputs": [
    {
     "data": {
      "image/png": "[encoded data removed]",
      "text/plain": [
       "<Figure size 1500x600 with 3 Axes>"
      ]
     },
     "metadata": {},
     "output_type": "display_data"
    }
   ],
   "source": [
    "# imprimindo boxplot para Recency, Frequency, MonetaryValue por segmento\n",
    "plt.figure(figsize=(15, 6))\n",
    "\n",
    "# Recency Boxplot\n",
    "plt.subplot(1, 3, 1)\n",
    "sns.boxplot(x='Cluster', y='Recency', data=rfm)\n",
    "plt.title('Boxplot - Recency por Segmento')\n",
    "plt.xticks\n",
    "\n",
    "# Frequency Boxplot\n",
    "plt.subplot(1, 3, 2)\n",
    "sns.boxplot(x='Cluster', y='Frequency', data=rfm)\n",
    "plt.title('Boxplot - Frequency por Segmento')\n",
    "plt.xticks\n",
    "\n",
    "# MonetaryValue Boxplot\n",
    "plt.subplot(1, 3, 3)\n",
    "sns.boxplot(x='Cluster', y='MonetaryValue', data=rfm)\n",
    "plt.title('Boxplot - Monetary Value por Segmento')\n",
    "plt.xticks\n",
    "\n",
    "plt.tight_layout()\n",
    "plt.show()\n"
   ]
  },
  {
   "cell_type": "markdown",
   "metadata": {},
   "source": [
    "##### 2.2.2.1. Gráficos"
   ]
  },
  {
   "cell_type": "markdown",
   "metadata": {},
   "source": [
    "###### **Recency vs Monetary Value**"
   ]
  },
  {
   "cell_type": "code",
   "execution_count": 88,
   "metadata": {},
   "outputs": [
    {
     "data": {
      "image/png": "[encoded data removed]",
      "text/plain": [
       "<Figure size 1000x600 with 1 Axes>"
      ]
     },
     "metadata": {},
     "output_type": "display_data"
    }
   ],
   "source": [
    "# adicionando as colunas de 'cluster' \n",
    "rfm['Cluster'] = kmeans.labels_\n",
    "\n",
    "# criando um gráfico de dispersão para visualizar os clusters\n",
    "plt.figure(figsize=(10, 6))\n",
    "sns.scatterplot(x='Recency', y='MonetaryValue', hue='Cluster', data=rfm, palette='viridis', s=100, alpha=0.7)\n",
    "\n",
    "# título e rótulos\n",
    "plt.title('Clusters de Clientes (Recency vs. Monetary Value)', fontsize=16)\n",
    "plt.xlabel('Recency', fontsize=12)\n",
    "plt.ylabel('MonetaryValue', fontsize=12)\n",
    "\n",
    "# exibindo a legenda\n",
    "plt.legend(title='Cluster', loc='upper right')\n",
    "\n",
    "# exibindo o gráfico\n",
    "plt.show()"
   ]
  },
  {
   "cell_type": "markdown",
   "metadata": {},
   "source": [
    "###### **Frequency vs Monetary Value**"
   ]
  },
  {
   "cell_type": "code",
   "execution_count": 89,
   "metadata": {},
   "outputs": [
    {
     "data": {
      "image/png": "[encoded data removed]",
      "text/plain": [
       "<Figure size 1000x600 with 1 Axes>"
      ]
     },
     "metadata": {},
     "output_type": "display_data"
    }
   ],
   "source": [
    "# adicionando as colunas de 'cluster' \n",
    "rfm['Cluster'] = kmeans.labels_\n",
    "\n",
    "# criando um gráfico de dispersão para visualizar os clusters\n",
    "plt.figure(figsize=(10, 6))\n",
    "sns.scatterplot(x='Frequency', y='MonetaryValue', hue='Cluster', data=rfm, palette='viridis', s=100, alpha=0.7)\n",
    "\n",
    "# título e rótulos\n",
    "plt.title('Clusters de Clientes (Frequency vs. Monetary Value)', fontsize=16)\n",
    "plt.xlabel('Frequency', fontsize=12)\n",
    "plt.ylabel('MonetaryValue', fontsize=12)\n",
    "\n",
    "# exibindo a legenda\n",
    "plt.legend(title='Cluster', loc='upper right')\n",
    "\n",
    "# exibindo o gráfico\n",
    "plt.show()"
   ]
  },
  {
   "cell_type": "markdown",
   "metadata": {},
   "source": [
    "###### **Recency vs Frequency**"
   ]
  },
  {
   "cell_type": "code",
   "execution_count": 90,
   "metadata": {},
   "outputs": [
    {
     "data": {
      "image/png": "[encoded data removed]",
      "text/plain": [
       "<Figure size 1000x600 with 1 Axes>"
      ]
     },
     "metadata": {},
     "output_type": "display_data"
    }
   ],
   "source": [
    "# adicionando as colunas de 'cluster' \n",
    "rfm['Cluster'] = kmeans.labels_\n",
    "\n",
    "# criando um gráfico de dispersão para visualizar os clusters\n",
    "plt.figure(figsize=(10, 6))\n",
    "sns.scatterplot(x='Recency', y='Frequency', hue='Cluster', data=rfm, palette='viridis', s=100, alpha=0.7)\n",
    "\n",
    "# título e rótulos\n",
    "plt.title('Clusters de Clientes (Recency vs. Frequency)', fontsize=16)\n",
    "plt.xlabel('Recency', fontsize=12)\n",
    "plt.ylabel('Frequency', fontsize=12)\n",
    "\n",
    "# exibindo a legenda\n",
    "plt.legend(title='Cluster', loc='upper right')\n",
    "\n",
    "# exibindo o gráfico\n",
    "plt.show()"
   ]
  },
  {
   "cell_type": "markdown",
   "metadata": {},
   "source": [
    "### 2.4. Análise dos segmentos"
   ]
  },
  {
   "cell_type": "markdown",
   "metadata": {},
   "source": [
    "**Segmentos Identificados**\n",
    "\n",
    "**1. Top**\n",
    "- **Características:**\n",
    "  - Melhor desempenho em Recency, Frequency e Monetary Value.\n",
    "  - Representa os clientes mais valiosos e engajados.\n",
    "- **Indicadores:**\n",
    "  - **Recency:** 7.97 (mais recente)\n",
    "  - **Frequency:** 15.53 (maior frequência)\n",
    "  - **Monetary Value:** 7120.58 (maior gasto médio)\n",
    "- **Tamanho:** 708 clientes.\n",
    "- **Ações Recomendadas:**\n",
    "  - Fidelização através de benefícios exclusivos, como programas de recompensa e descontos personalizados.\n",
    "  - Agradecimentos como e-mails personalizados ou brindes para consolidar a relação.\n",
    "\n",
    "**2. Promising**\n",
    "- **Características:**\n",
    "  - Bom potencial de crescimento, ainda em ascensão.\n",
    "- **Indicadores:**\n",
    "  - **Recency:** 49.02 (tempo razoavelmente curto desde a última compra)\n",
    "  - **Frequency:** 3.41\n",
    "  - **Monetary Value:** 726.01.\n",
    "- **Tamanho:** 190 clientes.\n",
    "- **Ações Recomendadas:**\n",
    "  - Enviar campanhas de marketing direcionadas para aumentar frequência e gasto médio.\n",
    "  - Oferecer incentivos como promoções limitadas para estimular mais compras.\n",
    "\n",
    "**3. At Risk**\n",
    "- **Características:**\n",
    "  - Clientes que fizeram compras há muito tempo e gastaram menos.\n",
    "  - Alto risco de perda.\n",
    "- **Indicadores:**\n",
    "  - **Recency:** 229.27 (alta, ou seja, tempo longo sem comprar)\n",
    "  - **Frequency:** 1.31\n",
    "  - **Monetary Value:** 375.10.\n",
    "- **Tamanho:** 1095 clientes.\n",
    "- **Ações Recomendadas:**\n",
    "  - Campanhas de reativação, como descontos em compras futuras.\n",
    "  - Contato por e-mail ou mensagens destacando novos produtos ou promoções.\n",
    "\n",
    "**4. Outros**\n",
    "- **Características:**\n",
    "  - Clientes com comportamento médio/heterogêneo, não destacados pelos outros critérios.\n",
    "- **Indicadores:**\n",
    "  - **Recency:** 55.46\n",
    "  - **Frequency:** 3.68\n",
    "  - **Monetary Value:** 1131.74.\n",
    "- **Tamanho:** 2370 clientes.\n",
    "- **Ações Recomendadas:**\n",
    "  - Explorar padrões de comportamento e promover campanhas de segmentação para tentar identificar potenciais de crescimento.\n",
    "\n",
    "---\n",
    "\n",
    "**Clusterização por K-Means**\n",
    "\n",
    "Os clusters também fornecem insights adicionais:\n",
    "\n",
    "- **Cluster 0 (Top performers):**\n",
    "  - Representa 2923 clientes com maior valor monetário médio.\n",
    "\n",
    "- **Cluster 1 (Clientes com alta Recency):**\n",
    "  - 634 clientes em risco de churn.\n",
    "\n",
    "- **Cluster 2 (Clientes medianos):**\n",
    "  - 806 clientes com performance estável, mas sem características extremas.\n"
   ]
  },
  {
   "cell_type": "markdown",
   "metadata": {},
   "source": [
    "## 3. Testes de hipóteses"
   ]
  },
  {
   "cell_type": "markdown",
   "metadata": {},
   "source": [
    "### 3.1. Hipótese 1: Valor monetário médio por segmento"
   ]
  },
  {
   "cell_type": "markdown",
   "metadata": {},
   "source": [
    "Hipótese Nula (H₀): O valor monetário médio (MonetaryValue) é igual entre os diferentes segmentos de clientes.  \n",
    "Hipótese Alternativa (H₁): Existe pelo menos uma diferença significativa no valor monetário médio entre os segmentos."
   ]
  },
  {
   "cell_type": "code",
   "execution_count": 91,
   "metadata": {},
   "outputs": [
    {
     "name": "stdout",
     "output_type": "stream",
     "text": [
      "Estatística F: 123.8699349645232\n",
      "P-valor: 5.398313873780952e-77\n",
      "Conclusão: Rejeitamos a hipótese nula. Existe uma diferença significativa no valor monetário médio entre os segmentos.\n"
     ]
    }
   ],
   "source": [
    "# agrupando MonetaryValue por segmento para realizar o teste ANOVA\n",
    "monetary_by_segment = rfm.groupby('Segment')['MonetaryValue'].apply(list)\n",
    "\n",
    "# realizando o teste ANOVA\n",
    "f_stat, p_value = stats.f_oneway(*monetary_by_segment)\n",
    "\n",
    "# definindo nível de significância\n",
    "alpha = 0.05\n",
    "\n",
    "# exibindo resultados e a conclusão\n",
    "print(f\"Estatística F: {f_stat}\")\n",
    "print(f\"P-valor: {p_value}\")\n",
    "\n",
    "if p_value < alpha:\n",
    "    print(\"Conclusão: Rejeitamos a hipótese nula. Existe uma diferença significativa no valor monetário médio entre os segmentos.\")\n",
    "else:\n",
    "    print(\"Conclusão: Não rejeitamos a hipótese nula. Não há evidências suficientes para afirmar que há diferença significativa no valor monetário médio entre os segmentos.\")"
   ]
  },
  {
   "cell_type": "markdown",
   "metadata": {},
   "source": [
    "### 3.2. Hipótese 2: Frequência de compra por segmento"
   ]
  },
  {
   "cell_type": "markdown",
   "metadata": {},
   "source": [
    "Hipótese Nula (H₀): A frequência média de compra (Frequency) é igual entre os segmentos.  \n",
    "Hipótese Alternativa (H₁): Existe pelo menos uma diferença significativa na frequência média de compra entre os segmentos."
   ]
  },
  {
   "cell_type": "code",
   "execution_count": 92,
   "metadata": {},
   "outputs": [
    {
     "name": "stdout",
     "output_type": "stream",
     "text": [
      "Estatística F (Frequência): 541.9306246524817\n",
      "P-valor (Frequência): 2.5366174684122633e-299\n",
      "Conclusão: Rejeitamos a hipótese nula. Existe uma diferença significativa na frequência de compra média entre os segmentos.\n"
     ]
    }
   ],
   "source": [
    "# agrupando Frequency por segmento para realizar o teste ANOVA\n",
    "frequency_by_segment = rfm.groupby('Segment')['Frequency'].apply(list)\n",
    "\n",
    "# realizando o teste ANOVA\n",
    "f_stat_frequency, p_value_frequency = stats.f_oneway(*frequency_by_segment)\n",
    "\n",
    "# definindo o nível de significância\n",
    "alpha = 0.05\n",
    "\n",
    "# exibindo resultados e a conclusão\n",
    "print(f\"Estatística F (Frequência): {f_stat_frequency}\")\n",
    "print(f\"P-valor (Frequência): {p_value_frequency}\")\n",
    "\n",
    "if p_value_frequency < alpha:\n",
    "    print(\"Conclusão: Rejeitamos a hipótese nula. Existe uma diferença significativa na frequência de compra média entre os segmentos.\")\n",
    "else:\n",
    "    print(\"Conclusão: Não rejeitamos a hipótese nula. Não há evidências suficientes para afirmar que há diferença significativa na frequência de compra média entre os segmentos.\")"
   ]
  },
  {
   "cell_type": "markdown",
   "metadata": {},
   "source": [
    "### 3.3. Hipótese 3: Recência média por segmento"
   ]
  },
  {
   "cell_type": "markdown",
   "metadata": {},
   "source": [
    "Hipótese Nula (H₀): O tempo médio desde a última compra (Recency) é igual entre os segmentos.  \n",
    "Hipótese Alternativa (H₁): Existe pelo menos uma diferença significativa no tempo médio desde a última compra entre os segmentos."
   ]
  },
  {
   "cell_type": "code",
   "execution_count": 93,
   "metadata": {},
   "outputs": [
    {
     "name": "stdout",
     "output_type": "stream",
     "text": [
      "Estatística F (Recência): 2771.7482830261356\n",
      "P-valor (Recência): 0.0\n",
      "Conclusão: Rejeitamos a hipótese nula. Existe uma diferença significativa na recência média entre os segmentos.\n"
     ]
    }
   ],
   "source": [
    "# agrupando Recency por segmento para realizar o teste ANOVA\n",
    "recency_by_segment = rfm.groupby('Segment')['Recency'].apply(list)\n",
    "\n",
    "# Realizando o teste ANOVA para comparar a recência média entre os segmentos\n",
    "f_stat_recency, p_value_recency = stats.f_oneway(*recency_by_segment)\n",
    "\n",
    "# definindo o nível de significância\n",
    "alpha = 0.05\n",
    "\n",
    "# exibindo resultados e a conclusão\n",
    "print(f\"Estatística F (Recência): {f_stat_recency}\")\n",
    "print(f\"P-valor (Recência): {p_value_recency}\")\n",
    "\n",
    "if p_value_recency < alpha:\n",
    "    print(\"Conclusão: Rejeitamos a hipótese nula. Existe uma diferença significativa na recência média entre os segmentos.\")\n",
    "else:\n",
    "    print(\"Conclusão: Não rejeitamos a hipótese nula. Não há evidências suficientes para afirmar que há diferença significativa na recência média entre os segmentos.\")"
   ]
  },
  {
   "cell_type": "markdown",
   "metadata": {},
   "source": [
    "### 3.4. Hipótese 4: Tamanho do segmento (proporções)"
   ]
  },
  {
   "cell_type": "markdown",
   "metadata": {},
   "source": [
    "Hipótese Nula (H₀): As proporções de clientes nos segmentos não diferem significativamente de uma distribuição uniforme.  \n",
    "Hipótese Alternativa (H₁): As proporções de clientes nos segmentos diferem significativamente de uma distribuição uniforme."
   ]
  },
  {
   "cell_type": "code",
   "execution_count": 94,
   "metadata": {},
   "outputs": [
    {
     "data": {
      "text/plain": [
       "Segment\n",
       "Outros       2370\n",
       "At Risk      1095\n",
       "Top           708\n",
       "Promising     190\n",
       "Name: count, dtype: int64"
      ]
     },
     "execution_count": 94,
     "metadata": {},
     "output_type": "execute_result"
    }
   ],
   "source": [
    "# contando o número de clientes por segmento\n",
    "segment_sizes = rfm['Segment'].value_counts()\n",
    "segment_sizes"
   ]
  },
  {
   "cell_type": "code",
   "execution_count": 95,
   "metadata": {},
   "outputs": [
    {
     "data": {
      "text/plain": [
       "4363"
      ]
     },
     "execution_count": 95,
     "metadata": {},
     "output_type": "execute_result"
    }
   ],
   "source": [
    "# número total de clientes\n",
    "total_customers = len(rfm)\n",
    "total_customers"
   ]
  },
  {
   "cell_type": "code",
   "execution_count": 96,
   "metadata": {},
   "outputs": [
    {
     "data": {
      "text/plain": [
       "Segment\n",
       "Outros       0.543204\n",
       "At Risk      0.250974\n",
       "Top          0.162274\n",
       "Promising    0.043548\n",
       "Name: count, dtype: float64"
      ]
     },
     "execution_count": 96,
     "metadata": {},
     "output_type": "execute_result"
    }
   ],
   "source": [
    "# proporções observadas (em relação ao total de clientes)\n",
    "observed_proportions = segment_sizes / total_customers\n",
    "observed_proportions"
   ]
  },
  {
   "cell_type": "code",
   "execution_count": 97,
   "metadata": {},
   "outputs": [
    {
     "name": "stdout",
     "output_type": "stream",
     "text": [
      "Estatística do qui-quadrado: 2378.498051799221\n",
      "P-valor: 0.0\n",
      "Conclusão: Rejeitamos a hipótese nula. A distribuição do tamanho dos segmentos é significativamente diferente da distribuição esperada (uniforme).\n"
     ]
    }
   ],
   "source": [
    "# definindo a distribuição esperada (caso houvesse uma distribuição uniforme)\n",
    "expected_proportions = np.array([1/4] * len(segment_sizes))\n",
    "\n",
    "# realizando o teste de qui-quadrado para comparar as proporções observadas e esperadas\n",
    "chi2_stat, p_value = stats.chisquare(segment_sizes, f_exp=expected_proportions * total_customers)\n",
    "\n",
    "# definindo o nível de significância\n",
    "alpha = 0.05\n",
    "\n",
    "# exibindo os resultados e a conclusão\n",
    "print(f\"Estatística do qui-quadrado: {chi2_stat}\")\n",
    "print(f\"P-valor: {p_value}\")\n",
    "\n",
    "if p_value < alpha:\n",
    "    print(\"Conclusão: Rejeitamos a hipótese nula. A distribuição do tamanho dos segmentos é significativamente diferente da distribuição esperada (uniforme).\")\n",
    "else:\n",
    "    print(\"Conclusão: Não rejeitamos a hipótese nula. Não há evidências suficientes para afirmar que a distribuição do tamanho dos segmentos seja diferente da distribuição esperada (uniforme).\")\n"
   ]
  },
  {
   "cell_type": "markdown",
   "metadata": {},
   "source": [
    "### 3.5. Hipótese 5: Impacto dos Segmentos nos Gastos Totais"
   ]
  },
  {
   "cell_type": "markdown",
   "metadata": {},
   "source": [
    "Hipótese Nula (H₀): O segmento de um cliente não afeta significativamente o gasto total (TotalValue).  \n",
    "Hipótese Alternativa (H₁): O segmento de um cliente afeta significativamente o gasto total (TotalValue)."
   ]
  },
  {
   "cell_type": "code",
   "execution_count": 98,
   "metadata": {},
   "outputs": [],
   "source": [
    "# agrupando os dados por segmento e calculando os gastos totais\n",
    "segment_gastos = rfm.groupby('Segment')['MonetaryValue'].mean()"
   ]
  },
  {
   "cell_type": "code",
   "execution_count": 99,
   "metadata": {},
   "outputs": [],
   "source": [
    "# dividindo os dados de acordo com os segmentos\n",
    "segment_data = [rfm[rfm['Segment'] == segment]['MonetaryValue'] for segment in rfm['Segment'].unique()]"
   ]
  },
  {
   "cell_type": "code",
   "execution_count": 100,
   "metadata": {},
   "outputs": [
    {
     "name": "stdout",
     "output_type": "stream",
     "text": [
      "Estatística F: 123.8699349645232\n",
      "P-valor: 5.398313873780952e-77\n",
      "Conclusão: Rejeitamos a hipótese nula. Há uma diferença significativa nos gastos totais entre os segmentos.\n"
     ]
    }
   ],
   "source": [
    "# realizando teste ANOVA \n",
    "f_stat, p_value = stats.f_oneway(*segment_data)\n",
    "\n",
    "# definindo o nível de significância\n",
    "alpha = 0.05\n",
    "\n",
    "# exibindo resultados e a conclusão\n",
    "print(f\"Estatística F: {f_stat}\")\n",
    "print(f\"P-valor: {p_value}\")\n",
    "\n",
    "if p_value < alpha:\n",
    "    print(\"Conclusão: Rejeitamos a hipótese nula. Há uma diferença significativa nos gastos totais entre os segmentos.\")\n",
    "else:\n",
    "    print(\"Conclusão: Não rejeitamos a hipótese nula. Não há diferença significativa nos gastos totais entre os segmentos.\")"
   ]
  },
  {
   "cell_type": "markdown",
   "metadata": {},
   "source": [
    "### 3.6. Conclusões"
   ]
  },
  {
   "cell_type": "markdown",
   "metadata": {},
   "source": [
    "Os testes confirmaram diferenças estatisticamente significativas entre os segmentos nos principais indicadores. Estes são os principais aprendizados para embasar as ações de marketing:\n",
    "\n",
    "**Valor Monetário Médio**\n",
    "- **Conclusão:** Existe uma diferença significativa entre os segmentos no gasto médio.\n",
    "- **Ação:** Direcionar ofertas mais atrativas para grupos como *Promising* e *At Risk*, enquanto mantém o alto nível de personalização para *Top*.\n",
    "\n",
    "**Frequência de Compras**\n",
    "- **Conclusão:** A frequência média de compras varia entre os segmentos.\n",
    "- **Ação:** Desenvolver incentivos para aumentar a frequência nos grupos *Promising* e *At Risk*. Para *Outros*, buscar identificar clientes com potencial de ascensão.\n",
    "\n",
    "**Recência**\n",
    "- **Conclusão:** A recência média também apresenta diferenças significativas.\n",
    "- **Ação:** Priorizar campanhas de reengajamento nos grupos com alta recência, especialmente *At Risk*. Promover interações regulares com clientes *Top*.\n",
    "\n",
    "**Distribuição de Segmentos**\n",
    "- **Conclusão:** Os tamanhos dos segmentos são desiguais.\n",
    "  - *Outros* é o maior segmento (54,32%), enquanto *Promising* é o menor (4,35%).\n",
    "- **Ação:** Investir em estratégias para mover clientes dos grupos *Outros* e *Promising* para categorias de maior valor (*Top*).\n"
   ]
  },
  {
   "cell_type": "markdown",
   "metadata": {},
   "source": [
    "## 4. Conclusões e diretrizes para o setor de marketing"
   ]
  },
  {
   "cell_type": "markdown",
   "metadata": {},
   "source": [
    "**Segmentação dos Consumidores**  \n",
    "Com base nos dados e análises realizadas, os segmentos identificados apresentam comportamentos distintos que demandam ações específicas. As diferenças significativas nos indicadores de *Recency*, *Frequency* e *Monetary Value* (confirmadas pelos testes estatísticos) reforçam a necessidade de estratégias direcionadas para cada grupo.\n",
    "\n",
    "**Top**\n",
    "- **Perfil:** Clientes mais valiosos e engajados.\n",
    "- **Estratégias:**\n",
    "  - **Fidelização:** Programas de recompensas exclusivos e personalizados para fortalecer a lealdade.\n",
    "  - **Reconhecimento:** Enviar e-mails de agradecimento e mimos, como brindes ou acesso antecipado a produtos.\n",
    "  - **Manutenção:** Monitorar constantemente a satisfação e criar experiências VIP.\n",
    "\n",
    "**Promising**\n",
    "- **Perfil:** Clientes com potencial de crescimento, em processo de ascensão.\n",
    "- **Estratégias:**\n",
    "  - **Engajamento:** Oferecer promoções limitadas para estimular frequência de compras.\n",
    "  - **Upselling:** Destacar produtos complementares ou de maior valor.\n",
    "  - **Educação:** Criar campanhas que mostrem os benefícios de fidelidade à marca.\n",
    "\n",
    "**At Risk**\n",
    "- **Perfil:** Clientes em risco de *churn*, com alta recência e baixa frequência.\n",
    "- **Estratégias:**\n",
    "  - **Reativação:** Enviar campanhas específicas com descontos agressivos ou ofertas exclusivas.\n",
    "  - **Redescoberta:** Promover novos produtos ou coleções que atendam às preferências anteriores.\n",
    "  - **Comunicação:** Enviar mensagens diretas (e-mails ou SMS) para recuperar a atenção.\n",
    "\n",
    "**Outros**\n",
    "- **Perfil:** Clientes medianos com comportamento heterogêneo.\n",
    "- **Estratégias:**\n",
    "  - **Exploração:** Investir em análises mais detalhadas para identificar padrões ocultos e oportunidades.\n",
    "  - **Diversificação:** Criar campanhas variadas, testando diferentes abordagens para aumentar engajamento e valor médio.\n",
    "\n",
    "---\n",
    "\n",
    "**Diretrizes Gerais**\n",
    "- **Alocação de Recursos:**\n",
    "  - Concentrar esforços em reter o grupo *Top*.\n",
    "  - Designar campanhas criativas e exclusivas para engajar *Promising*.\n",
    "  - Implementar ações rápidas para salvar clientes *At Risk*.\n",
    "\n",
    "- **Personalização:**\n",
    "  - Utilizar dados de histórico para personalizar mensagens e ofertas.\n",
    "  - Adotar ferramentas de automação que segmentem e ajustem campanhas automaticamente.\n",
    "\n",
    "- **Medição e Monitoramento:**\n",
    "  - Acompanhar continuamente os KPIs de *Recency*, *Frequency* e *Monetary Value* para avaliar o impacto das campanhas.\n",
    "  - Atualizar a segmentação periodicamente para refletir mudanças no comportamento dos clientes.\n",
    "\n",
    "Com essas estratégias, o setor de marketing poderá maximizar a retenção, engajamento e valor gerado pelos clientes em todos os segmentos.\n"
   ]
  },
  {
   "cell_type": "markdown",
   "metadata": {},
   "source": [
    "## 5. Referências bibliográficas"
   ]
  },
  {
   "cell_type": "markdown",
   "metadata": {},
   "source": [
    "PROVOST, Foster; FAWCETT, Tom. Data Science Para Negócios. São Paulo: Alta Books, 2016.  \n",
    "  \n",
    "BERRY, Michael J.A. ; LINOFF, Gordon S. Data Mining Techniques: For Marketing, Sales, and Customer Relationship Management. Indianapolis: Wiley Publishing, 2004.  \n",
    "  \n",
    "FARRIS, Paul W.; BENDLE, Neil T.; PFEIFER, Phillip E.; REIBSTEIN, David J. Marketing Metrics: The Manager's Guide to Measuring Marketing Performance. Upper Saddle River: Pearson Education, Inc.,2016.  \n",
    "  \n",
    "BRUNET, Olivier. Customer Segmentation K-Means Analysis. Disponível em: https://www.kaggle.com/code/obrunet/customer-segmentation-k-means-analysis. Acesso em: [26 de novembro de 2024].  \n",
    "  \n",
    "DEEPLAB, The. Exploring Customer Segmentation with RFM Analysis and K-Means Clustering. Disponível em: https://medium.com/thedeephub/exploring-customers-segmentation-with-rfm-analysis-and-k-means-clustering-118f9ffcd9f0. Acesso em: [26 de novembro de 2024].  \n",
    "  \n",
    "DATACAMP. Recency, Frequency and Monetary Value Analysis. Disponível em: https://campus.datacamp.com/courses/customer-segmentation-in-python/recency-frequency-and-monetary-value-analysis?ex=1. Acesso em: [26 de novembro de 2024].  \n"
   ]
  }
 ],
 "metadata": {
  "kernelspec": {
   "display_name": "base",
   "language": "python",
   "name": "python3"
  },
  "language_info": {
   "codemirror_mode": {
    "name": "ipython",
    "version": 3
   },
   "file_extension": ".py",
   "mimetype": "text/x-python",
   "name": "python",
   "nbconvert_exporter": "python",
   "pygments_lexer": "ipython3",
   "version": "3.11.7"
  }
 },
 "nbformat": 4,
 "nbformat_minor": 2
}
